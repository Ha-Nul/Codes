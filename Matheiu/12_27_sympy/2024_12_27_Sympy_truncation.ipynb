{
 "cells": [
  {
   "cell_type": "code",
   "execution_count": 1,
   "metadata": {},
   "outputs": [],
   "source": [
    "import numpy as np\n",
    "import scipy as sp\n",
    "import sympy as sy\n",
    "import matplotlib.pyplot as plt\n",
    "\n",
    "from sympy import *\n",
    "#init_printing()"
   ]
  },
  {
   "cell_type": "code",
   "execution_count": 2,
   "metadata": {},
   "outputs": [],
   "source": [
    "a = sy.symbols('a')\n",
    "b = sy.symbols('b')\n",
    "#c = sy.symbols('c')\n",
    "d = sy.symbols('d')\n",
    "x = sy.symbols('x')"
   ]
  },
  {
   "attachments": {},
   "cell_type": "markdown",
   "metadata": {},
   "source": [
    "Inverse structure check"
   ]
  },
  {
   "cell_type": "code",
   "execution_count": 3,
   "metadata": {},
   "outputs": [],
   "source": [
    "Mat = sy.Matrix([[a, -a**0.5],[-a**0.5,2]])\n",
    "\n",
    "Eigvec = Mat.eigenvects()\n",
    "Eigval = Mat.eigenvals()\n",
    "Inver = Mat.inv()"
   ]
  },
  {
   "cell_type": "code",
   "execution_count": 11,
   "metadata": {},
   "outputs": [
    {
     "data": {
      "text/latex": [
       "$\\displaystyle 0.5 a - 1.0 \\left(0.25 a^{2} + 1\\right)^{0.5} + 1.0$"
      ],
      "text/plain": [
       "0.5*a - 1.0*(0.25*a**2 + 1)**0.5 + 1.0"
      ]
     },
     "execution_count": 11,
     "metadata": {},
     "output_type": "execute_result"
    }
   ],
   "source": [
    "Eigvec[0][0]"
   ]
  },
  {
   "attachments": {},
   "cell_type": "markdown",
   "metadata": {},
   "source": [
    "D^-1 A D^(-T) structure check"
   ]
  },
  {
   "cell_type": "code",
   "execution_count": 5,
   "metadata": {},
   "outputs": [
    {
     "ename": "NameError",
     "evalue": "name 'c' is not defined",
     "output_type": "error",
     "traceback": [
      "\u001b[0;31m---------------------------------------------------------------------------\u001b[0m",
      "\u001b[0;31mNameError\u001b[0m                                 Traceback (most recent call last)",
      "Cell \u001b[0;32mIn[5], line 2\u001b[0m\n\u001b[1;32m      1\u001b[0m Mat2 \u001b[39m=\u001b[39m sy\u001b[39m.\u001b[39mMatrix([[\u001b[39m1\u001b[39m,\u001b[39m0\u001b[39m,\u001b[39m0\u001b[39m],[\u001b[39m0\u001b[39m,a,b],[\u001b[39m0\u001b[39m,b,a]])\n\u001b[0;32m----> 2\u001b[0m Mat3 \u001b[39m=\u001b[39m sy\u001b[39m.\u001b[39mMatrix([[c,c,\u001b[39m0\u001b[39m],[c,d,\u001b[39m0\u001b[39m],[\u001b[39m0\u001b[39m,\u001b[39m0\u001b[39m,x]])\n\u001b[1;32m      4\u001b[0m Inver2 \u001b[39m=\u001b[39m Mat2\u001b[39m.\u001b[39minv()\n\u001b[1;32m      5\u001b[0m Invtrans \u001b[39m=\u001b[39m Inver2\u001b[39m.\u001b[39mtranspose()\n",
      "\u001b[0;31mNameError\u001b[0m: name 'c' is not defined"
     ]
    }
   ],
   "source": [
    "Mat2 = sy.Matrix([[1,0,0],[0,a,b],[0,b,a]])\n",
    "Mat3 = sy.Matrix([[c,c,0],[c,d,0],[0,0,x]])\n",
    "\n",
    "Inver2 = Mat2.inv()\n",
    "Invtrans = Inver2.transpose()\n",
    "\n",
    "Mult = Inver2 * Mat3 * Invtrans"
   ]
  },
  {
   "cell_type": "code",
   "execution_count": null,
   "metadata": {},
   "outputs": [
    {
     "data": {
      "text/latex": [
       "$\\displaystyle \\left[\\begin{matrix}c & \\frac{a c}{a^{2} - b^{2}} & - \\frac{b c}{a^{2} - b^{2}}\\\\\\frac{a c}{a^{2} - b^{2}} & \\frac{a^{2} d}{\\left(a^{2} - b^{2}\\right)^{2}} + \\frac{b^{2} x}{\\left(a^{2} - b^{2}\\right)^{2}} & - \\frac{a b d}{\\left(a^{2} - b^{2}\\right)^{2}} - \\frac{a b x}{\\left(a^{2} - b^{2}\\right)^{2}}\\\\- \\frac{b c}{a^{2} - b^{2}} & - \\frac{a b d}{\\left(a^{2} - b^{2}\\right)^{2}} - \\frac{a b x}{\\left(a^{2} - b^{2}\\right)^{2}} & \\frac{a^{2} x}{\\left(a^{2} - b^{2}\\right)^{2}} + \\frac{b^{2} d}{\\left(a^{2} - b^{2}\\right)^{2}}\\end{matrix}\\right]$"
      ],
      "text/plain": [
       "⎡                    a⋅c                       -b⋅c           ⎤\n",
       "⎢   c              ───────                    ───────         ⎥\n",
       "⎢                   2    2                     2    2         ⎥\n",
       "⎢                  a  - b                     a  - b          ⎥\n",
       "⎢                                                             ⎥\n",
       "⎢              2            2                                 ⎥\n",
       "⎢  a⋅c        a ⋅d         b ⋅x          a⋅b⋅d        a⋅b⋅x   ⎥\n",
       "⎢───────   ────────── + ──────────   - ────────── - ──────────⎥\n",
       "⎢ 2    2            2            2              2            2⎥\n",
       "⎢a  - b    ⎛ 2    2⎞    ⎛ 2    2⎞      ⎛ 2    2⎞    ⎛ 2    2⎞ ⎥\n",
       "⎢          ⎝a  - b ⎠    ⎝a  - b ⎠      ⎝a  - b ⎠    ⎝a  - b ⎠ ⎥\n",
       "⎢                                                             ⎥\n",
       "⎢                                         2            2      ⎥\n",
       "⎢ -b⋅c        a⋅b⋅d        a⋅b⋅x         a ⋅x         b ⋅d    ⎥\n",
       "⎢───────  - ────────── - ──────────   ────────── + ────────── ⎥\n",
       "⎢ 2    2             2            2            2            2 ⎥\n",
       "⎢a  - b     ⎛ 2    2⎞    ⎛ 2    2⎞    ⎛ 2    2⎞    ⎛ 2    2⎞  ⎥\n",
       "⎣           ⎝a  - b ⎠    ⎝a  - b ⎠    ⎝a  - b ⎠    ⎝a  - b ⎠  ⎦"
      ]
     },
     "execution_count": 23,
     "metadata": {},
     "output_type": "execute_result"
    }
   ],
   "source": [
    "Mult"
   ]
  },
  {
   "attachments": {},
   "cell_type": "markdown",
   "metadata": {},
   "source": [
    "D^-1 A D^(-T) calculation"
   ]
  },
  {
   "cell_type": "code",
   "execution_count": 6,
   "metadata": {},
   "outputs": [],
   "source": [
    "Cj = sy.symbols('Cj')\n",
    "Cp = sy.symbols('Cp')\n",
    "cx = sy.symbols('cx')\n",
    "p, p1, p2 = sy.symbols('p p1 p2')\n",
    "\n",
    "Dmat = sy.Matrix([[1,0,0],[0,Eigvec[0][2][0][0],Eigvec[1][2][0][0]],[0,Eigvec[0][2][0][1],Eigvec[1][2][0][1]]])\n",
    "Dinv = Dmat.inv()\n",
    "\n",
    "A = sy.Matrix([[Cj,Cj,0],[Cj,Cp,0],[0,0,1/cx]])\n",
    "\n",
    "Pvec = sy.Matrix([p,p1,p2])\n",
    "PvecT = Pvec.transpose()\n"
   ]
  },
  {
   "cell_type": "code",
   "execution_count": 7,
   "metadata": {},
   "outputs": [],
   "source": [
    "DADval = PvecT * Dinv * A * Dmat * Pvec"
   ]
  },
  {
   "cell_type": "code",
   "execution_count": 8,
   "metadata": {},
   "outputs": [
    {
     "data": {
      "text/latex": [
       "$\\displaystyle \\left[\\begin{matrix}p \\left(Cj p + Cj \\left(\\frac{1.0 p_{1} \\left(- 0.5 a^{0.5} \\left(0.25 a^{2} + 1\\right)^{0.5} + 0.5 a^{0.5} \\left(0.25 a^{2} + 1\\right)^{1.5} + 0.5 a^{1.5} \\left(0.25 a^{2} + 1\\right)^{0.5} - 0.125 a^{2.5} \\left(0.25 a^{2} + 1\\right)^{0.5}\\right)}{a^{1.0} \\left(0.25 a^{2} + 1\\right)^{1.0}} + \\frac{1.0 p_{2} \\left(0.5 a^{0.5} \\left(0.25 a^{2} + 1\\right)^{0.5} - 0.5 a^{0.5} \\left(0.25 a^{2} + 1\\right)^{1.5} - 0.5 a^{1.5} \\left(0.25 a^{2} + 1\\right)^{0.5} + 0.125 a^{2.5} \\left(0.25 a^{2} + 1\\right)^{0.5}\\right)}{a^{1.0} \\left(0.25 a^{2} + 1\\right)^{1.0}}\\right)\\right) + p_{1} \\left(\\frac{2.0 a^{0.5} \\left(Cj p + Cp \\left(\\frac{1.0 p_{1} \\left(- 0.5 a^{0.5} \\left(0.25 a^{2} + 1\\right)^{0.5} + 0.5 a^{0.5} \\left(0.25 a^{2} + 1\\right)^{1.5} + 0.5 a^{1.5} \\left(0.25 a^{2} + 1\\right)^{0.5} - 0.125 a^{2.5} \\left(0.25 a^{2} + 1\\right)^{0.5}\\right)}{a^{1.0} \\left(0.25 a^{2} + 1\\right)^{1.0}} + \\frac{1.0 p_{2} \\left(0.5 a^{0.5} \\left(0.25 a^{2} + 1\\right)^{0.5} - 0.5 a^{0.5} \\left(0.25 a^{2} + 1\\right)^{1.5} - 0.5 a^{1.5} \\left(0.25 a^{2} + 1\\right)^{0.5} + 0.125 a^{2.5} \\left(0.25 a^{2} + 1\\right)^{0.5}\\right)}{a^{1.0} \\left(0.25 a^{2} + 1\\right)^{1.0}}\\right)\\right)}{a + 2.0 \\left(0.25 a^{2} + 1\\right)^{0.5} - 2.0} + \\frac{1.0 \\left(\\frac{p_{1} \\left(8.0 a^{0.5} \\left(0.25 a^{2} + 1\\right)^{0.5} - 8.0 a^{0.5} \\left(0.25 a^{2} + 1\\right)^{1.5} + 4.0 a^{0.5} \\left(0.25 a^{2} + 1\\right)^{2.0} - 4.0 a^{0.5} - 12.0 a^{1.5} \\left(0.25 a^{2} + 1\\right)^{0.5} + 4.0 a^{1.5} \\left(0.25 a^{2} + 1\\right)^{1.5} + 8.0 a^{1.5} + 6.0 a^{2.5} \\left(0.25 a^{2} + 1\\right)^{0.5} - 6.0 a^{2.5} - 1.0 a^{3.5} \\left(0.25 a^{2} + 1\\right)^{0.5} + 2.0 a^{3.5} - 0.25 a^{4.5}\\right)}{8.0 a^{0.5} \\left(0.25 a^{2} + 1\\right)^{0.5} - 8.0 a^{0.5} \\left(0.25 a^{2} + 1\\right)^{1.0} - 8.0 a^{0.5} \\left(0.25 a^{2} + 1\\right)^{1.5} + 8.0 a^{0.5} \\left(0.25 a^{2} + 1\\right)^{2.0} - 12.0 a^{1.5} \\left(0.25 a^{2} + 1\\right)^{0.5} + 8.0 a^{1.5} \\left(0.25 a^{2} + 1\\right)^{1.0} + 4.0 a^{1.5} \\left(0.25 a^{2} + 1\\right)^{1.5} + 6.0 a^{2.5} \\left(0.25 a^{2} + 1\\right)^{0.5} - 2.0 a^{2.5} \\left(0.25 a^{2} + 1\\right)^{1.0} - 1.0 a^{3.5} \\left(0.25 a^{2} + 1\\right)^{0.5}} + \\frac{p_{2} \\left(- 0.25 a^{2} + 1.0 a + 1.0 \\left(0.25 a^{2} + 1\\right)^{1.0} - 1.0\\right)}{1.0 a \\left(0.25 a^{2} + 1\\right)^{0.5} - 2.0 \\left(0.25 a^{2} + 1\\right)^{0.5} + 2.0 \\left(0.25 a^{2} + 1\\right)^{1.0}}\\right)}{cx}\\right) + p_{2} \\left(\\frac{2.0 a^{0.5} \\left(Cj p + Cp \\left(\\frac{1.0 p_{1} \\left(- 0.5 a^{0.5} \\left(0.25 a^{2} + 1\\right)^{0.5} + 0.5 a^{0.5} \\left(0.25 a^{2} + 1\\right)^{1.5} + 0.5 a^{1.5} \\left(0.25 a^{2} + 1\\right)^{0.5} - 0.125 a^{2.5} \\left(0.25 a^{2} + 1\\right)^{0.5}\\right)}{a^{1.0} \\left(0.25 a^{2} + 1\\right)^{1.0}} + \\frac{1.0 p_{2} \\left(0.5 a^{0.5} \\left(0.25 a^{2} + 1\\right)^{0.5} - 0.5 a^{0.5} \\left(0.25 a^{2} + 1\\right)^{1.5} - 0.5 a^{1.5} \\left(0.25 a^{2} + 1\\right)^{0.5} + 0.125 a^{2.5} \\left(0.25 a^{2} + 1\\right)^{0.5}\\right)}{a^{1.0} \\left(0.25 a^{2} + 1\\right)^{1.0}}\\right)\\right)}{a - 2.0 \\left(0.25 a^{2} + 1\\right)^{0.5} - 2.0} + \\frac{1.0 \\left(\\frac{p_{1} \\left(8.0 a^{0.5} \\left(0.25 a^{2} + 1\\right)^{0.5} - 8.0 a^{0.5} \\left(0.25 a^{2} + 1\\right)^{1.5} + 4.0 a^{0.5} \\left(0.25 a^{2} + 1\\right)^{2.0} - 4.0 a^{0.5} - 12.0 a^{1.5} \\left(0.25 a^{2} + 1\\right)^{0.5} + 4.0 a^{1.5} \\left(0.25 a^{2} + 1\\right)^{1.5} + 8.0 a^{1.5} + 6.0 a^{2.5} \\left(0.25 a^{2} + 1\\right)^{0.5} - 6.0 a^{2.5} - 1.0 a^{3.5} \\left(0.25 a^{2} + 1\\right)^{0.5} + 2.0 a^{3.5} - 0.25 a^{4.5}\\right)}{8.0 a^{0.5} \\left(0.25 a^{2} + 1\\right)^{0.5} - 8.0 a^{0.5} \\left(0.25 a^{2} + 1\\right)^{1.0} - 8.0 a^{0.5} \\left(0.25 a^{2} + 1\\right)^{1.5} + 8.0 a^{0.5} \\left(0.25 a^{2} + 1\\right)^{2.0} - 12.0 a^{1.5} \\left(0.25 a^{2} + 1\\right)^{0.5} + 8.0 a^{1.5} \\left(0.25 a^{2} + 1\\right)^{1.0} + 4.0 a^{1.5} \\left(0.25 a^{2} + 1\\right)^{1.5} + 6.0 a^{2.5} \\left(0.25 a^{2} + 1\\right)^{0.5} - 2.0 a^{2.5} \\left(0.25 a^{2} + 1\\right)^{1.0} - 1.0 a^{3.5} \\left(0.25 a^{2} + 1\\right)^{0.5}} + \\frac{p_{2} \\left(- 0.25 a^{2} + 1.0 a + 1.0 \\left(0.25 a^{2} + 1\\right)^{1.0} - 1.0\\right)}{1.0 a \\left(0.25 a^{2} + 1\\right)^{0.5} - 2.0 \\left(0.25 a^{2} + 1\\right)^{0.5} + 2.0 \\left(0.25 a^{2} + 1\\right)^{1.0}}\\right)}{cx}\\right)\\end{matrix}\\right]$"
      ],
      "text/plain": [
       "Matrix([[p*(Cj*p + Cj*(1.0*p1*(-0.5*a**0.5*(0.25*a**2 + 1)**0.5 + 0.5*a**0.5*(0.25*a**2 + 1)**1.5 + 0.5*a**1.5*(0.25*a**2 + 1)**0.5 - 0.125*a**2.5*(0.25*a**2 + 1)**0.5)/(a**1.0*(0.25*a**2 + 1)**1.0) + 1.0*p2*(0.5*a**0.5*(0.25*a**2 + 1)**0.5 - 0.5*a**0.5*(0.25*a**2 + 1)**1.5 - 0.5*a**1.5*(0.25*a**2 + 1)**0.5 + 0.125*a**2.5*(0.25*a**2 + 1)**0.5)/(a**1.0*(0.25*a**2 + 1)**1.0))) + p1*(2.0*a**0.5*(Cj*p + Cp*(1.0*p1*(-0.5*a**0.5*(0.25*a**2 + 1)**0.5 + 0.5*a**0.5*(0.25*a**2 + 1)**1.5 + 0.5*a**1.5*(0.25*a**2 + 1)**0.5 - 0.125*a**2.5*(0.25*a**2 + 1)**0.5)/(a**1.0*(0.25*a**2 + 1)**1.0) + 1.0*p2*(0.5*a**0.5*(0.25*a**2 + 1)**0.5 - 0.5*a**0.5*(0.25*a**2 + 1)**1.5 - 0.5*a**1.5*(0.25*a**2 + 1)**0.5 + 0.125*a**2.5*(0.25*a**2 + 1)**0.5)/(a**1.0*(0.25*a**2 + 1)**1.0)))/(a + 2.0*(0.25*a**2 + 1)**0.5 - 2.0) + 1.0*(p1*(8.0*a**0.5*(0.25*a**2 + 1)**0.5 - 8.0*a**0.5*(0.25*a**2 + 1)**1.5 + 4.0*a**0.5*(0.25*a**2 + 1)**2.0 - 4.0*a**0.5 - 12.0*a**1.5*(0.25*a**2 + 1)**0.5 + 4.0*a**1.5*(0.25*a**2 + 1)**1.5 + 8.0*a**1.5 + 6.0*a**2.5*(0.25*a**2 + 1)**0.5 - 6.0*a**2.5 - 1.0*a**3.5*(0.25*a**2 + 1)**0.5 + 2.0*a**3.5 - 0.25*a**4.5)/(8.0*a**0.5*(0.25*a**2 + 1)**0.5 - 8.0*a**0.5*(0.25*a**2 + 1)**1.0 - 8.0*a**0.5*(0.25*a**2 + 1)**1.5 + 8.0*a**0.5*(0.25*a**2 + 1)**2.0 - 12.0*a**1.5*(0.25*a**2 + 1)**0.5 + 8.0*a**1.5*(0.25*a**2 + 1)**1.0 + 4.0*a**1.5*(0.25*a**2 + 1)**1.5 + 6.0*a**2.5*(0.25*a**2 + 1)**0.5 - 2.0*a**2.5*(0.25*a**2 + 1)**1.0 - 1.0*a**3.5*(0.25*a**2 + 1)**0.5) + p2*(-0.25*a**2 + 1.0*a + 1.0*(0.25*a**2 + 1)**1.0 - 1.0)/(1.0*a*(0.25*a**2 + 1)**0.5 - 2.0*(0.25*a**2 + 1)**0.5 + 2.0*(0.25*a**2 + 1)**1.0))/cx) + p2*(2.0*a**0.5*(Cj*p + Cp*(1.0*p1*(-0.5*a**0.5*(0.25*a**2 + 1)**0.5 + 0.5*a**0.5*(0.25*a**2 + 1)**1.5 + 0.5*a**1.5*(0.25*a**2 + 1)**0.5 - 0.125*a**2.5*(0.25*a**2 + 1)**0.5)/(a**1.0*(0.25*a**2 + 1)**1.0) + 1.0*p2*(0.5*a**0.5*(0.25*a**2 + 1)**0.5 - 0.5*a**0.5*(0.25*a**2 + 1)**1.5 - 0.5*a**1.5*(0.25*a**2 + 1)**0.5 + 0.125*a**2.5*(0.25*a**2 + 1)**0.5)/(a**1.0*(0.25*a**2 + 1)**1.0)))/(a - 2.0*(0.25*a**2 + 1)**0.5 - 2.0) + 1.0*(p1*(8.0*a**0.5*(0.25*a**2 + 1)**0.5 - 8.0*a**0.5*(0.25*a**2 + 1)**1.5 + 4.0*a**0.5*(0.25*a**2 + 1)**2.0 - 4.0*a**0.5 - 12.0*a**1.5*(0.25*a**2 + 1)**0.5 + 4.0*a**1.5*(0.25*a**2 + 1)**1.5 + 8.0*a**1.5 + 6.0*a**2.5*(0.25*a**2 + 1)**0.5 - 6.0*a**2.5 - 1.0*a**3.5*(0.25*a**2 + 1)**0.5 + 2.0*a**3.5 - 0.25*a**4.5)/(8.0*a**0.5*(0.25*a**2 + 1)**0.5 - 8.0*a**0.5*(0.25*a**2 + 1)**1.0 - 8.0*a**0.5*(0.25*a**2 + 1)**1.5 + 8.0*a**0.5*(0.25*a**2 + 1)**2.0 - 12.0*a**1.5*(0.25*a**2 + 1)**0.5 + 8.0*a**1.5*(0.25*a**2 + 1)**1.0 + 4.0*a**1.5*(0.25*a**2 + 1)**1.5 + 6.0*a**2.5*(0.25*a**2 + 1)**0.5 - 2.0*a**2.5*(0.25*a**2 + 1)**1.0 - 1.0*a**3.5*(0.25*a**2 + 1)**0.5) + p2*(-0.25*a**2 + 1.0*a + 1.0*(0.25*a**2 + 1)**1.0 - 1.0)/(1.0*a*(0.25*a**2 + 1)**0.5 - 2.0*(0.25*a**2 + 1)**0.5 + 2.0*(0.25*a**2 + 1)**1.0))/cx)]])"
      ]
     },
     "execution_count": 8,
     "metadata": {},
     "output_type": "execute_result"
    }
   ],
   "source": [
    "DADval"
   ]
  },
  {
   "cell_type": "code",
   "execution_count": 4,
   "metadata": {},
   "outputs": [],
   "source": [
    "def plot_eigenvalues(eigvals, a_range):\n",
    "    a_vals = np.linspace(a_range[0], a_range[1], 1000)\n",
    "    eig1 = [eigvals[0].subs(a, val).evalf() for val in a_vals]\n",
    "    eig2 = [eigvals[1].subs(a, val).evalf() for val in a_vals]\n",
    "    \n",
    "    plt.figure(figsize=(10, 6))\n",
    "    plt.plot(a_vals, eig1, label='Eigenvalue 1')\n",
    "    plt.plot(a_vals, eig2, label='Eigenvalue 2')\n",
    "    plt.xlabel('a')\n",
    "    plt.ylabel('Eigenvalue')\n",
    "    plt.title('Eigenvalues as a function of a')\n",
    "    plt.legend()\n",
    "    plt.grid(True)\n",
    "    plt.show()\n"
   ]
  }
 ],
 "metadata": {
  "kernelspec": {
   "display_name": "base",
   "language": "python",
   "name": "python3"
  },
  "language_info": {
   "codemirror_mode": {
    "name": "ipython",
    "version": 3
   },
   "file_extension": ".py",
   "mimetype": "text/x-python",
   "name": "python",
   "nbconvert_exporter": "python",
   "pygments_lexer": "ipython3",
   "version": "3.12.4"
  },
  "orig_nbformat": 4
 },
 "nbformat": 4,
 "nbformat_minor": 2
}
