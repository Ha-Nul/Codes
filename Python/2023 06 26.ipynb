{
 "cells": [
  {
   "cell_type": "code",
   "execution_count": 47,
   "metadata": {},
   "outputs": [
    {
     "name": "stdout",
     "output_type": "stream",
     "text": [
      "Aa0aPAf985Bz1EhCz2W3D1gkD6x\n"
     ]
    }
   ],
   "source": [
    "a = []\n",
    "for i in range(5):\n",
    "    b = str(input())\n",
    "    a.append(b)\n",
    "\n",
    "f = []\n",
    "\n",
    "c = len(a)\n",
    "d = max([len(i) for i in a])\n",
    "\n",
    "for j in range(d):\n",
    "    tmp = []\n",
    "    for k in range(c):\n",
    "        try:\n",
    "            tmp.append(a[k][j])\n",
    "        except:\n",
    "            None\n",
    "    f.append(tmp)\n",
    "\n",
    "g = []\n",
    "\n",
    "for l in f[:]:\n",
    "    for m in l:\n",
    "        g.append(m)\n",
    "\n",
    "h = ''.join(str(n) for n in g)\n",
    "\n",
    "print(h)"
   ]
  },
  {
   "cell_type": "code",
   "execution_count": null,
   "metadata": {},
   "outputs": [],
   "source": [
    "nnnnnnnnn"
   ]
  }
 ],
 "metadata": {
  "kernelspec": {
   "display_name": "Workspace",
   "language": "python",
   "name": "python3"
  },
  "language_info": {
   "codemirror_mode": {
    "name": "ipython",
    "version": 3
   },
   "file_extension": ".py",
   "mimetype": "text/x-python",
   "name": "python",
   "nbconvert_exporter": "python",
   "pygments_lexer": "ipython3",
   "version": "3.10.11"
  },
  "orig_nbformat": 4
 },
 "nbformat": 4,
 "nbformat_minor": 2
}
