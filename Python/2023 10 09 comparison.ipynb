{
 "cells": [
  {
   "cell_type": "code",
   "execution_count": 6,
   "metadata": {},
   "outputs": [],
   "source": [
    "ALL_SPACES = list('123456789')\n",
    "X,O,BLANK = 'X','O',' '\n",
    "\n",
    "def main():\n",
    "    print('틱택토  게임에 오신 당신을 환영합니다!')\n",
    "    gameBoard = getBlankBoard()\n",
    "    currentPlayer, nextPlayer = X, O\n",
    "\n",
    "    while true:\n",
    "        print(getBoardsStr(gameBoard))\n",
    "\n",
    "        move = 0\n",
    "        while not isValidSpace(gameboard,move):\n",
    "            print(f'{currentPlayer}의 움직임은?(1-9)')\n",
    "            move = input()\n",
    "        updateBoard(gameBoard, move, currentPlayer)\n",
    "\n",
    "        if isWInner(gameBoard, currentPlayer):\n",
    "            print(gettBoardStr(gameBoard))\n",
    "            print(currenyPlayer + '가 승리했습니다!')\n",
    "            break\n",
    "        elif isBoardfull(gameBoard):\n",
    "            print(getBoardStr(gameBoard))\n",
    "            print('무승부 게임입니다!')\n",
    "            break\n",
    "        currentPlayer, nextPlayer\n",
    "    print('즐겁게 퍼즐을 풀어주셔서 감사합니다!')\n",
    "\n",
    "def getBlankBoard():\n",
    "        \"\"\"비어있는 새 틱택토 말판을 생성한다.\"\"\"\n",
    "        return f'''\n",
    "        {board['1']}|{board['2']}|{board['3']} 1 2 3\n",
    "        -+-+-\n",
    "        {board['4']}|{board['5']}|{board['6']} 4 5 6\n",
    "        -+-+-\n",
    "        {board['7']}|{board['8']}|{board['9']} 7 8 9 '''\n",
    "\n",
    "def isValidSpace(board, space):\n",
    "     \"\"\"boarddml .space가 유효한 칸 번호이며, 그 칸이 비어 있을 경우 True를 반환한다.\"\"\"\n",
    "     return 0 < int(space) < 10 and (space in ALL_SPACES or board[space] == BLANK)\n",
    "\n",
    "def isWinner(board, player):\n",
    "    \"\"\"player가 이 board에서 승자인 경우 True를 반환한다.\"\"\"\n",
    "    b, p = board, player\n",
    "    return ((b['1'] == b['2'] == b['3'] == p) or\n",
    "            (b['4'] == b['5'] == b['6'] == p) or\n",
    "            (b['7'] == b['8'] == b['9'] == p) or\n",
    "            (b['1'] == b['4'] == b['7'] == p) or\n",
    "            (b['2'] == b['5'] == b['8'] == p) or\n",
    "            (b['3'] == b['6'] == b['9'] == p) or\n",
    "            (b['3'] == b['5'] == b['7'] == p)or\n",
    "            (b['1'] == b['5'] == b['9'] == p))\n",
    "\n",
    "def isBoardFull(board):\n",
    "    \"\"\"board의 모든 칸이 차 있다면 True를 반환한다.\"\"\"\n",
    "    for space in ALL_SPACES:\n",
    "          if board[space] == BLANK:\n",
    "               return False\n",
    "    return True\n",
    "\n",
    "def updatedBoard(board, space, mark):\n",
    "    \"\"\"boarddml space를 mark로 설정한다.\"\"\"\n",
    "    board[space] = mark\n",
    "\n",
    "if __name__=='main':\n",
    "    main()\n"
   ]
  },
  {
   "cell_type": "code",
   "execution_count": 8,
   "metadata": {},
   "outputs": [],
   "source": [
    "import datetime"
   ]
  },
  {
   "cell_type": "code",
   "execution_count": 9,
   "metadata": {},
   "outputs": [
    {
     "data": {
      "text/plain": [
       "1999"
      ]
     },
     "execution_count": 9,
     "metadata": {},
     "output_type": "execute_result"
    }
   ],
   "source": [
    "birthday = datetime.date(1999,10,31)\n",
    "birthday.year"
   ]
  },
  {
   "cell_type": "code",
   "execution_count": 10,
   "metadata": {},
   "outputs": [],
   "source": [
    "class Wizcoin:\n",
    "    def __init__(self,galleons,sickles,knuts):\n",
    "        self.galleons = galleons\n",
    "        self.sickles = sickles\n",
    "        self.knuts = knuts\n",
    "\n",
    "    def value(self):\n",
    "        return (self.galleons * 17 * 29) + (self.sickles * 29) + (self.knuts)\n",
    "    \n",
    "    def weightInGrams(self):\n",
    "        return (self.galleons * 31.303) + (self.sickles * 11.34) + (self.knuts * 5.0)"
   ]
  },
  {
   "cell_type": "code",
   "execution_count": 12,
   "metadata": {},
   "outputs": [
    {
     "data": {
      "text/plain": [
       "2"
      ]
     },
     "execution_count": 12,
     "metadata": {},
     "output_type": "execute_result"
    }
   ],
   "source": [
    "size = rectangular(2,3)\n",
    "size.weight"
   ]
  },
  {
   "cell_type": "code",
   "execution_count": null,
   "metadata": {},
   "outputs": [],
   "source": []
  }
 ],
 "metadata": {
  "kernelspec": {
   "display_name": "Workspace",
   "language": "python",
   "name": "python3"
  },
  "language_info": {
   "codemirror_mode": {
    "name": "ipython",
    "version": 3
   },
   "file_extension": ".py",
   "mimetype": "text/x-python",
   "name": "python",
   "nbconvert_exporter": "python",
   "pygments_lexer": "ipython3",
   "version": "3.10.11"
  },
  "orig_nbformat": 4
 },
 "nbformat": 4,
 "nbformat_minor": 2
}
