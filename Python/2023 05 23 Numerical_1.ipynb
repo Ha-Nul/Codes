{
 "cells": [
  {
   "cell_type": "code",
   "execution_count": 5,
   "metadata": {},
   "outputs": [],
   "source": [
    "import numpy as np"
   ]
  },
  {
   "cell_type": "code",
   "execution_count": 3,
   "metadata": {},
   "outputs": [],
   "source": [
    "def f(x):\n",
    "    return x*np.exp(-x)\n",
    "\n",
    "def fordiff(xi):\n",
    "    xpi = xi + h\n",
    "    fdf = (f(xpi)-f(xi))/h\n",
    "    return fdfs\n",
    "\n",
    "def bacdiff(xi):\n",
    "    xmi = xi - h\n",
    "    bdf = (f(xi)-f(xmi))/h\n",
    "    return bdf\n",
    "\n",
    "def cendiff(xi):\n",
    "    xpi = xi + h\n",
    "    xmi = xi - h\n",
    "    cdf = (f(xpi)-f(xmi))/(2*h)\n",
    "    return cdf"
   ]
  },
  {
   "cell_type": "code",
   "execution_count": 2,
   "metadata": {},
   "outputs": [],
   "source": [
    "h = 0.1\n",
    "xi = 1.2"
   ]
  },
  {
   "cell_type": "code",
   "execution_count": 6,
   "metadata": {},
   "outputs": [
    {
     "name": "stdout",
     "output_type": "stream",
     "text": [
      "forward diff: -0.0714\n",
      "backward diff: -0.0473\n",
      "centered diff: -0.0593\n"
     ]
    }
   ],
   "source": [
    "print(f'forward diff: {fordiff(xi):0.4f}')\n",
    "print(f'backward diff: {bacdiff(xi):0.4f}')\n",
    "print(f'centered diff: {cendiff(xi):0.4f}')"
   ]
  },
  {
   "cell_type": "code",
   "execution_count": 7,
   "metadata": {},
   "outputs": [],
   "source": [
    "x = np.array([1.5,1.3,1.2,1.1])\n",
    "\n",
    "dxdt_f = (x[2] - x[1])/(2-1)\n",
    "dxdt_b = (x[1] - x[0])/(1-0)\n",
    "dxdt_c = (x[2] - x[0])/(3-1)"
   ]
  },
  {
   "cell_type": "code",
   "execution_count": 8,
   "metadata": {},
   "outputs": [
    {
     "name": "stdout",
     "output_type": "stream",
     "text": [
      "forward diff: -0.1000\n",
      "backward diff: -0.2000\n",
      "centered diff: -0.1500\n"
     ]
    }
   ],
   "source": [
    "print(f'forward diff: {dxdt_f:0.4f}')\n",
    "print(f'backward diff: {dxdt_b:0.4f}')\n",
    "print(f'centered diff: {dxdt_c:0.4f}')"
   ]
  },
  {
   "cell_type": "code",
   "execution_count": 10,
   "metadata": {},
   "outputs": [
    {
     "name": "stdout",
     "output_type": "stream",
     "text": [
      "I = 0.8718\n"
     ]
    }
   ],
   "source": [
    "def f(x):\n",
    "    return x**2*np.exp(-x)\n",
    "\n",
    "n = 3\n",
    "a = 2.0\n",
    "b = 4.0\n",
    "h = (b-a)/n\n",
    "x = np.linspace(a,b,n+1)\n",
    "\n",
    "sums = 0.0\n",
    "\n",
    "for i in range(n):\n",
    "    sums += f(x[i]) + f(x[i+1])\n",
    "result = h*sums/2\n",
    "print(f'I = {result:0.4f}')"
   ]
  },
  {
   "cell_type": "code",
   "execution_count": 12,
   "metadata": {},
   "outputs": [
    {
     "name": "stdout",
     "output_type": "stream",
     "text": [
      "t = 0.10,y=0.550\n",
      "t = 0.20,y=0.595\n",
      "t = 0.30,y=0.635\n",
      "t = 0.40,y=0.668\n",
      "t = 0.50,y=0.695\n",
      "t = 0.60,y=0.714\n",
      "t = 0.70,y=0.726\n",
      "t = 0.80,y=0.728\n",
      "t = 0.90,y=0.721\n",
      "t = 1.00,y=0.703\n"
     ]
    }
   ],
   "source": [
    "h = 0.1\n",
    "time = np.arange(0.0,1.0,h)\n",
    "yold = 0.5\n",
    "\n",
    "for t in time:\n",
    "    ynew = (1.0 +h)*yold -h*t\n",
    "    print(f't = {t+h:0.2f},y={ynew:0.3f}')\n",
    "    yold =ynew"
   ]
  },
  {
   "cell_type": "code",
   "execution_count": null,
   "metadata": {},
   "outputs": [],
   "source": []
  }
 ],
 "metadata": {
  "kernelspec": {
   "display_name": "Workspace",
   "language": "python",
   "name": "python3"
  },
  "language_info": {
   "codemirror_mode": {
    "name": "ipython",
    "version": 3
   },
   "file_extension": ".py",
   "mimetype": "text/x-python",
   "name": "python",
   "nbconvert_exporter": "python",
   "pygments_lexer": "ipython3",
   "version": "3.10.11"
  },
  "orig_nbformat": 4
 },
 "nbformat": 4,
 "nbformat_minor": 2
}
