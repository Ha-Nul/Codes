{
 "cells": [
  {
   "cell_type": "code",
   "execution_count": 20,
   "metadata": {},
   "outputs": [
    {
     "name": "stdout",
     "output_type": "stream",
     "text": [
      "0\n",
      "long int\n"
     ]
    }
   ],
   "source": [
    "a=int(input())\n",
    "\n",
    "b=a%4\n",
    "c=a//4\n",
    "\n",
    "print(c)\n",
    "\n",
    "if b == 0 and a != 0:\n",
    "    d = \"long \"*(c) + \"int\"\n",
    "    print(d)\n",
    "elif b != 0:\n",
    "        d = \"long \"*(c+1) + \"int\"\n",
    "        print(d)\n",
    "elif a == 0:\n",
    "      print(\"long int\")"
   ]
  },
  {
   "cell_type": "code",
   "execution_count": 30,
   "metadata": {},
   "outputs": [
    {
     "name": "stdout",
     "output_type": "stream",
     "text": [
      "|\\_/|\n",
      "|q p|   /}\n",
      "( 0 )\"\"\"\\\n",
      "|\"^\"`    |\n",
      "||_/=\\\\__|\n"
     ]
    }
   ],
   "source": [
    "print(\"|\\_/|\")\n",
    "print(\"|q p|   /}\")\n",
    "print(\"( 0 )\"'\"''\"''\"'\"\\\\\")\n",
    "print(\"|\"'\"''^''\"''`'\"    \"\"|\")\n",
    "print(\"||_/=\"\"\\\\\"\"\\\\\"\"__|\")"
   ]
  },
  {
   "cell_type": "code",
   "execution_count": null,
   "metadata": {},
   "outputs": [],
   "source": [
    "1"
   ]
  }
 ],
 "metadata": {
  "kernelspec": {
   "display_name": "Workspace",
   "language": "python",
   "name": "python3"
  },
  "language_info": {
   "codemirror_mode": {
    "name": "ipython",
    "version": 3
   },
   "file_extension": ".py",
   "mimetype": "text/x-python",
   "name": "python",
   "nbconvert_exporter": "python",
   "pygments_lexer": "ipython3",
   "version": "3.10.11"
  },
  "orig_nbformat": 4
 },
 "nbformat": 4,
 "nbformat_minor": 2
}
