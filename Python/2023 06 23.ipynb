{
 "cells": [
  {
   "cell_type": "code",
   "execution_count": 26,
   "metadata": {},
   "outputs": [
    {
     "name": "stdout",
     "output_type": "stream",
     "text": [
      "90\n",
      "4 6\n"
     ]
    }
   ],
   "source": [
    "a=[]\n",
    "\n",
    "for i in range(9):\n",
    "    b = list(map(int,input().split()))\n",
    "    a.append(b)\n",
    "\n",
    "c = 0\n",
    "d = 0\n",
    "g = 0\n",
    "\n",
    "for j in range(9):\n",
    "    e = 0\n",
    "    f = max(a[j])\n",
    "\n",
    "    if g > f:\n",
    "            None\n",
    "    elif g < f:\n",
    "        g = f\n",
    "\n",
    "    for k in a[j][:]:\n",
    "        if k == g:\n",
    "            c = j+1\n",
    "            d = e+1\n",
    "        else:\n",
    "             None\n",
    "        e += 1\n",
    "\n",
    "print(g)\n",
    "print(c,d)"
   ]
  },
  {
   "cell_type": "code",
   "execution_count": null,
   "metadata": {},
   "outputs": [],
   "source": []
  }
 ],
 "metadata": {
  "kernelspec": {
   "display_name": "Workspace",
   "language": "python",
   "name": "python3"
  },
  "language_info": {
   "codemirror_mode": {
    "name": "ipython",
    "version": 3
   },
   "file_extension": ".py",
   "mimetype": "text/x-python",
   "name": "python",
   "nbconvert_exporter": "python",
   "pygments_lexer": "ipython3",
   "version": "3.10.11"
  },
  "orig_nbformat": 4
 },
 "nbformat": 4,
 "nbformat_minor": 2
}
