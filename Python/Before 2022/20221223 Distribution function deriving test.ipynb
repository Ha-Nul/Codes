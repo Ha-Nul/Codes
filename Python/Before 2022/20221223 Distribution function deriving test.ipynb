{
 "cells": [
  {
   "cell_type": "code",
   "execution_count": 56,
   "metadata": {},
   "outputs": [
    {
     "name": "stdout",
     "output_type": "stream",
     "text": [
      "1.380649e-23\n"
     ]
    }
   ],
   "source": [
    "import sympy as sp\n",
    "import numpy as np\n",
    "from scipy import constants\n",
    "from scipy.misc import derivative\n",
    "import math\n",
    "\n",
    "import matplotlib.pyplot as plt\n",
    "\n",
    "sp.init_printing(use_latex=True)"
   ]
  },
  {
   "cell_type": "code",
   "execution_count": 50,
   "metadata": {},
   "outputs": [],
   "source": [
    "K,T,e,u=sp.symbols('K T e u')\n",
    "Phi=sp.symbols('Phi',Type='function')\n",
    "\n",
    "Phi=K*T*(sp.ln(1-sp.exp(-(e-u)/(K*T))))\n"
   ]
  },
  {
   "cell_type": "code",
   "execution_count": 68,
   "metadata": {},
   "outputs": [],
   "source": [
    "#에너지 상태(microstate)의 갯수를 나타냄. 0,1,2,3...\n",
    "def dim_space(n):\n",
    "    linspace_dimension=np.arange(n)\n",
    "    return linspace_dimension\n",
    "\n",
    "#총 에너지 상태. state(sigma microstate)\n",
    "def Energy(epsilon,n):\n",
    "    energy_state_basis=np.zeros(n)\n",
    "\n",
    "    for i in range(0,n,1):\n",
    "        if i==0:\n",
    "            energy_state=0\n",
    "            energy_state_basis[i]=energy_state\n",
    "        else:\n",
    "            energy_state=+(epsilon*i+energy_state)\n",
    "            energy_state_basis[i]=energy_state\n",
    "\n",
    "    return energy_state_basis\n",
    "\n",
    "#GC Partition function을 계산하기 위한 파라미터값을 불러옴.\n",
    "def Parameters(T,e,u,n):\n",
    "    K=constants.Boltzmann\n",
    "    exp=math.e\n",
    "    dim=np.linspace(0,T,T**2)\n",
    "    unit=10**(-25)\n",
    "\n",
    "    #Assume that the unit of the Energy and Chemical Potential is near 10^-25\n",
    "    Chem_Potential=u*dim_space(n)*unit\n",
    "    Potential_Energy=Energy(e,n)*unit\n",
    "\n",
    "    #for loop의 결과값을 저장하기 위한 빈 배열 생성.\n",
    "    energy_parameters=np.zeros(n)\n",
    "    for i in range(0,n,1):\n",
    "        energy_parameters[i]=((Chem_Potential[i]-Potential_Energy[i])/(K*T))\n",
    "    \n",
    "    return energy_parameters\n",
    "\n",
    "    def GC_Partition_function(T,e,u,n):\n",
    "        exp=math.e\n",
    "        partition_function=np.zeros(n)\n",
    "        \n",
    "        for i in range(0,n,1):\n",
    "            partition_function[i]=exp**Parameters(T,e,u,n)[i]\n",
    "\n",
    "    return partition_function"
   ]
  },
  {
   "cell_type": "code",
   "execution_count": 75,
   "metadata": {},
   "outputs": [
    {
     "data": {
      "text/plain": [
       "[<matplotlib.lines.Line2D at 0x1864e97cf40>]"
      ]
     },
     "execution_count": 75,
     "metadata": {},
     "output_type": "execute_result"
    },
    {
     "data": {
      "image/png": "[encoded data removed]",
      "text/plain": [
       "<Figure size 432x288 with 1 Axes>"
      ]
     },
     "metadata": {
      "needs_background": "light"
     },
     "output_type": "display_data"
    }
   ],
   "source": [
    "plt.plot(dim_space(2),Parameters(273,10,10,2))\n",
    "#plt.plot(GC_Partition_function(273,10,10,100))"
   ]
  },
  {
   "cell_type": "code",
   "execution_count": 5,
   "metadata": {},
   "outputs": [
    {
     "ename": "SyntaxError",
     "evalue": "invalid syntax (3400964399.py, line 1)",
     "output_type": "error",
     "traceback": [
      "\u001b[1;36m  Input \u001b[1;32mIn [5]\u001b[1;36m\u001b[0m\n\u001b[1;33m    def Bose_Einstein_dist()\u001b[0m\n\u001b[1;37m                            ^\u001b[0m\n\u001b[1;31mSyntaxError\u001b[0m\u001b[1;31m:\u001b[0m invalid syntax\n"
     ]
    }
   ],
   "source": [
    "def GC_Potential_Function(i):\n",
    "    epslion=np.linspace(0,1,i)\n",
    "    for i in range \n",
    "    \n"
   ]
  },
  {
   "attachments": {},
   "cell_type": "markdown",
   "metadata": {},
   "source": [
    "single Particle distribution"
   ]
  },
  {
   "cell_type": "code",
   "execution_count": 59,
   "metadata": {},
   "outputs": [],
   "source": [
    "def Boson(e,u,T):\n",
    "    K=constants.Boltzmann\n",
    "    exp=math.e\n",
    "    unit=10**(-25)\n",
    "\n",
    "    e1=unit*e\n",
    "    u1=unit*u\n",
    "\n",
    "    return 1/(exp**(e1-u1/(K*T))-1)\n",
    "\n",
    "def Fermion(e,u,T):\n",
    "    K=constants.Boltzmann\n",
    "    exp=math.e\n",
    "    unit=10**(-23)\n",
    "\n",
    "    e1=unit*e\n",
    "    u1=unit*u\n",
    "    print(e1-u1)\n",
    "    \n",
    "    return 1/(exp**(e1-u1/(K*T))+1)"
   ]
  },
  {
   "cell_type": "code",
   "execution_count": 40,
   "metadata": {},
   "outputs": [],
   "source": [
    "def Boson2(a):\n",
    "    exp=math.e\n",
    "    return 1/(exp**a -1)\n",
    "\n",
    "def Fermion2(a):\n",
    "    exp=math.e\n",
    "    return 1/(exp**a +1)"
   ]
  },
  {
   "cell_type": "code",
   "execution_count": 67,
   "metadata": {},
   "outputs": [
    {
     "data": {
      "text/plain": [
       "[<matplotlib.lines.Line2D at 0x1864e8022e0>]"
      ]
     },
     "execution_count": 67,
     "metadata": {},
     "output_type": "execute_result"
    },
    {
     "data": {
      "image/png": "[encoded data removed]",
      "text/plain": [
       "<Figure size 432x288 with 1 Axes>"
      ]
     },
     "metadata": {
      "needs_background": "light"
     },
     "output_type": "display_data"
    }
   ],
   "source": [
    "a=np.linspace(-4,4)\n",
    "plt.plot(a,Fermion2(a))\n",
    "#plt.plot(a,Boson2(a))\n",
    "\n",
    "#plt.plot(a,Boson(10,10,a))\n",
    "#plt.plot(a,Fermion(10,10,a))"
   ]
  },
  {
   "cell_type": "code",
   "execution_count": 58,
   "metadata": {},
   "outputs": [
    {
     "data": {
      "image/png": "[encoded data removed]",
      "text/latex": [
       "$\\displaystyle 1.380649 \\cdot 10^{-23}$"
      ],
      "text/plain": [
       "1.380649e-23"
      ]
     },
     "execution_count": 58,
     "metadata": {},
     "output_type": "execute_result"
    }
   ],
   "source": [
    "K=constants.Boltzmann\n",
    "K"
   ]
  },
  {
   "cell_type": "code",
   "execution_count": null,
   "metadata": {},
   "outputs": [],
   "source": []
  }
 ],
 "metadata": {
  "kernelspec": {
   "display_name": "Test",
   "language": "python",
   "name": "python3"
  },
  "language_info": {
   "codemirror_mode": {
    "name": "ipython",
    "version": 3
   },
   "file_extension": ".py",
   "mimetype": "text/x-python",
   "name": "python",
   "nbconvert_exporter": "python",
   "pygments_lexer": "ipython3",
   "version": "3.9.11 (main, Mar 28 2022, 04:40:48) [MSC v.1916 64 bit (AMD64)]"
  },
  "orig_nbformat": 4,
  "vscode": {
   "interpreter": {
    "hash": "34d3f6eeb065e33650b05bdc027c19989b9c0cb093037dc6f9c6f89799bee22d"
   }
  }
 },
 "nbformat": 4,
 "nbformat_minor": 2
}
