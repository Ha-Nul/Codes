{
 "cells": [
  {
   "cell_type": "code",
   "execution_count": 1,
   "metadata": {},
   "outputs": [],
   "source": [
    "import numpy as np"
   ]
  },
  {
   "cell_type": "code",
   "execution_count": 41,
   "metadata": {},
   "outputs": [
    {
     "name": "stdout",
     "output_type": "stream",
     "text": [
      "H\n",
      "None\n"
     ]
    }
   ],
   "source": [
    "def count(x):\n",
    "    \n",
    "    text='HR LHKAQEK HU BUN LBN IHGKEXYHUV B GNGKCW LC SBU FXCIHSK LHKA SCXKBHUKN HC LHKA B FXQYBYHZHKN CMEBZ KQ EUHKN KAC TBZEC QR B FANGHSBZ MEBUKHKN KACU KACXC CJHGKG BU CZCWCUK QR FANGHSBZ XCBZHKN SQXXCGFQUIUV KQ KAHG FANGHSBZ MEBUKHKN'\n",
    "    \n",
    "    u=text.count(x)\n",
    "    \n",
    "    return u\n",
    "\n",
    "\n",
    "#arr=[]\n",
    "\n",
    "#a=input()\n",
    "#arr_t=arr.append(count('a'))\n",
    "    \n",
    "#print(arr_t)"
   ]
  },
  {
   "cell_type": "code",
   "execution_count": null,
   "metadata": {},
   "outputs": [],
   "source": []
  },
  {
   "cell_type": "code",
   "execution_count": 45,
   "metadata": {},
   "outputs": [
    {
     "data": {
      "text/plain": [
       "24"
      ]
     },
     "execution_count": 45,
     "metadata": {},
     "output_type": "execute_result"
    }
   ],
   "source": [
    "count('K')"
   ]
  },
  {
   "cell_type": "code",
   "execution_count": null,
   "metadata": {},
   "outputs": [],
   "source": []
  }
 ],
 "metadata": {
  "kernelspec": {
   "display_name": "Python 3",
   "language": "python",
   "name": "python3"
  },
  "language_info": {
   "codemirror_mode": {
    "name": "ipython",
    "version": 3
   },
   "file_extension": ".py",
   "mimetype": "text/x-python",
   "name": "python",
   "nbconvert_exporter": "python",
   "pygments_lexer": "ipython3",
   "version": "3.6.12"
  }
 },
 "nbformat": 4,
 "nbformat_minor": 4
}
