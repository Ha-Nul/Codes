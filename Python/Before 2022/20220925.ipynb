{
 "cells": [
  {
   "cell_type": "code",
   "execution_count": 1,
   "id": "f1e8fe4a",
   "metadata": {},
   "outputs": [],
   "source": [
    "import sympy as sp\n",
    "sp.init_printing(use_latex=True)"
   ]
  },
  {
   "cell_type": "code",
   "execution_count": 10,
   "id": "58f22e9e",
   "metadata": {},
   "outputs": [],
   "source": [
    "x=sp.symbols('x')\n",
    "a=sp.symbols('a',cls=sp.Function)\n",
    "y=a(x)\n",
    "\n",
    "d_eq=sp.Eq(sp.diff(y,x,2)-2*sp.diff(y,x)-3*y,16*sp.exp(-x)*x**2)"
   ]
  },
  {
   "cell_type": "code",
   "execution_count": 11,
   "id": "ee98f503",
   "metadata": {},
   "outputs": [
    {
     "data": {
      "image/png": "[encoded data removed]",
      "text/latex": [
       "$\\displaystyle a{\\left(x \\right)} = C_{2} e^{3 x} + \\left(C_{1} - \\frac{4 x^{3}}{3} - x^{2} - \\frac{x}{2}\\right) e^{- x}$"
      ],
      "text/plain": [
       "                 ⎛        3         ⎞    \n",
       "           3⋅x   ⎜     4⋅x     2   x⎟  -x\n",
       "a(x) = C₂⋅ℯ    + ⎜C₁ - ──── - x  - ─⎟⋅ℯ  \n",
       "                 ⎝      3          2⎠    "
      ]
     },
     "execution_count": 11,
     "metadata": {},
     "output_type": "execute_result"
    }
   ],
   "source": [
    "sp.dsolve(d_eq,y)"
   ]
  },
  {
   "cell_type": "code",
   "execution_count": 12,
   "id": "44a46cb3",
   "metadata": {},
   "outputs": [
    {
     "data": {
      "image/png": "[encoded data removed]",
      "text/latex": [
       "$\\displaystyle - 3 a{\\left(x \\right)} - 2 \\frac{d}{d x} a{\\left(x \\right)} + \\frac{d^{2}}{d x^{2}} a{\\left(x \\right)} = 16 x^{2} e^{- x}$"
      ],
      "text/plain": [
       "                         2                  \n",
       "            d           d              2  -x\n",
       "-3⋅a(x) - 2⋅──(a(x)) + ───(a(x)) = 16⋅x ⋅ℯ  \n",
       "            dx           2                  \n",
       "                       dx                   "
      ]
     },
     "execution_count": 12,
     "metadata": {},
     "output_type": "execute_result"
    }
   ],
   "source": [
    "d_eq"
   ]
  },
  {
   "cell_type": "code",
   "execution_count": null,
   "id": "914a35b8",
   "metadata": {},
   "outputs": [],
   "source": []
  }
 ],
 "metadata": {
  "kernelspec": {
   "display_name": "Python 3 (ipykernel)",
   "language": "python",
   "name": "python3"
  },
  "language_info": {
   "codemirror_mode": {
    "name": "ipython",
    "version": 3
   },
   "file_extension": ".py",
   "mimetype": "text/x-python",
   "name": "python",
   "nbconvert_exporter": "python",
   "pygments_lexer": "ipython3",
   "version": "3.9.11"
  }
 },
 "nbformat": 4,
 "nbformat_minor": 5
}
