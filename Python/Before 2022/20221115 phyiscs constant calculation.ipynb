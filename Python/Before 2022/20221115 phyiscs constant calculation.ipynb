{
 "cells": [
  {
   "cell_type": "code",
   "execution_count": 5,
   "id": "9eb17901",
   "metadata": {},
   "outputs": [],
   "source": [
    "import sympy as sp\n",
    "from sympy.physics.quantum.constants import hbar\n",
    "sp.init_printing(use_latex=True)"
   ]
  },
  {
   "cell_type": "code",
   "execution_count": 6,
   "id": "6e7acc46",
   "metadata": {},
   "outputs": [],
   "source": [
    "hba=hbar\n",
    "number=(3*8.96*6.02*10**23)/(2*63.5)\n",
    "pi=sp.pi\n",
    "mass=9.10*10**-(31)"
   ]
  },
  {
   "cell_type": "code",
   "execution_count": 7,
   "id": "970ed13c",
   "metadata": {},
   "outputs": [],
   "source": [
    "value=((hba**2)/(2*mass))*(number*pi**2)**(2/3)"
   ]
  },
  {
   "cell_type": "code",
   "execution_count": 8,
   "id": "3a47708b",
   "metadata": {},
   "outputs": [
    {
     "data": {
      "image/png": "[encoded data removed]",
      "text/latex": [
       "$\\displaystyle 1.39126534832649 \\cdot 10^{45} \\hbar^{2} \\pi^{1.33333333333333}$"
      ],
      "text/plain": [
       "                      2  1.33333333333333\n",
       "1.39126534832649e+45⋅ℏ ⋅π                "
      ]
     },
     "execution_count": 8,
     "metadata": {},
     "output_type": "execute_result"
    }
   ],
   "source": [
    "value"
   ]
  },
  {
   "cell_type": "code",
   "execution_count": null,
   "id": "615ed571",
   "metadata": {},
   "outputs": [],
   "source": []
  }
 ],
 "metadata": {
  "kernelspec": {
   "display_name": "Python 3 (ipykernel)",
   "language": "python",
   "name": "python3"
  },
  "language_info": {
   "codemirror_mode": {
    "name": "ipython",
    "version": 3
   },
   "file_extension": ".py",
   "mimetype": "text/x-python",
   "name": "python",
   "nbconvert_exporter": "python",
   "pygments_lexer": "ipython3",
   "version": "3.9.11"
  }
 },
 "nbformat": 4,
 "nbformat_minor": 5
}
