{
 "cells": [
  {
   "cell_type": "code",
   "execution_count": 10,
   "metadata": {},
   "outputs": [],
   "source": [
    "from scipy.optimize import curve_fit\n",
    "from scipy.signal import savgol_filter\n",
    "import numpy as np\n",
    "\n",
    "# samples need to be multiples of 16 to accommodate the hardware limitations\n",
    "def get_closest_multiple_of_16(num):\n",
    "    return int(num + 8 ) - (int(num + 8 ) % 16)\n",
    "\n",
    "# process the reflective measurement results\n",
    "# in a reflective measurement the data is encoded in the phase of the output signal\n",
    "def process_reflective_measurement(freqs, values):\n",
    "    phase_grad = np.gradient(savgol_filter(np.unwrap(np.angle(values)), 3, 2), freqs)\n",
    "    return (phase_grad-min(phase_grad))/(max(phase_grad)-min(phase_grad)) - 1\n",
    "\n",
    "# lorentzian function\n",
    "def lorentzian(f, f0, k, a, offs):\n",
    "    return -a*k/(2*np.pi)/((k/2)**2+(f-f0)**2)+offs\n",
    "\n",
    "#fit_lorentzian takes two arrays that contain the frequencies \n",
    "#and experimental output values of each frequency respectively. \n",
    "#returns the lorentzian parameters that best fits this output of the experiment.\n",
    "#popt are the fit parameters and pcov is the covariance matrix for the fit\n",
    "def fit_lorentzian(freqs, values):\n",
    "    p0=[freqs[np.argmin(values)], (freqs[-1]-freqs[0])/2, min(values), 0]\n",
    "    bounds=([freqs[0], 0, -np.inf, -np.inf], [freqs[-1], freqs[-1]-freqs[0], np.inf, np.inf])\n",
    "    popt, pcov=curve_fit(lorentzian, freqs, values, p0=p0, bounds=bounds)\n",
    "    return popt, pcov\n",
    "\n",
    "# exponential function\n",
    "def exponential(t, tau, a, offset):\n",
    "    return a*np.exp(-t/tau)+offset\n",
    "\n",
    "# fit an exponential function\n",
    "def fit_exponential(ts, values):\n",
    "    p0=[np.average(ts), 1, 0]\n",
    "    return curve_fit(exponential, ts, values, p0=p0)"
   ]
  },
  {
   "cell_type": "code",
   "execution_count": 13,
   "metadata": {},
   "outputs": [],
   "source": [
    "def fit_lorentzian(freqs, values):\n",
    "    p0=[freqs[np.argmin(values)], (freqs[-1]-freqs[0])/2, min(values), 0]\n",
    "    bounds=([freqs[0], 0, -np.inf, -np.inf], [freqs[-1], freqs[-1]-freqs[0], np.inf, np.inf])\n",
    "    popt, pcov=curve_fit(lorentzian, freqs, values, p0=p0, bounds=bounds)\n",
    "    return popt, pcov"
   ]
  },
  {
   "cell_type": "code",
   "execution_count": 15,
   "metadata": {},
   "outputs": [
    {
     "data": {
      "text/plain": [
       "5"
      ]
     },
     "execution_count": 15,
     "metadata": {},
     "output_type": "execute_result"
    }
   ],
   "source": [
    "list=[0,1,2,3,4,5]\n",
    "list[-1]"
   ]
  },
  {
   "cell_type": "code",
   "execution_count": 12,
   "metadata": {},
   "outputs": [
    {
     "ename": "NameError",
     "evalue": "name 'p0' is not defined",
     "output_type": "error",
     "traceback": [
      "\u001b[1;31m---------------------------------------------------------------------------\u001b[0m",
      "\u001b[1;31mNameError\u001b[0m                                 Traceback (most recent call last)",
      "\u001b[1;32mc:\\Users\\128kbps\\Anaconda_temp\\Anaconda_rep\\20221208 Fitting practice.ipynb 셀 2\u001b[0m in \u001b[0;36m<cell line: 2>\u001b[1;34m()\u001b[0m\n\u001b[0;32m      <a href='vscode-notebook-cell:/c%3A/Users/128kbps/Anaconda_temp/Anaconda_rep/20221208%20Fitting%20practice.ipynb#X12sZmlsZQ%3D%3D?line=0'>1</a>\u001b[0m \u001b[39mimport\u001b[39;00m \u001b[39mpandas\u001b[39;00m \u001b[39mas\u001b[39;00m \u001b[39mpd\u001b[39;00m\n\u001b[1;32m----> <a href='vscode-notebook-cell:/c%3A/Users/128kbps/Anaconda_temp/Anaconda_rep/20221208%20Fitting%20practice.ipynb#X12sZmlsZQ%3D%3D?line=1'>2</a>\u001b[0m df\u001b[39m=\u001b[39mpd\u001b[39m.\u001b[39mDataFrame(p0)\n\u001b[0;32m      <a href='vscode-notebook-cell:/c%3A/Users/128kbps/Anaconda_temp/Anaconda_rep/20221208%20Fitting%20practice.ipynb#X12sZmlsZQ%3D%3D?line=3'>4</a>\u001b[0m display(df)\n",
      "\u001b[1;31mNameError\u001b[0m: name 'p0' is not defined"
     ]
    }
   ],
   "source": [
    "import pandas as pd\n",
    "df=pd.DataFrame(p0)\n",
    "\n",
    "display(df)\n"
   ]
  },
  {
   "cell_type": "code",
   "execution_count": 35,
   "metadata": {},
   "outputs": [],
   "source": [
    "import numpy as np\n",
    "import matplotlib.pyplot as plt\n",
    "import matplotlib.gridspec as gridspec\n",
    "import scipy.optimize\n",
    "import pandas as pd\n",
    "\n",
    "# define fitting function\n",
    "def GaussPolyBase(f,a,b,c,P,fp,fw):\n",
    "    return a+b*f+c*f*f+P*np.exp(-0.5*((f-fp)/fw/2)**2)\n",
    "#read in spectrum from data file\n",
    "#f=frequency, s=signal, ds=s uncertainty\n",
    "f,s,ds=np.loadtxt(\"Spectrum.txt\",skiprows=4,unpack=True)\n",
    "\n",
    "df=pd.DataFrame(data=f)\n",
    "\n",
    "\n",
    "#print(df)\n",
    "#print(s)\n",
    "#print(ds)"
   ]
  },
  {
   "cell_type": "code",
   "execution_count": null,
   "metadata": {},
   "outputs": [],
   "source": [
    "import numpy as np\n",
    "import matplotlib.pyplot as plt\n",
    "import matplotlib.gridspec as gridspec\n",
    "import scipy.optimize\n",
    "import pandas as pd\n",
    "\n",
    "# define fitting function\n",
    "def GaussPolyBase(f,P,fp,fw):\n",
    "    return P*np.exp(-0.5*((f-fp)/fw/2)**2)\n",
    "#read in spectrum from data file\n",
    "#f=frequency, s=signal, ds=s uncertainty\n",
    "f,s,ds=np.loadtxt(\"Spectrum.txt\",skiprows=4,unpack=True)\n",
    "\n",
    "df=pd.DataFrame(data=f)\n",
    "\n",
    "\n",
    "#print(df)\n",
    "#print(s)\n",
    "#print(ds)"
   ]
  },
  {
   "cell_type": "code",
   "execution_count": 30,
   "metadata": {},
   "outputs": [
    {
     "name": "stdout",
     "output_type": "stream",
     "text": [
      "           0\n",
      "0  55.437757\n",
      "1  -1.767686\n",
      "2  -0.008518\n",
      "3  73.156531\n",
      "4  11.085484\n",
      "5   0.932621\n"
     ]
    }
   ],
   "source": [
    "#initial guesses for fitting parameters\n",
    "a0,b0,c0=60.,-3.,0.\n",
    "p0,fp0,fw0=80.,11.,2.\n",
    "\n",
    "#fit data using Scipy's Levenberg Marquart method\n",
    "nlfit,nlpcov=scipy.optimize.curve_fit(GaussPolyBase,f,s,p0=[a0,b0,c0,p0,fp0,fw0],sigma=ds)\n",
    "\n",
    "df=pd.DataFrame(data=nlfit)\n",
    "print(df)\n",
    "#print(nlpcov)\n",
    "\n",
    "#unpack fitting parameters\n",
    "a,b,c,P,fp,fw=nlfit\n",
    "da,db,dc,dP,dfp,dfw=[np.sqrt(nlpcov[j,j]) for j in range(nlfit.size)]\n",
    "\n",
    "#df=pd.DataFrame(data=nlpcov)\n",
    "\n",
    "#print(df)"
   ]
  },
  {
   "cell_type": "code",
   "execution_count": 34,
   "metadata": {},
   "outputs": [
    {
     "name": "stdout",
     "output_type": "stream",
     "text": [
      "[ 55.43775875  55.08946029  54.74050277  54.39088705  54.04061458\n",
      "  53.68968788  53.33811112  52.98589127  52.63303975  52.27957504\n",
      "  51.92552669  51.57094133  51.21589162  50.86048929  50.50490395\n",
      "  50.14938964  49.79432183  49.44024801  49.08795564  48.73856168\n",
      "  48.39362834  48.05530943  47.72653134  47.41121127  47.11451324\n",
      "  46.84313889  46.6056457   46.41277934  46.27779963  46.21677204\n",
      "  46.24878842  46.39607302  46.68392442  47.14044102  47.79597931\n",
      "  48.68230181  49.83138512  51.27388013  53.03724418  55.14359887\n",
      "  57.60740443  60.43307879  63.61272299  67.1241401   70.92934647\n",
      "  74.97377     79.18630647  83.48036037  87.75593477  91.90275703\n",
      "  95.80434119  99.34280141 102.40415246 104.88377165 106.6916608\n",
      " 107.75714006 108.03263277 107.49625861 106.15303792 104.03461472\n",
      " 101.19751978  97.72010668  93.69839254  89.24111114  84.46433337\n",
      "  79.48602435  74.42088874  69.3758093   64.44611537  59.71283511\n",
      "  55.24099813  51.07897161  47.25874037  43.7969854   40.69677888\n",
      "  37.94969727  35.53815603  33.43778728  31.61971031  30.0525804\n",
      "  28.70433917  27.54362585  26.54084067  25.66887743  24.90356023\n",
      "  24.22383158  23.61174343  23.05230297  22.53322095  22.04460349\n",
      "  21.57862094  21.12917879  20.69160838  20.26238848  19.83890316\n",
      "  19.41923758  19.0020103   18.58623877  18.17123388  17.75651896\n",
      "  17.34176876  16.92676429  16.51136009  16.09546079  15.67900467\n",
      "  15.26195232  14.84427887  14.42596884  14.00701273  13.58740475\n",
      "  13.16714144  12.74622075  12.32464149  11.90240296  11.47950477\n",
      "  11.05594668  10.63172859  10.20685042   9.78131213   9.35511371\n",
      "   8.92825514   8.50073642   8.07255755   7.64371852   7.21421933\n",
      "   6.78405998   6.35324048   5.92176082]\n"
     ]
    }
   ],
   "source": [
    "f_fit=np.linspace(0.0,25.,128)\n",
    "s_fit=GaussPolyBase(f_fit,a,b,c,P,fp,fw)\n",
    "\n",
    "resids=s-GaussPolyBase(f,a,b,c,P,fp,fw)\n",
    "redchisqr=((resids/ds)**2).sum()/float(f.size-6)\n",
    "\n",
    "#print(f_fit)\n",
    "print(s_fit)"
   ]
  },
  {
   "cell_type": "code",
   "execution_count": 12,
   "metadata": {},
   "outputs": [
    {
     "data": {
      "text/plain": [
       "<ErrorbarContainer object of 3 artists>"
      ]
     },
     "execution_count": 12,
     "metadata": {},
     "output_type": "execute_result"
    },
    {
     "data": {
      "image/png": "[encoded data removed]",
      "text/plain": [
       "<Figure size 684x468 with 1 Axes>"
      ]
     },
     "metadata": {
      "needs_background": "light"
     },
     "output_type": "display_data"
    }
   ],
   "source": [
    "fig=plt.figure(1,figsize=(9.5,6.5))\n",
    "gs=gridspec.GridSpec(2,1,height_ratios=[6,2])\n",
    "\n",
    "ax1=fig.add_subplot(gs[0])\n",
    "ax1.plot(f_fit,s_fit,'-C0')\n",
    "ax1.errorbar(f,s,yerr=ds,fmt='oC3',ecolor='black')"
   ]
  },
  {
   "cell_type": "code",
   "execution_count": 16,
   "metadata": {},
   "outputs": [],
   "source": [
    "import tkinter"
   ]
  },
  {
   "cell_type": "code",
   "execution_count": 24,
   "metadata": {},
   "outputs": [],
   "source": [
    "window=tkinter.Tk()\n",
    "window.title(\"Name\")\n",
    "window.geometry(\"1024x720+100+100\")\n",
    "window.resizable(True,True)\n",
    "\n",
    "window.mainloop()"
   ]
  },
  {
   "cell_type": "code",
   "execution_count": 25,
   "metadata": {},
   "outputs": [
    {
     "ename": "RuntimeError",
     "evalue": "Too early to create variable: no default root window",
     "output_type": "error",
     "traceback": [
      "\u001b[1;31m---------------------------------------------------------------------------\u001b[0m",
      "\u001b[1;31mRuntimeError\u001b[0m                              Traceback (most recent call last)",
      "\u001b[1;32mc:\\Users\\128kbps\\Anaconda_temp\\Anaconda_rep\\20221208 Fitting practice.ipynb 셀 8\u001b[0m in \u001b[0;36m<cell line: 5>\u001b[1;34m()\u001b[0m\n\u001b[0;32m      <a href='vscode-notebook-cell:/c%3A/Users/128kbps/Anaconda_temp/Anaconda_rep/20221208%20Fitting%20practice.ipynb#X10sZmlsZQ%3D%3D?line=1'>2</a>\u001b[0m     value\u001b[39m=\u001b[39m\u001b[39m\"\u001b[39m\u001b[39m값 : \u001b[39m\u001b[39m\"\u001b[39m\u001b[39m+\u001b[39m\u001b[39mstr\u001b[39m(scale\u001b[39m.\u001b[39mget())\n\u001b[0;32m      <a href='vscode-notebook-cell:/c%3A/Users/128kbps/Anaconda_temp/Anaconda_rep/20221208%20Fitting%20practice.ipynb#X10sZmlsZQ%3D%3D?line=2'>3</a>\u001b[0m     label\u001b[39m.\u001b[39mconfig(text\u001b[39m=\u001b[39mvalue)\n\u001b[1;32m----> <a href='vscode-notebook-cell:/c%3A/Users/128kbps/Anaconda_temp/Anaconda_rep/20221208%20Fitting%20practice.ipynb#X10sZmlsZQ%3D%3D?line=4'>5</a>\u001b[0m var\u001b[39m=\u001b[39mtkinter\u001b[39m.\u001b[39;49mIntVar()\n\u001b[0;32m      <a href='vscode-notebook-cell:/c%3A/Users/128kbps/Anaconda_temp/Anaconda_rep/20221208%20Fitting%20practice.ipynb#X10sZmlsZQ%3D%3D?line=6'>7</a>\u001b[0m scale\u001b[39m=\u001b[39mtkinter\u001b[39m.\u001b[39mScale(window, variable\u001b[39m=\u001b[39mvar, command\u001b[39m=\u001b[39mselect, orient\u001b[39m=\u001b[39m\u001b[39m\"\u001b[39m\u001b[39mhorizontal\u001b[39m\u001b[39m\"\u001b[39m, showvalue\u001b[39m=\u001b[39m\u001b[39mFalse\u001b[39;00m, tickinterval\u001b[39m=\u001b[39m\u001b[39m50\u001b[39m, to\u001b[39m=\u001b[39m\u001b[39m500\u001b[39m, length\u001b[39m=\u001b[39m\u001b[39m300\u001b[39m)\n\u001b[0;32m      <a href='vscode-notebook-cell:/c%3A/Users/128kbps/Anaconda_temp/Anaconda_rep/20221208%20Fitting%20practice.ipynb#X10sZmlsZQ%3D%3D?line=7'>8</a>\u001b[0m scale\u001b[39m.\u001b[39mpack()\n",
      "File \u001b[1;32mg:\\Install_Program\\Anaconda\\envs\\Test\\lib\\tkinter\\__init__.py:539\u001b[0m, in \u001b[0;36mIntVar.__init__\u001b[1;34m(self, master, value, name)\u001b[0m\n\u001b[0;32m    529\u001b[0m \u001b[39mdef\u001b[39;00m \u001b[39m__init__\u001b[39m(\u001b[39mself\u001b[39m, master\u001b[39m=\u001b[39m\u001b[39mNone\u001b[39;00m, value\u001b[39m=\u001b[39m\u001b[39mNone\u001b[39;00m, name\u001b[39m=\u001b[39m\u001b[39mNone\u001b[39;00m):\n\u001b[0;32m    530\u001b[0m     \u001b[39m\"\"\"Construct an integer variable.\u001b[39;00m\n\u001b[0;32m    531\u001b[0m \n\u001b[0;32m    532\u001b[0m \u001b[39m    MASTER can be given as master widget.\u001b[39;00m\n\u001b[1;32m   (...)\u001b[0m\n\u001b[0;32m    537\u001b[0m \u001b[39m    then the existing value is retained.\u001b[39;00m\n\u001b[0;32m    538\u001b[0m \u001b[39m    \"\"\"\u001b[39;00m\n\u001b[1;32m--> 539\u001b[0m     Variable\u001b[39m.\u001b[39;49m\u001b[39m__init__\u001b[39;49m(\u001b[39mself\u001b[39;49m, master, value, name)\n",
      "File \u001b[1;32mg:\\Install_Program\\Anaconda\\envs\\Test\\lib\\tkinter\\__init__.py:346\u001b[0m, in \u001b[0;36mVariable.__init__\u001b[1;34m(self, master, value, name)\u001b[0m\n\u001b[0;32m    344\u001b[0m \u001b[39mglobal\u001b[39;00m _varnum\n\u001b[0;32m    345\u001b[0m \u001b[39mif\u001b[39;00m \u001b[39mnot\u001b[39;00m master:\n\u001b[1;32m--> 346\u001b[0m     master \u001b[39m=\u001b[39m _get_default_root(\u001b[39m'\u001b[39;49m\u001b[39mcreate variable\u001b[39;49m\u001b[39m'\u001b[39;49m)\n\u001b[0;32m    347\u001b[0m \u001b[39mself\u001b[39m\u001b[39m.\u001b[39m_root \u001b[39m=\u001b[39m master\u001b[39m.\u001b[39m_root()\n\u001b[0;32m    348\u001b[0m \u001b[39mself\u001b[39m\u001b[39m.\u001b[39m_tk \u001b[39m=\u001b[39m master\u001b[39m.\u001b[39mtk\n",
      "File \u001b[1;32mg:\\Install_Program\\Anaconda\\envs\\Test\\lib\\tkinter\\__init__.py:297\u001b[0m, in \u001b[0;36m_get_default_root\u001b[1;34m(what)\u001b[0m\n\u001b[0;32m    295\u001b[0m \u001b[39mif\u001b[39;00m \u001b[39mnot\u001b[39;00m _default_root:\n\u001b[0;32m    296\u001b[0m     \u001b[39mif\u001b[39;00m what:\n\u001b[1;32m--> 297\u001b[0m         \u001b[39mraise\u001b[39;00m \u001b[39mRuntimeError\u001b[39;00m(\u001b[39mf\u001b[39m\u001b[39m\"\u001b[39m\u001b[39mToo early to \u001b[39m\u001b[39m{\u001b[39;00mwhat\u001b[39m}\u001b[39;00m\u001b[39m: no default root window\u001b[39m\u001b[39m\"\u001b[39m)\n\u001b[0;32m    298\u001b[0m     root \u001b[39m=\u001b[39m Tk()\n\u001b[0;32m    299\u001b[0m     \u001b[39massert\u001b[39;00m _default_root \u001b[39mis\u001b[39;00m root\n",
      "\u001b[1;31mRuntimeError\u001b[0m: Too early to create variable: no default root window"
     ]
    }
   ],
   "source": [
    "def select(self):\n",
    "    value=\"값 : \"+str(scale.get())\n",
    "    label.config(text=value)\n",
    "\n",
    "var=tkinter.IntVar()\n",
    "\n",
    "scale=tkinter.Scale(window, variable=var, command=select, orient=\"horizontal\", showvalue=False, tickinterval=50, to=500, length=300)\n",
    "scale.pack()\n",
    "\n",
    "label=tkinter.Label(window, text=\"값 : 0\")\n",
    "label.pack()\n",
    "\n",
    "window.mainloop()"
   ]
  },
  {
   "cell_type": "code",
   "execution_count": 24,
   "metadata": {},
   "outputs": [
    {
     "name": "stdout",
     "output_type": "stream",
     "text": [
      "[0.99741122 2.29652892]\n",
      "[0.99741122 2.29652892]\n",
      "[0.99741122 2.29652892]\n",
      "[0.99741122 2.29652892]\n",
      "[0.99741122 2.29652892]\n",
      "[0.99741122 2.29652892]\n",
      "[0.99741122 2.29652892]\n",
      "[0.99741122 2.29652892]\n",
      "[0.99741122 2.29652892]\n",
      "[0.99741122 2.29652892]\n"
     ]
    }
   ],
   "source": [
    "def func(x,a,b):\n",
    "    return a*x+b\n",
    "\n",
    "x=np.linspace(0,100)\n",
    "y=func(x,1,2)\n",
    "\n",
    "yn=y+0.98*np.random.normal(size=len(x))\n",
    "\n",
    "for i in range(10):\n",
    "    popt, pcov=curve_fit(func,x,yn)\n",
    "    print(popt)"
   ]
  },
  {
   "cell_type": "code",
   "execution_count": null,
   "metadata": {},
   "outputs": [],
   "source": []
  }
 ],
 "metadata": {
  "kernelspec": {
   "display_name": "Python 3.9.11 ('Test')",
   "language": "python",
   "name": "python3"
  },
  "language_info": {
   "codemirror_mode": {
    "name": "ipython",
    "version": 3
   },
   "file_extension": ".py",
   "mimetype": "text/x-python",
   "name": "python",
   "nbconvert_exporter": "python",
   "pygments_lexer": "ipython3",
   "version": "3.9.11"
  },
  "orig_nbformat": 4,
  "vscode": {
   "interpreter": {
    "hash": "34d3f6eeb065e33650b05bdc027c19989b9c0cb093037dc6f9c6f89799bee22d"
   }
  }
 },
 "nbformat": 4,
 "nbformat_minor": 2
}
