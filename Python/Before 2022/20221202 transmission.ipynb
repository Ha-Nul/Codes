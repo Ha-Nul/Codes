{
 "cells": [
  {
   "cell_type": "code",
   "execution_count": 3,
   "id": "1fc3286f",
   "metadata": {},
   "outputs": [],
   "source": [
    "import sympy as sp\n",
    "sp.init_printing(use_latex=True)"
   ]
  },
  {
   "cell_type": "code",
   "execution_count": 10,
   "id": "90e6d80c",
   "metadata": {},
   "outputs": [],
   "source": [
    "z=sp.symbols('z')\n",
    "#a=sp.symbols('a')\n",
    "#b=sp.symbols('b')\n",
    "a=10\n",
    "b=10\n",
    "f=sp.symbols('f',cls=sp.Function)\n",
    "I=f(z)\n",
    "\n",
    "Diff_equation1=sp.Eq(sp.diff(I,z),-a*I-b*I**2)"
   ]
  },
  {
   "cell_type": "code",
   "execution_count": 11,
   "id": "0e67905b",
   "metadata": {},
   "outputs": [
    {
     "data": {
      "image/png": "[encoded data removed]",
      "text/latex": [
       "$\\displaystyle f{\\left(z \\right)} = - \\frac{C_{1}}{C_{1} - e^{10 z}}$"
      ],
      "text/plain": [
       "          -C₁    \n",
       "f(z) = ──────────\n",
       "             10⋅z\n",
       "       C₁ - ℯ    "
      ]
     },
     "execution_count": 11,
     "metadata": {},
     "output_type": "execute_result"
    }
   ],
   "source": [
    "sp.dsolve(Diff_equation1)"
   ]
  },
  {
   "cell_type": "code",
   "execution_count": 12,
   "id": "81fefc70",
   "metadata": {},
   "outputs": [],
   "source": [
    "from sympy.plotting import plot"
   ]
  },
  {
   "cell_type": "code",
   "execution_count": 13,
   "id": "94b6d716",
   "metadata": {},
   "outputs": [
    {
     "ename": "TypeError",
     "evalue": "Cannot convert expression to float",
     "output_type": "error",
     "traceback": [
      "\u001b[1;31m---------------------------------------------------------------------------\u001b[0m",
      "\u001b[1;31mTypeError\u001b[0m                                 Traceback (most recent call last)",
      "File \u001b[1;32mG:\\Install_Program\\Anaconda\\envs\\Test\\lib\\site-packages\\sympy\\plotting\\experimental_lambdify.py:176\u001b[0m, in \u001b[0;36mlambdify.__call__\u001b[1;34m(self, args)\u001b[0m\n\u001b[0;32m    174\u001b[0m \u001b[38;5;28;01mtry\u001b[39;00m:\n\u001b[0;32m    175\u001b[0m     \u001b[38;5;66;03m#The result can be sympy.Float. Hence wrap it with complex type.\u001b[39;00m\n\u001b[1;32m--> 176\u001b[0m     result \u001b[38;5;241m=\u001b[39m \u001b[38;5;28;43mcomplex\u001b[39;49m\u001b[43m(\u001b[49m\u001b[38;5;28;43mself\u001b[39;49m\u001b[38;5;241;43m.\u001b[39;49m\u001b[43mlambda_func\u001b[49m\u001b[43m(\u001b[49m\u001b[43margs\u001b[49m\u001b[43m)\u001b[49m\u001b[43m)\u001b[49m\n\u001b[0;32m    177\u001b[0m     \u001b[38;5;28;01mif\u001b[39;00m \u001b[38;5;28mabs\u001b[39m(result\u001b[38;5;241m.\u001b[39mimag) \u001b[38;5;241m>\u001b[39m \u001b[38;5;241m1e-7\u001b[39m \u001b[38;5;241m*\u001b[39m \u001b[38;5;28mabs\u001b[39m(result):\n",
      "File \u001b[1;32mG:\\Install_Program\\Anaconda\\envs\\Test\\lib\\site-packages\\sympy\\core\\expr.py:350\u001b[0m, in \u001b[0;36mExpr.__complex__\u001b[1;34m(self)\u001b[0m\n\u001b[0;32m    349\u001b[0m re, im \u001b[38;5;241m=\u001b[39m result\u001b[38;5;241m.\u001b[39mas_real_imag()\n\u001b[1;32m--> 350\u001b[0m \u001b[38;5;28;01mreturn\u001b[39;00m \u001b[38;5;28mcomplex\u001b[39m(\u001b[38;5;28;43mfloat\u001b[39;49m\u001b[43m(\u001b[49m\u001b[43mre\u001b[49m\u001b[43m)\u001b[49m, \u001b[38;5;28mfloat\u001b[39m(im))\n",
      "File \u001b[1;32mG:\\Install_Program\\Anaconda\\envs\\Test\\lib\\site-packages\\sympy\\core\\expr.py:345\u001b[0m, in \u001b[0;36mExpr.__float__\u001b[1;34m(self)\u001b[0m\n\u001b[0;32m    344\u001b[0m     \u001b[38;5;28;01mraise\u001b[39;00m \u001b[38;5;167;01mTypeError\u001b[39;00m(\u001b[38;5;124m\"\u001b[39m\u001b[38;5;124mCannot convert complex to float\u001b[39m\u001b[38;5;124m\"\u001b[39m)\n\u001b[1;32m--> 345\u001b[0m \u001b[38;5;28;01mraise\u001b[39;00m \u001b[38;5;167;01mTypeError\u001b[39;00m(\u001b[38;5;124m\"\u001b[39m\u001b[38;5;124mCannot convert expression to float\u001b[39m\u001b[38;5;124m\"\u001b[39m)\n",
      "\u001b[1;31mTypeError\u001b[0m: Cannot convert expression to float",
      "\nDuring handling of the above exception, another exception occurred:\n",
      "\u001b[1;31mTypeError\u001b[0m                                 Traceback (most recent call last)",
      "File \u001b[1;32mG:\\Install_Program\\Anaconda\\envs\\Test\\lib\\site-packages\\sympy\\plotting\\experimental_lambdify.py:176\u001b[0m, in \u001b[0;36mlambdify.__call__\u001b[1;34m(self, args)\u001b[0m\n\u001b[0;32m    174\u001b[0m \u001b[38;5;28;01mtry\u001b[39;00m:\n\u001b[0;32m    175\u001b[0m     \u001b[38;5;66;03m#The result can be sympy.Float. Hence wrap it with complex type.\u001b[39;00m\n\u001b[1;32m--> 176\u001b[0m     result \u001b[38;5;241m=\u001b[39m \u001b[38;5;28;43mcomplex\u001b[39;49m\u001b[43m(\u001b[49m\u001b[38;5;28;43mself\u001b[39;49m\u001b[38;5;241;43m.\u001b[39;49m\u001b[43mlambda_func\u001b[49m\u001b[43m(\u001b[49m\u001b[43margs\u001b[49m\u001b[43m)\u001b[49m\u001b[43m)\u001b[49m\n\u001b[0;32m    177\u001b[0m     \u001b[38;5;28;01mif\u001b[39;00m \u001b[38;5;28mabs\u001b[39m(result\u001b[38;5;241m.\u001b[39mimag) \u001b[38;5;241m>\u001b[39m \u001b[38;5;241m1e-7\u001b[39m \u001b[38;5;241m*\u001b[39m \u001b[38;5;28mabs\u001b[39m(result):\n",
      "File \u001b[1;32mG:\\Install_Program\\Anaconda\\envs\\Test\\lib\\site-packages\\sympy\\core\\expr.py:350\u001b[0m, in \u001b[0;36mExpr.__complex__\u001b[1;34m(self)\u001b[0m\n\u001b[0;32m    349\u001b[0m re, im \u001b[38;5;241m=\u001b[39m result\u001b[38;5;241m.\u001b[39mas_real_imag()\n\u001b[1;32m--> 350\u001b[0m \u001b[38;5;28;01mreturn\u001b[39;00m \u001b[38;5;28mcomplex\u001b[39m(\u001b[38;5;28;43mfloat\u001b[39;49m\u001b[43m(\u001b[49m\u001b[43mre\u001b[49m\u001b[43m)\u001b[49m, \u001b[38;5;28mfloat\u001b[39m(im))\n",
      "File \u001b[1;32mG:\\Install_Program\\Anaconda\\envs\\Test\\lib\\site-packages\\sympy\\core\\expr.py:345\u001b[0m, in \u001b[0;36mExpr.__float__\u001b[1;34m(self)\u001b[0m\n\u001b[0;32m    344\u001b[0m     \u001b[38;5;28;01mraise\u001b[39;00m \u001b[38;5;167;01mTypeError\u001b[39;00m(\u001b[38;5;124m\"\u001b[39m\u001b[38;5;124mCannot convert complex to float\u001b[39m\u001b[38;5;124m\"\u001b[39m)\n\u001b[1;32m--> 345\u001b[0m \u001b[38;5;28;01mraise\u001b[39;00m \u001b[38;5;167;01mTypeError\u001b[39;00m(\u001b[38;5;124m\"\u001b[39m\u001b[38;5;124mCannot convert expression to float\u001b[39m\u001b[38;5;124m\"\u001b[39m)\n",
      "\u001b[1;31mTypeError\u001b[0m: Cannot convert expression to float",
      "\nDuring handling of the above exception, another exception occurred:\n",
      "\u001b[1;31mTypeError\u001b[0m                                 Traceback (most recent call last)",
      "Input \u001b[1;32mIn [13]\u001b[0m, in \u001b[0;36m<cell line: 1>\u001b[1;34m()\u001b[0m\n\u001b[1;32m----> 1\u001b[0m \u001b[43mplot\u001b[49m\u001b[43m(\u001b[49m\u001b[43mI\u001b[49m\u001b[43m,\u001b[49m\u001b[43m(\u001b[49m\u001b[43mz\u001b[49m\u001b[43m,\u001b[49m\u001b[38;5;241;43m0\u001b[39;49m\u001b[43m,\u001b[49m\u001b[38;5;241;43m10\u001b[39;49m\u001b[43m)\u001b[49m\u001b[43m)\u001b[49m\n",
      "File \u001b[1;32mG:\\Install_Program\\Anaconda\\envs\\Test\\lib\\site-packages\\sympy\\plotting\\plot.py:1854\u001b[0m, in \u001b[0;36mplot\u001b[1;34m(show, *args, **kwargs)\u001b[0m\n\u001b[0;32m   1852\u001b[0m plots \u001b[38;5;241m=\u001b[39m Plot(\u001b[38;5;241m*\u001b[39mseries, \u001b[38;5;241m*\u001b[39m\u001b[38;5;241m*\u001b[39mkwargs)\n\u001b[0;32m   1853\u001b[0m \u001b[38;5;28;01mif\u001b[39;00m show:\n\u001b[1;32m-> 1854\u001b[0m     \u001b[43mplots\u001b[49m\u001b[38;5;241;43m.\u001b[39;49m\u001b[43mshow\u001b[49m\u001b[43m(\u001b[49m\u001b[43m)\u001b[49m\n\u001b[0;32m   1855\u001b[0m \u001b[38;5;28;01mreturn\u001b[39;00m plots\n",
      "File \u001b[1;32mG:\\Install_Program\\Anaconda\\envs\\Test\\lib\\site-packages\\sympy\\plotting\\plot.py:240\u001b[0m, in \u001b[0;36mPlot.show\u001b[1;34m(self)\u001b[0m\n\u001b[0;32m    238\u001b[0m     \u001b[38;5;28mself\u001b[39m\u001b[38;5;241m.\u001b[39m_backend\u001b[38;5;241m.\u001b[39mclose()\n\u001b[0;32m    239\u001b[0m \u001b[38;5;28mself\u001b[39m\u001b[38;5;241m.\u001b[39m_backend \u001b[38;5;241m=\u001b[39m \u001b[38;5;28mself\u001b[39m\u001b[38;5;241m.\u001b[39mbackend(\u001b[38;5;28mself\u001b[39m)\n\u001b[1;32m--> 240\u001b[0m \u001b[38;5;28;43mself\u001b[39;49m\u001b[38;5;241;43m.\u001b[39;49m\u001b[43m_backend\u001b[49m\u001b[38;5;241;43m.\u001b[39;49m\u001b[43mshow\u001b[49m\u001b[43m(\u001b[49m\u001b[43m)\u001b[49m\n",
      "File \u001b[1;32mG:\\Install_Program\\Anaconda\\envs\\Test\\lib\\site-packages\\sympy\\plotting\\plot.py:1533\u001b[0m, in \u001b[0;36mMatplotlibBackend.show\u001b[1;34m(self)\u001b[0m\n\u001b[0;32m   1532\u001b[0m \u001b[38;5;28;01mdef\u001b[39;00m \u001b[38;5;21mshow\u001b[39m(\u001b[38;5;28mself\u001b[39m):\n\u001b[1;32m-> 1533\u001b[0m     \u001b[38;5;28;43mself\u001b[39;49m\u001b[38;5;241;43m.\u001b[39;49m\u001b[43mprocess_series\u001b[49m\u001b[43m(\u001b[49m\u001b[43m)\u001b[49m\n\u001b[0;32m   1534\u001b[0m     \u001b[38;5;66;03m#TODO after fixing https://github.com/ipython/ipython/issues/1255\u001b[39;00m\n\u001b[0;32m   1535\u001b[0m     \u001b[38;5;66;03m# you can uncomment the next line and remove the pyplot.show() call\u001b[39;00m\n\u001b[0;32m   1536\u001b[0m     \u001b[38;5;66;03m#self.fig.show()\u001b[39;00m\n\u001b[0;32m   1537\u001b[0m     \u001b[38;5;28;01mif\u001b[39;00m _show:\n",
      "File \u001b[1;32mG:\\Install_Program\\Anaconda\\envs\\Test\\lib\\site-packages\\sympy\\plotting\\plot.py:1530\u001b[0m, in \u001b[0;36mMatplotlibBackend.process_series\u001b[1;34m(self)\u001b[0m\n\u001b[0;32m   1528\u001b[0m \u001b[38;5;28;01mif\u001b[39;00m \u001b[38;5;28misinstance\u001b[39m(\u001b[38;5;28mself\u001b[39m\u001b[38;5;241m.\u001b[39mparent, PlotGrid):\n\u001b[0;32m   1529\u001b[0m     parent \u001b[38;5;241m=\u001b[39m \u001b[38;5;28mself\u001b[39m\u001b[38;5;241m.\u001b[39mparent\u001b[38;5;241m.\u001b[39margs[i]\n\u001b[1;32m-> 1530\u001b[0m \u001b[38;5;28;43mself\u001b[39;49m\u001b[38;5;241;43m.\u001b[39;49m\u001b[43m_process_series\u001b[49m\u001b[43m(\u001b[49m\u001b[43mseries\u001b[49m\u001b[43m,\u001b[49m\u001b[43m \u001b[49m\u001b[43max\u001b[49m\u001b[43m,\u001b[49m\u001b[43m \u001b[49m\u001b[43mparent\u001b[49m\u001b[43m)\u001b[49m\n",
      "File \u001b[1;32mG:\\Install_Program\\Anaconda\\envs\\Test\\lib\\site-packages\\sympy\\plotting\\plot.py:1355\u001b[0m, in \u001b[0;36mMatplotlibBackend._process_series\u001b[1;34m(self, series, ax, parent)\u001b[0m\n\u001b[0;32m   1352\u001b[0m \u001b[38;5;28;01mfor\u001b[39;00m s \u001b[38;5;129;01min\u001b[39;00m series:\n\u001b[0;32m   1353\u001b[0m     \u001b[38;5;66;03m# Create the collections\u001b[39;00m\n\u001b[0;32m   1354\u001b[0m     \u001b[38;5;28;01mif\u001b[39;00m s\u001b[38;5;241m.\u001b[39mis_2Dline:\n\u001b[1;32m-> 1355\u001b[0m         x, y \u001b[38;5;241m=\u001b[39m \u001b[43ms\u001b[49m\u001b[38;5;241;43m.\u001b[39;49m\u001b[43mget_data\u001b[49m\u001b[43m(\u001b[49m\u001b[43m)\u001b[49m\n\u001b[0;32m   1356\u001b[0m         \u001b[38;5;28;01mif\u001b[39;00m (\u001b[38;5;28misinstance\u001b[39m(s\u001b[38;5;241m.\u001b[39mline_color, (\u001b[38;5;28mint\u001b[39m, \u001b[38;5;28mfloat\u001b[39m)) \u001b[38;5;129;01mor\u001b[39;00m\n\u001b[0;32m   1357\u001b[0m                 callable(s\u001b[38;5;241m.\u001b[39mline_color)):\n\u001b[0;32m   1358\u001b[0m             segments \u001b[38;5;241m=\u001b[39m \u001b[38;5;28mself\u001b[39m\u001b[38;5;241m.\u001b[39mget_segments(x, y)\n",
      "File \u001b[1;32mG:\\Install_Program\\Anaconda\\envs\\Test\\lib\\site-packages\\sympy\\plotting\\plot.py:594\u001b[0m, in \u001b[0;36mLine2DBaseSeries.get_data\u001b[1;34m(self)\u001b[0m\n\u001b[0;32m    580\u001b[0m \u001b[38;5;124;03m\"\"\" Return lists of coordinates for plotting the line.\u001b[39;00m\n\u001b[0;32m    581\u001b[0m \n\u001b[0;32m    582\u001b[0m \u001b[38;5;124;03mReturns\u001b[39;00m\n\u001b[1;32m   (...)\u001b[0m\n\u001b[0;32m    591\u001b[0m \u001b[38;5;124;03m        List of z-coordinates in case of Parametric3DLineSeries\u001b[39;00m\n\u001b[0;32m    592\u001b[0m \u001b[38;5;124;03m\"\"\"\u001b[39;00m\n\u001b[0;32m    593\u001b[0m np \u001b[38;5;241m=\u001b[39m import_module(\u001b[38;5;124m'\u001b[39m\u001b[38;5;124mnumpy\u001b[39m\u001b[38;5;124m'\u001b[39m)\n\u001b[1;32m--> 594\u001b[0m points \u001b[38;5;241m=\u001b[39m \u001b[38;5;28;43mself\u001b[39;49m\u001b[38;5;241;43m.\u001b[39;49m\u001b[43mget_points\u001b[49m\u001b[43m(\u001b[49m\u001b[43m)\u001b[49m\n\u001b[0;32m    595\u001b[0m \u001b[38;5;28;01mif\u001b[39;00m \u001b[38;5;28mself\u001b[39m\u001b[38;5;241m.\u001b[39msteps \u001b[38;5;129;01mis\u001b[39;00m \u001b[38;5;28;01mTrue\u001b[39;00m:\n\u001b[0;32m    596\u001b[0m     \u001b[38;5;28;01mif\u001b[39;00m \u001b[38;5;28mlen\u001b[39m(points) \u001b[38;5;241m==\u001b[39m \u001b[38;5;241m2\u001b[39m:\n",
      "File \u001b[1;32mG:\\Install_Program\\Anaconda\\envs\\Test\\lib\\site-packages\\sympy\\plotting\\plot.py:768\u001b[0m, in \u001b[0;36mLineOver1DRangeSeries.get_points\u001b[1;34m(self)\u001b[0m\n\u001b[0;32m    765\u001b[0m         x_coords\u001b[38;5;241m.\u001b[39mappend(q[\u001b[38;5;241m0\u001b[39m])\n\u001b[0;32m    766\u001b[0m         y_coords\u001b[38;5;241m.\u001b[39mappend(q[\u001b[38;5;241m1\u001b[39m])\n\u001b[1;32m--> 768\u001b[0m f_start \u001b[38;5;241m=\u001b[39m \u001b[43mf\u001b[49m\u001b[43m(\u001b[49m\u001b[38;5;28;43mself\u001b[39;49m\u001b[38;5;241;43m.\u001b[39;49m\u001b[43mstart\u001b[49m\u001b[43m)\u001b[49m\n\u001b[0;32m    769\u001b[0m f_end \u001b[38;5;241m=\u001b[39m f(\u001b[38;5;28mself\u001b[39m\u001b[38;5;241m.\u001b[39mend)\n\u001b[0;32m    770\u001b[0m x_coords\u001b[38;5;241m.\u001b[39mappend(\u001b[38;5;28mself\u001b[39m\u001b[38;5;241m.\u001b[39mstart)\n",
      "File \u001b[1;32mG:\\Install_Program\\Anaconda\\envs\\Test\\lib\\site-packages\\sympy\\plotting\\experimental_lambdify.py:188\u001b[0m, in \u001b[0;36mlambdify.__call__\u001b[1;34m(self, args)\u001b[0m\n\u001b[0;32m    186\u001b[0m \u001b[38;5;28;01mif\u001b[39;00m \u001b[38;5;28mself\u001b[39m\u001b[38;5;241m.\u001b[39mlambda_func \u001b[38;5;241m==\u001b[39m \u001b[38;5;28mself\u001b[39m\u001b[38;5;241m.\u001b[39mlambda_func_1:\n\u001b[0;32m    187\u001b[0m     \u001b[38;5;28mself\u001b[39m\u001b[38;5;241m.\u001b[39mlambda_func \u001b[38;5;241m=\u001b[39m \u001b[38;5;28mself\u001b[39m\u001b[38;5;241m.\u001b[39mlambda_func_2\n\u001b[1;32m--> 188\u001b[0m     \u001b[38;5;28;01mreturn\u001b[39;00m \u001b[38;5;28;43mself\u001b[39;49m\u001b[38;5;241;43m.\u001b[39;49m\u001b[38;5;21;43m__call__\u001b[39;49m\u001b[43m(\u001b[49m\u001b[43margs\u001b[49m\u001b[43m)\u001b[49m\n\u001b[0;32m    190\u001b[0m \u001b[38;5;28mself\u001b[39m\u001b[38;5;241m.\u001b[39mfailure \u001b[38;5;241m=\u001b[39m \u001b[38;5;28;01mTrue\u001b[39;00m\n\u001b[0;32m    191\u001b[0m \u001b[38;5;28mself\u001b[39m\u001b[38;5;241m.\u001b[39mlambda_func \u001b[38;5;241m=\u001b[39m \u001b[38;5;28mself\u001b[39m\u001b[38;5;241m.\u001b[39mlambda_func_3\n",
      "File \u001b[1;32mG:\\Install_Program\\Anaconda\\envs\\Test\\lib\\site-packages\\sympy\\plotting\\experimental_lambdify.py:196\u001b[0m, in \u001b[0;36mlambdify.__call__\u001b[1;34m(self, args)\u001b[0m\n\u001b[0;32m    191\u001b[0m \u001b[38;5;28mself\u001b[39m\u001b[38;5;241m.\u001b[39mlambda_func \u001b[38;5;241m=\u001b[39m \u001b[38;5;28mself\u001b[39m\u001b[38;5;241m.\u001b[39mlambda_func_3\n\u001b[0;32m    192\u001b[0m warnings\u001b[38;5;241m.\u001b[39mwarn(\n\u001b[0;32m    193\u001b[0m     \u001b[38;5;124m'\u001b[39m\u001b[38;5;124mThe evaluation of the expression is problematic. \u001b[39m\u001b[38;5;124m'\u001b[39m\n\u001b[0;32m    194\u001b[0m     \u001b[38;5;124m'\u001b[39m\u001b[38;5;124mWe are trying a failback method that may still work. \u001b[39m\u001b[38;5;124m'\u001b[39m\n\u001b[0;32m    195\u001b[0m     \u001b[38;5;124m'\u001b[39m\u001b[38;5;124mPlease report this as a bug.\u001b[39m\u001b[38;5;124m'\u001b[39m, stacklevel\u001b[38;5;241m=\u001b[39m\u001b[38;5;241m2\u001b[39m)\n\u001b[1;32m--> 196\u001b[0m \u001b[38;5;28;01mreturn\u001b[39;00m \u001b[38;5;28;43mself\u001b[39;49m\u001b[38;5;241;43m.\u001b[39;49m\u001b[38;5;21;43m__call__\u001b[39;49m\u001b[43m(\u001b[49m\u001b[43margs\u001b[49m\u001b[43m)\u001b[49m\n",
      "File \u001b[1;32mG:\\Install_Program\\Anaconda\\envs\\Test\\lib\\site-packages\\sympy\\plotting\\experimental_lambdify.py:184\u001b[0m, in \u001b[0;36mlambdify.__call__\u001b[1;34m(self, args)\u001b[0m\n\u001b[0;32m    182\u001b[0m \u001b[38;5;28;01mexcept\u001b[39;00m \u001b[38;5;167;01mTypeError\u001b[39;00m \u001b[38;5;28;01mas\u001b[39;00m e:\n\u001b[0;32m    183\u001b[0m     \u001b[38;5;28;01mif\u001b[39;00m \u001b[38;5;28mself\u001b[39m\u001b[38;5;241m.\u001b[39mfailure:\n\u001b[1;32m--> 184\u001b[0m         \u001b[38;5;28;01mraise\u001b[39;00m e\n\u001b[0;32m    186\u001b[0m     \u001b[38;5;28;01mif\u001b[39;00m \u001b[38;5;28mself\u001b[39m\u001b[38;5;241m.\u001b[39mlambda_func \u001b[38;5;241m==\u001b[39m \u001b[38;5;28mself\u001b[39m\u001b[38;5;241m.\u001b[39mlambda_func_1:\n\u001b[0;32m    187\u001b[0m         \u001b[38;5;28mself\u001b[39m\u001b[38;5;241m.\u001b[39mlambda_func \u001b[38;5;241m=\u001b[39m \u001b[38;5;28mself\u001b[39m\u001b[38;5;241m.\u001b[39mlambda_func_2\n",
      "File \u001b[1;32mG:\\Install_Program\\Anaconda\\envs\\Test\\lib\\site-packages\\sympy\\plotting\\experimental_lambdify.py:176\u001b[0m, in \u001b[0;36mlambdify.__call__\u001b[1;34m(self, args)\u001b[0m\n\u001b[0;32m    173\u001b[0m \u001b[38;5;28;01mdef\u001b[39;00m \u001b[38;5;21m__call__\u001b[39m(\u001b[38;5;28mself\u001b[39m, args):\n\u001b[0;32m    174\u001b[0m     \u001b[38;5;28;01mtry\u001b[39;00m:\n\u001b[0;32m    175\u001b[0m         \u001b[38;5;66;03m#The result can be sympy.Float. Hence wrap it with complex type.\u001b[39;00m\n\u001b[1;32m--> 176\u001b[0m         result \u001b[38;5;241m=\u001b[39m \u001b[38;5;28mcomplex\u001b[39m(\u001b[38;5;28;43mself\u001b[39;49m\u001b[38;5;241;43m.\u001b[39;49m\u001b[43mlambda_func\u001b[49m\u001b[43m(\u001b[49m\u001b[43margs\u001b[49m\u001b[43m)\u001b[49m)\n\u001b[0;32m    177\u001b[0m         \u001b[38;5;28;01mif\u001b[39;00m \u001b[38;5;28mabs\u001b[39m(result\u001b[38;5;241m.\u001b[39mimag) \u001b[38;5;241m>\u001b[39m \u001b[38;5;241m1e-7\u001b[39m \u001b[38;5;241m*\u001b[39m \u001b[38;5;28mabs\u001b[39m(result):\n\u001b[0;32m    178\u001b[0m             \u001b[38;5;28;01mreturn\u001b[39;00m \u001b[38;5;28;01mNone\u001b[39;00m\n",
      "File \u001b[1;32mG:\\Install_Program\\Anaconda\\envs\\Test\\lib\\site-packages\\sympy\\plotting\\experimental_lambdify.py:272\u001b[0m, in \u001b[0;36mLambdifier.__call__\u001b[1;34m(self, *args, **kwargs)\u001b[0m\n\u001b[0;32m    271\u001b[0m \u001b[38;5;28;01mdef\u001b[39;00m \u001b[38;5;21m__call__\u001b[39m(\u001b[38;5;28mself\u001b[39m, \u001b[38;5;241m*\u001b[39margs, \u001b[38;5;241m*\u001b[39m\u001b[38;5;241m*\u001b[39mkwargs):\n\u001b[1;32m--> 272\u001b[0m     \u001b[38;5;28;01mreturn\u001b[39;00m \u001b[38;5;28mself\u001b[39m\u001b[38;5;241m.\u001b[39mlambda_func(\u001b[38;5;241m*\u001b[39margs, \u001b[38;5;241m*\u001b[39m\u001b[38;5;241m*\u001b[39mkwargs)\n",
      "File \u001b[1;32m<string>:1\u001b[0m, in \u001b[0;36m<lambda>\u001b[1;34m(x0)\u001b[0m\n",
      "File \u001b[1;32mG:\\Install_Program\\Anaconda\\envs\\Test\\lib\\site-packages\\sympy\\core\\expr.py:350\u001b[0m, in \u001b[0;36mExpr.__complex__\u001b[1;34m(self)\u001b[0m\n\u001b[0;32m    348\u001b[0m result \u001b[38;5;241m=\u001b[39m \u001b[38;5;28mself\u001b[39m\u001b[38;5;241m.\u001b[39mevalf()\n\u001b[0;32m    349\u001b[0m re, im \u001b[38;5;241m=\u001b[39m result\u001b[38;5;241m.\u001b[39mas_real_imag()\n\u001b[1;32m--> 350\u001b[0m \u001b[38;5;28;01mreturn\u001b[39;00m \u001b[38;5;28mcomplex\u001b[39m(\u001b[38;5;28;43mfloat\u001b[39;49m\u001b[43m(\u001b[49m\u001b[43mre\u001b[49m\u001b[43m)\u001b[49m, \u001b[38;5;28mfloat\u001b[39m(im))\n",
      "File \u001b[1;32mG:\\Install_Program\\Anaconda\\envs\\Test\\lib\\site-packages\\sympy\\core\\expr.py:345\u001b[0m, in \u001b[0;36mExpr.__float__\u001b[1;34m(self)\u001b[0m\n\u001b[0;32m    343\u001b[0m \u001b[38;5;28;01mif\u001b[39;00m result\u001b[38;5;241m.\u001b[39mis_number \u001b[38;5;129;01mand\u001b[39;00m result\u001b[38;5;241m.\u001b[39mas_real_imag()[\u001b[38;5;241m1\u001b[39m]:\n\u001b[0;32m    344\u001b[0m     \u001b[38;5;28;01mraise\u001b[39;00m \u001b[38;5;167;01mTypeError\u001b[39;00m(\u001b[38;5;124m\"\u001b[39m\u001b[38;5;124mCannot convert complex to float\u001b[39m\u001b[38;5;124m\"\u001b[39m)\n\u001b[1;32m--> 345\u001b[0m \u001b[38;5;28;01mraise\u001b[39;00m \u001b[38;5;167;01mTypeError\u001b[39;00m(\u001b[38;5;124m\"\u001b[39m\u001b[38;5;124mCannot convert expression to float\u001b[39m\u001b[38;5;124m\"\u001b[39m)\n",
      "\u001b[1;31mTypeError\u001b[0m: Cannot convert expression to float"
     ]
    },
    {
     "data": {
      "image/png": "[encoded data removed]",
      "text/plain": [
       "<Figure size 432x288 with 1 Axes>"
      ]
     },
     "metadata": {
      "needs_background": "light"
     },
     "output_type": "display_data"
    }
   ],
   "source": [
    "plot(I,(z,0,10))"
   ]
  },
  {
   "cell_type": "code",
   "execution_count": 4,
   "id": "acb9dbfe",
   "metadata": {},
   "outputs": [],
   "source": [
    "z=sp.symbols('z')\n",
    "a=sp.symbols('a')\n",
    "b=sp.symbols('b')\n",
    "#a=10\n",
    "#b=10\n",
    "f=sp.symbols('f',cls=sp.Function)\n",
    "I=f(z)\n",
    "\n",
    "Diff_equation1=sp.Eq(sp.diff(I,z),a/(1+(I/b)))"
   ]
  },
  {
   "cell_type": "code",
   "execution_count": 5,
   "id": "5dbc2b2e",
   "metadata": {},
   "outputs": [
    {
     "data": {
      "image/png": "[encoded data removed]",
      "text/latex": [
       "$\\displaystyle \\left[ f{\\left(z \\right)} = - b - \\sqrt{C_{1} + 2 a b z + b^{2}}, \\  f{\\left(z \\right)} = - b + \\sqrt{C_{1} + 2 a b z + b^{2}}\\right]$"
      ],
      "text/plain": [
       "⎡               ___________________                 ___________________⎤\n",
       "⎢              ╱                 2                 ╱                 2 ⎥\n",
       "⎣f(z) = -b - ╲╱  C₁ + 2⋅a⋅b⋅z + b  , f(z) = -b + ╲╱  C₁ + 2⋅a⋅b⋅z + b  ⎦"
      ]
     },
     "execution_count": 5,
     "metadata": {},
     "output_type": "execute_result"
    }
   ],
   "source": [
    "sp.dsolve(Diff_equation1)"
   ]
  },
  {
   "cell_type": "code",
   "execution_count": null,
   "id": "49315a1e",
   "metadata": {},
   "outputs": [],
   "source": []
  }
 ],
 "metadata": {
  "kernelspec": {
   "display_name": "Python 3 (ipykernel)",
   "language": "python",
   "name": "python3"
  },
  "language_info": {
   "codemirror_mode": {
    "name": "ipython",
    "version": 3
   },
   "file_extension": ".py",
   "mimetype": "text/x-python",
   "name": "python",
   "nbconvert_exporter": "python",
   "pygments_lexer": "ipython3",
   "version": "3.9.11"
  }
 },
 "nbformat": 4,
 "nbformat_minor": 5
}
