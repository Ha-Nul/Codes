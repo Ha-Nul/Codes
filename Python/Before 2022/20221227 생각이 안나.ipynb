{
 "cells": [
  {
   "cell_type": "code",
   "execution_count": 3,
   "metadata": {},
   "outputs": [],
   "source": [
    "import numpy as np\n",
    "import math\n",
    "import matplotlib.pyplot as plt\n",
    "import random\n",
    "\n",
    "import pandas as pd"
   ]
  },
  {
   "cell_type": "code",
   "execution_count": 4,
   "metadata": {},
   "outputs": [],
   "source": [
    "def value(n):\n",
    "    array=np.random.rand(n)\n",
    "\n",
    "    for i in range(0,n,1):\n",
    "        a=array[i]*10\n",
    "        b=math.floor(a)\n",
    "\n",
    "        array[i]=b\n",
    "    \n",
    "    return array"
   ]
  },
  {
   "cell_type": "code",
   "execution_count": 5,
   "metadata": {},
   "outputs": [
    {
     "data": {
      "text/plain": [
       "array([5., 7., 5., 0.])"
      ]
     },
     "execution_count": 5,
     "metadata": {},
     "output_type": "execute_result"
    }
   ],
   "source": [
    "value(4)"
   ]
  },
  {
   "cell_type": "code",
   "execution_count": 9,
   "metadata": {},
   "outputs": [],
   "source": [
    "def prob_array(n):\n",
    "    value_s=value(n)\n",
    "    events=np.sum(value_s)\n",
    "\n",
    "    prob_array=value_s/events\n",
    "    \n",
    "    return prob_array"
   ]
  },
  {
   "cell_type": "code",
   "execution_count": 29,
   "metadata": {},
   "outputs": [],
   "source": [
    "def symmetric2(n):    \n",
    "    x=prob_array(n)\n",
    "    standard_array=np.zeros((n,n))\n",
    "    a=np.random.permutation(x)\n",
    "\n",
    "\n",
    "    for i in range(n):\n",
    "        standard_array[i]=a\n",
    "        \n",
    "    #print(standard_array) \n",
    "\n",
    "    for j in range(n):\n",
    "        standard_array[j:n,i]=standard_array[j,j:n]\n",
    "        print(standard_array[1][j])\n",
    "    \n",
    "    for k in range(n):\n",
    "        standard_array[k][k]=standard_array[1][k]\n",
    "    \n",
    "    print(standard_array)\n",
    "\n",
    "    transpose_array=standard_array.T\n",
    "    #print(transpose_array)\n",
    "\n",
    "    symmetric_array=(transpose_array+standard_array)/2\n",
    "    #print(symmetric_array)\n",
    "\n",
    "    return symmetric_array"
   ]
  },
  {
   "cell_type": "code",
   "execution_count": 31,
   "metadata": {},
   "outputs": [
    {
     "name": "stdout",
     "output_type": "stream",
     "text": [
      "0.36363636363636365\n",
      "0.0\n",
      "0.2727272727272727\n",
      "0.0\n",
      "[[0.36363636 0.         0.27272727 0.36363636]\n",
      " [0.36363636 0.         0.27272727 0.        ]\n",
      " [0.36363636 0.         0.27272727 0.27272727]\n",
      " [0.36363636 0.         0.27272727 0.        ]]\n"
     ]
    },
    {
     "data": {
      "text/plain": [
       "array([[0.36363636, 0.18181818, 0.31818182, 0.36363636],\n",
       "       [0.18181818, 0.        , 0.13636364, 0.        ],\n",
       "       [0.31818182, 0.13636364, 0.27272727, 0.27272727],\n",
       "       [0.36363636, 0.        , 0.27272727, 0.        ]])"
      ]
     },
     "execution_count": 31,
     "metadata": {},
     "output_type": "execute_result"
    }
   ],
   "source": [
    "symmetric2(4)"
   ]
  },
  {
   "cell_type": "code",
   "execution_count": null,
   "metadata": {},
   "outputs": [],
   "source": [
    "def symmetric(n):    \n",
    "    x=prob_array(n)\n",
    "    standard_array=np.zeros((n,n))\n",
    "\n",
    "#t=np.random.permutation(x)\n",
    "#print(t)\n",
    "\n",
    "\n",
    "    for i in range(n):\n",
    "        a=np.random.permutation(x)\n",
    "        summation=np.sum(a)\n",
    "        standard_array[i]=a\n",
    "\n",
    "    transpose_array=standard_array.T\n",
    "    print(transpose_array)\n",
    "\n",
    "    symmetric_array=(transpose_array+standard_array)/2\n",
    "    print(symmetric_array)\n",
    "\n",
    "    return symmetric_array\n"
   ]
  },
  {
   "cell_type": "code",
   "execution_count": null,
   "metadata": {},
   "outputs": [
    {
     "name": "stdout",
     "output_type": "stream",
     "text": [
      "[[0.22222222 0.33333333 0.05555556 0.22222222 0.05555556]\n",
      " [0.38888889 0.38888889 0.33333333 0.         0.38888889]\n",
      " [0.05555556 0.05555556 0.22222222 0.05555556 0.        ]\n",
      " [0.33333333 0.         0.38888889 0.38888889 0.33333333]\n",
      " [0.         0.22222222 0.         0.33333333 0.22222222]]\n",
      "[[0.22222222 0.36111111 0.05555556 0.27777778 0.02777778]\n",
      " [0.36111111 0.38888889 0.19444444 0.         0.30555556]\n",
      " [0.05555556 0.19444444 0.22222222 0.22222222 0.        ]\n",
      " [0.27777778 0.         0.22222222 0.38888889 0.33333333]\n",
      " [0.02777778 0.30555556 0.         0.33333333 0.22222222]]\n"
     ]
    },
    {
     "data": {
      "text/plain": [
       "array([[0.22222222, 0.36111111, 0.05555556, 0.27777778, 0.02777778],\n",
       "       [0.36111111, 0.38888889, 0.19444444, 0.        , 0.30555556],\n",
       "       [0.05555556, 0.19444444, 0.22222222, 0.22222222, 0.        ],\n",
       "       [0.27777778, 0.        , 0.22222222, 0.38888889, 0.33333333],\n",
       "       [0.02777778, 0.30555556, 0.        , 0.33333333, 0.22222222]])"
      ]
     },
     "execution_count": 55,
     "metadata": {},
     "output_type": "execute_result"
    }
   ],
   "source": [
    "symmetric(5)"
   ]
  },
  {
   "cell_type": "code",
   "execution_count": null,
   "metadata": {},
   "outputs": [
    {
     "name": "stdout",
     "output_type": "stream",
     "text": [
      "[[0.04166667 0.04166667 0.20833333 0.33333333 0.125     ]\n",
      " [0.04166667 0.375      0.1875     0.04166667 0.125     ]\n",
      " [0.20833333 0.1875     0.33333333 0.29166667 0.35416667]\n",
      " [0.33333333 0.04166667 0.29166667 0.20833333 0.125     ]\n",
      " [0.125      0.125      0.35416667 0.125      0.375     ]]\n"
     ]
    }
   ],
   "source": [
    "transpose_array=standard_array.T\n",
    "#print(transpose_array)\n",
    "\n",
    "symmetric_array=(transpose_array+standard_array)/2\n",
    "print(symmetric_array)"
   ]
  },
  {
   "cell_type": "code",
   "execution_count": 17,
   "metadata": {},
   "outputs": [],
   "source": [
    "def matmul(n):\n",
    "    fundamental_postulate=symmetric2(n)\n",
    "    print(fundamental_postulate)\n",
    "\n",
    "    for i in range(n):\n",
    "        fundamental_postulate=fundamental_postulate*fundamental_postulate\n",
    "        print(fundamental_postulate)\n",
    "    \n",
    "    return fundamental_postulate"
   ]
  },
  {
   "cell_type": "code",
   "execution_count": 18,
   "metadata": {},
   "outputs": [
    {
     "name": "stdout",
     "output_type": "stream",
     "text": [
      "[[0.         0.15384615 0.38461538 0.        ]\n",
      " [0.         0.15384615 0.38461538 0.15384615]\n",
      " [0.         0.15384615 0.38461538 0.38461538]\n",
      " [0.         0.15384615 0.38461538 0.38461538]]\n",
      "[[0.         0.07692308 0.19230769 0.        ]\n",
      " [0.07692308 0.15384615 0.26923077 0.15384615]\n",
      " [0.19230769 0.26923077 0.38461538 0.38461538]\n",
      " [0.         0.15384615 0.38461538 0.38461538]]\n",
      "[[0.         0.00591716 0.03698225 0.        ]\n",
      " [0.00591716 0.02366864 0.07248521 0.02366864]\n",
      " [0.03698225 0.07248521 0.14792899 0.14792899]\n",
      " [0.         0.02366864 0.14792899 0.14792899]]\n",
      "[[0.00000000e+00 3.50127797e-05 1.36768671e-03 0.00000000e+00]\n",
      " [3.50127797e-05 5.60204475e-04 5.25410525e-03 5.60204475e-04]\n",
      " [1.36768671e-03 5.25410525e-03 2.18829873e-02 2.18829873e-02]\n",
      " [0.00000000e+00 5.60204475e-04 2.18829873e-02 2.18829873e-02]]\n",
      "[[0.00000000e+00 1.22589474e-09 1.87056692e-06 0.00000000e+00]\n",
      " [1.22589474e-09 3.13829053e-07 2.76056220e-05 3.13829053e-07]\n",
      " [1.87056692e-06 2.76056220e-05 4.78865133e-04 4.78865133e-04]\n",
      " [0.00000000e+00 3.13829053e-07 4.78865133e-04 4.78865133e-04]]\n",
      "[[0.00000000e+00 1.50281791e-18 3.49902062e-12 0.00000000e+00]\n",
      " [1.50281791e-18 9.84886748e-14 7.62070364e-10 9.84886748e-14]\n",
      " [3.49902062e-12 7.62070364e-10 2.29311815e-07 2.29311815e-07]\n",
      " [0.00000000e+00 9.84886748e-14 2.29311815e-07 2.29311815e-07]]\n"
     ]
    },
    {
     "data": {
      "text/plain": [
       "array([[0.00000000e+00, 1.50281791e-18, 3.49902062e-12, 0.00000000e+00],\n",
       "       [1.50281791e-18, 9.84886748e-14, 7.62070364e-10, 9.84886748e-14],\n",
       "       [3.49902062e-12, 7.62070364e-10, 2.29311815e-07, 2.29311815e-07],\n",
       "       [0.00000000e+00, 9.84886748e-14, 2.29311815e-07, 2.29311815e-07]])"
      ]
     },
     "execution_count": 18,
     "metadata": {},
     "output_type": "execute_result"
    }
   ],
   "source": [
    "matmul(4)"
   ]
  },
  {
   "cell_type": "code",
   "execution_count": null,
   "metadata": {},
   "outputs": [
    {
     "data": {
      "text/plain": [
       "array([[0.125     , 0.        , 0.        , 0.        , 0.        ],\n",
       "       [0.        , 0.04166667, 0.        , 0.        , 0.        ],\n",
       "       [0.        , 0.        , 0.375     , 0.        , 0.        ],\n",
       "       [0.        , 0.        , 0.        , 0.25      , 0.        ],\n",
       "       [0.        , 0.        , 0.        , 0.        , 0.20833333]])"
      ]
     },
     "execution_count": 14,
     "metadata": {},
     "output_type": "execute_result"
    }
   ],
   "source": [
    "prob_matrix=np.identity(5)\n",
    "pa=prob_array(5)\n",
    "\n",
    "for i in range(5):\n",
    "    for j in range(5):\n",
    "        prob_matrix[i][j]=pa[i]*prob_matrix[i][j]\n",
    "\n",
    "prob_matrix"
   ]
  },
  {
   "cell_type": "code",
   "execution_count": null,
   "metadata": {},
   "outputs": [
    {
     "data": {
      "text/plain": [
       "array([[0.125     , 0.04166667, 0.375     , 0.25      , 0.20833333],\n",
       "       [0.04166667, 0.04166667, 0.        , 0.        , 0.        ],\n",
       "       [0.375     , 0.        , 0.375     , 0.        , 0.        ],\n",
       "       [0.25      , 0.        , 0.        , 0.25      , 0.        ],\n",
       "       [0.20833333, 0.        , 0.        , 0.        , 0.20833333]])"
      ]
     },
     "execution_count": 15,
     "metadata": {},
     "output_type": "execute_result"
    }
   ],
   "source": [
    "prob_matrix=np.identity(5)\n",
    "\n",
    "for i in range(5):\n",
    "    for j in range(5):\n",
    "        prob_matrix[i][j]=pa[i]*prob_matrix[i][j]\n",
    "\n",
    "        if prob_matrix[i][j]==0:\n",
    "            if i==0:\n",
    "                prob_matrix[i][j]=pa[j]\n",
    "            if j==0:\n",
    "                prob_matrix[i][j]=pa[i]\n",
    "        \n",
    "\n",
    "\n",
    "prob_matrix\n"
   ]
  },
  {
   "cell_type": "code",
   "execution_count": null,
   "metadata": {},
   "outputs": [
    {
     "data": {
      "text/plain": [
       "array([0., 0., 0.])"
      ]
     },
     "execution_count": 10,
     "metadata": {},
     "output_type": "execute_result"
    }
   ],
   "source": [
    "part1=prob_matrix[1][2:5]\n",
    "part1"
   ]
  },
  {
   "cell_type": "code",
   "execution_count": null,
   "metadata": {},
   "outputs": [
    {
     "data": {
      "text/plain": [
       "array([0.64285714, 0.        , 0.35714286])"
      ]
     },
     "execution_count": 16,
     "metadata": {},
     "output_type": "execute_result"
    }
   ],
   "source": [
    "value_2=prob_array(3)\n",
    "value_2"
   ]
  },
  {
   "cell_type": "code",
   "execution_count": null,
   "metadata": {},
   "outputs": [],
   "source": []
  }
 ],
 "metadata": {
  "kernelspec": {
   "display_name": "Test",
   "language": "python",
   "name": "python3"
  },
  "language_info": {
   "codemirror_mode": {
    "name": "ipython",
    "version": 3
   },
   "file_extension": ".py",
   "mimetype": "text/x-python",
   "name": "python",
   "nbconvert_exporter": "python",
   "pygments_lexer": "ipython3",
   "version": "3.9.11"
  },
  "orig_nbformat": 4,
  "vscode": {
   "interpreter": {
    "hash": "34d3f6eeb065e33650b05bdc027c19989b9c0cb093037dc6f9c6f89799bee22d"
   }
  }
 },
 "nbformat": 4,
 "nbformat_minor": 2
}
