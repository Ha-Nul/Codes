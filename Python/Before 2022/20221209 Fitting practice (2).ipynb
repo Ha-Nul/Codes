{
 "cells": [
  {
   "cell_type": "code",
   "execution_count": null,
   "metadata": {},
   "outputs": [],
   "source": []
  }
 ],
 "metadata": {
  "kernelspec": {
   "display_name": "Python 3.7.4 32-bit",
   "language": "python",
   "name": "python3"
  },
  "language_info": {
   "name": "python",
   "version": "3.7.4"
  },
  "orig_nbformat": 4,
  "vscode": {
   "interpreter": {
    "hash": "87c8eeea08ab3d29ad729688c7dc8d710eb7504e2022354839d375ec51a3ad09"
   }
  }
 },
 "nbformat": 4,
 "nbformat_minor": 2
}
