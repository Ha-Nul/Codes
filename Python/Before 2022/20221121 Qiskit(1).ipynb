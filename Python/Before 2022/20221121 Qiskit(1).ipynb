{
 "cells": [
  {
   "cell_type": "code",
   "execution_count": 13,
   "id": "cce3cddc",
   "metadata": {},
   "outputs": [
    {
     "name": "stderr",
     "output_type": "stream",
     "text": [
      "ibmqfactory.load_account:WARNING:2022-11-21 10:01:13,015: Credentials are already in use. The existing account in the session will be replaced.\n"
     ]
    },
    {
     "ename": "QiskitBackendNotFoundError",
     "evalue": "'No backend matches the criteria'",
     "output_type": "error",
     "traceback": [
      "\u001b[1;31m---------------------------------------------------------------------------\u001b[0m",
      "\u001b[1;31mQiskitBackendNotFoundError\u001b[0m                Traceback (most recent call last)",
      "Input \u001b[1;32mIn [13]\u001b[0m, in \u001b[0;36m<cell line: 6>\u001b[1;34m()\u001b[0m\n\u001b[0;32m      4\u001b[0m provider\u001b[38;5;241m=\u001b[39mIBMQ\u001b[38;5;241m.\u001b[39mload_account()\n\u001b[0;32m      5\u001b[0m IBMQ\u001b[38;5;241m.\u001b[39mget_provider(hub\u001b[38;5;241m=\u001b[39m\u001b[38;5;124m'\u001b[39m\u001b[38;5;124mibm-q\u001b[39m\u001b[38;5;124m'\u001b[39m,group\u001b[38;5;241m=\u001b[39m\u001b[38;5;124m'\u001b[39m\u001b[38;5;124mopen\u001b[39m\u001b[38;5;124m'\u001b[39m,project\u001b[38;5;241m=\u001b[39m\u001b[38;5;124m'\u001b[39m\u001b[38;5;124mmain\u001b[39m\u001b[38;5;124m'\u001b[39m)\n\u001b[1;32m----> 6\u001b[0m backend \u001b[38;5;241m=\u001b[39m \u001b[43mprovider\u001b[49m\u001b[38;5;241;43m.\u001b[39;49m\u001b[43mget_backend\u001b[49m\u001b[43m(\u001b[49m\u001b[38;5;124;43m'\u001b[39;49m\u001b[38;5;124;43mibmq_armonk\u001b[39;49m\u001b[38;5;124;43m'\u001b[39;49m\u001b[43m)\u001b[49m\n",
      "File \u001b[1;32mG:\\Install_Program\\Anaconda\\envs\\Test\\lib\\site-packages\\qiskit\\providers\\provider.py:55\u001b[0m, in \u001b[0;36mProviderV1.get_backend\u001b[1;34m(self, name, **kwargs)\u001b[0m\n\u001b[0;32m     53\u001b[0m     \u001b[38;5;28;01mraise\u001b[39;00m QiskitBackendNotFoundError(\u001b[38;5;124m\"\u001b[39m\u001b[38;5;124mMore than one backend matches the criteria\u001b[39m\u001b[38;5;124m\"\u001b[39m)\n\u001b[0;32m     54\u001b[0m \u001b[38;5;28;01mif\u001b[39;00m \u001b[38;5;129;01mnot\u001b[39;00m backends:\n\u001b[1;32m---> 55\u001b[0m     \u001b[38;5;28;01mraise\u001b[39;00m QiskitBackendNotFoundError(\u001b[38;5;124m\"\u001b[39m\u001b[38;5;124mNo backend matches the criteria\u001b[39m\u001b[38;5;124m\"\u001b[39m)\n\u001b[0;32m     57\u001b[0m \u001b[38;5;28;01mreturn\u001b[39;00m backends[\u001b[38;5;241m0\u001b[39m]\n",
      "\u001b[1;31mQiskitBackendNotFoundError\u001b[0m: 'No backend matches the criteria'"
     ]
    }
   ],
   "source": [
    "from qiskit import QuantumCircuit, execute, Aer, IBMQ\n",
    "from qiskit.compiler import transpile, assemble\n",
    "\n",
    "provider=IBMQ.load_account()\n",
    "IBMQ.get_provider(hub='ibm-q',group='open',project='main')\n",
    "backend = provider.get_backend('ibmq_armonk')"
   ]
  },
  {
   "cell_type": "code",
   "execution_count": 10,
   "id": "4247ca18",
   "metadata": {},
   "outputs": [],
   "source": [
    "from scipy.optimize import curve_fit\n",
    "from scipy.signal import savgol_filter\n",
    "import numpy as np\n",
    "\n",
    "def get_closest_multiple_of_16(num):\n",
    "    return int(num+8) - (int(num+8)%16)\n",
    "\n",
    "def process_reflective_measurement(freqs,values):\n",
    "    phase_grad=np.gradient(savgol_filter(np.unwrap(np.angle(values)),3,2),freqs)\n",
    "    return (phase_grad-min(phase_grad))/(max(phase_grad)-min(phase_grad))-1\n",
    "\n",
    "#lorentzian function\n",
    "def lorentzian(f,f0,k,a,offs):\n",
    "    return -a*k/(2*np.pi)/((k/2)**2+(f-f0)**2)+offs\n",
    "\n",
    "#fit_lorentzian takes two arrays that contain the frequencies and experimental output balues of each frequency respectively.\n",
    "#returns the lorentzian parameters that best fits this output of the experiment.\n",
    "#popt are the fir parameters and pcov is the covariance matrix for the fit\n",
    "def fit_lorentzian(freqs,values):\n",
    "    p0=[freqs[np.argmin(values)],(freqs[-1]-freqs[0]), min(values),0]\n",
    "    bounds=([freqs[0],0,-np.inf,-np.inf],[freqs[-1].freqs[0].np.inf,np.inf])\n",
    "    popt, pcov=curve_fit(lorentzian,freqs,values,p0=p0,bounds=bounds)\n",
    "    return popt, pcov\n",
    "\n",
    "#exponential function\n",
    "def exponential(t,tau,a,offset):\n",
    "    return a*np.exp(-t/tau)+offset\n",
    "\n",
    "#fit an exponential function\n",
    "def fit_exponential(ts,values):\n",
    "    p0=[np.average(ts),1,0]\n",
    "    return curve_fit(exponential, ts, values, p0=p0)"
   ]
  },
  {
   "cell_type": "code",
   "execution_count": 11,
   "id": "a40b4969",
   "metadata": {},
   "outputs": [],
   "source": [
    "from qiskit import pulse\n",
    "from qiskit.pulse import Play, Acquire\n",
    "from qiskit.circuit import Parameter\n",
    "import numpy as np\n",
    "\n",
    "qubit=0\n",
    "\n",
    "readout_time=4e-6\n",
    "readout_sigma=10e-9\n",
    "\n",
    "acquisition_time=readout_time"
   ]
  },
  {
   "cell_type": "code",
   "execution_count": 12,
   "id": "e224f9dc",
   "metadata": {},
   "outputs": [
    {
     "ename": "NameError",
     "evalue": "name 'backend_defaults' is not defined",
     "output_type": "error",
     "traceback": [
      "\u001b[1;31m---------------------------------------------------------------------------\u001b[0m",
      "\u001b[1;31mNameError\u001b[0m                                 Traceback (most recent call last)",
      "Input \u001b[1;32mIn [12]\u001b[0m, in \u001b[0;36m<cell line: 1>\u001b[1;34m()\u001b[0m\n\u001b[1;32m----> 1\u001b[0m center_freq\u001b[38;5;241m=\u001b[39m\u001b[43mbackend_defaults\u001b[49m\u001b[38;5;241m.\u001b[39mmeas_freq_est[qubit]\n\u001b[0;32m      2\u001b[0m freq_span\u001b[38;5;241m=\u001b[39m\u001b[38;5;241m0.3e6\u001b[39m\n\u001b[0;32m      4\u001b[0m frequencies_range\u001b[38;5;241m=\u001b[39mnp\u001b[38;5;241m.\u001b[39mlinspace(center_freq\u001b[38;5;241m-\u001b[39mfreq_span\u001b[38;5;241m/\u001b[39m\u001b[38;5;241m2\u001b[39m, center_freq\u001b[38;5;241m+\u001b[39mfreq_span\u001b[38;5;241m/\u001b[39m\u001b[38;5;241m2\u001b[39m, \u001b[38;5;241m41\u001b[39m)\n",
      "\u001b[1;31mNameError\u001b[0m: name 'backend_defaults' is not defined"
     ]
    }
   ],
   "source": [
    "center_freq=backend_defaults.meas_freq_est[qubit] # an estimate for the resonator frequency\n",
    "freq_span=0.3e6 # resonator scan span. The span should be larger than the resonator linewidth kappa\n",
    "\n",
    "frequencies_range=np.linspace(center_freq-freq_span/2, center_freq+freq_span/2, 41)"
   ]
  },
  {
   "cell_type": "code",
   "execution_count": 15,
   "id": "91a2b791",
   "metadata": {},
   "outputs": [
    {
     "ename": "NameError",
     "evalue": "name 'backend' is not defined",
     "output_type": "error",
     "traceback": [
      "\u001b[1;31m---------------------------------------------------------------------------\u001b[0m",
      "\u001b[1;31mNameError\u001b[0m                                 Traceback (most recent call last)",
      "Input \u001b[1;32mIn [15]\u001b[0m, in \u001b[0;36m<cell line: 5>\u001b[1;34m()\u001b[0m\n\u001b[0;32m      2\u001b[0m freq\u001b[38;5;241m=\u001b[39mParameter(\u001b[38;5;124m'\u001b[39m\u001b[38;5;124mfreq\u001b[39m\u001b[38;5;124m'\u001b[39m)\n\u001b[0;32m      3\u001b[0m amp\u001b[38;5;241m=\u001b[39mParameter(\u001b[38;5;124m'\u001b[39m\u001b[38;5;124mamp\u001b[39m\u001b[38;5;124m'\u001b[39m)\n\u001b[1;32m----> 5\u001b[0m \u001b[38;5;28;01mwith\u001b[39;00m pulse\u001b[38;5;241m.\u001b[39mbuild(backend\u001b[38;5;241m=\u001b[39m\u001b[43mbackend\u001b[49m, name\u001b[38;5;241m=\u001b[39m\u001b[38;5;124m'\u001b[39m\u001b[38;5;124mreadout_cavity_spectroscopy\u001b[39m\u001b[38;5;124m'\u001b[39m) \u001b[38;5;28;01mas\u001b[39;00m meas_spect_sched:\n\u001b[0;32m      6\u001b[0m     acq_chan \u001b[38;5;241m=\u001b[39m pulse\u001b[38;5;241m.\u001b[39macquire_channel(qubit)\n\u001b[0;32m      7\u001b[0m     meas_chan\u001b[38;5;241m=\u001b[39m pulse\u001b[38;5;241m.\u001b[39mmeasure_channel(qubit)\n",
      "\u001b[1;31mNameError\u001b[0m: name 'backend' is not defined"
     ]
    }
   ],
   "source": [
    "# build the pulse sequence for low power resonator spectroscopy\n",
    "freq=Parameter('freq')\n",
    "amp=Parameter('amp')\n",
    "\n",
    "with pulse.build(backend=backend, name='readout_cavity_spectroscopy') as meas_spect_sched:\n",
    "    acq_chan = pulse.acquire_channel(qubit)\n",
    "    meas_chan= pulse.measure_channel(qubit)\n",
    "    pulse.set_frequency(req,meas_chan)\n",
    "    \n",
    "    #We use a square pulse with a Gaussian rise and fall time\n",
    "    duration = get_closest_multiple_of_16(pulse.seconds_to_samples(readout_time))"
   ]
  },
  {
   "cell_type": "code",
   "execution_count": null,
   "id": "5ac32df5",
   "metadata": {},
   "outputs": [],
   "source": []
  },
  {
   "cell_type": "code",
   "execution_count": null,
   "id": "4aa79ea3",
   "metadata": {},
   "outputs": [],
   "source": []
  }
 ],
 "metadata": {
  "kernelspec": {
   "display_name": "Python 3 (ipykernel)",
   "language": "python",
   "name": "python3"
  },
  "language_info": {
   "codemirror_mode": {
    "name": "ipython",
    "version": 3
   },
   "file_extension": ".py",
   "mimetype": "text/x-python",
   "name": "python",
   "nbconvert_exporter": "python",
   "pygments_lexer": "ipython3",
   "version": "3.9.11"
  }
 },
 "nbformat": 4,
 "nbformat_minor": 5
}
