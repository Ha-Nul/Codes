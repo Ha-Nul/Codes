{
 "cells": [
  {
   "cell_type": "code",
   "execution_count": 2,
   "metadata": {},
   "outputs": [],
   "source": [
    "from sympy import *\n",
    "import numpy as np\n",
    "from IPython.display import display, Math\n",
    "\n",
    "init_printing()"
   ]
  },
  {
   "cell_type": "code",
   "execution_count": 6,
   "metadata": {},
   "outputs": [],
   "source": [
    "K, A, h = symbols(\"K A h\")\n",
    "\n",
    "def loop_function(N):\n",
    "    lp_matrix=np.array([[exp(K+A+h),exp(-K+A)],[exp(-K+A),exp(K+A-h)]])\n",
    "    mp_matrix=np.identity(2)\n",
    "    #vec=np.array([1,0])\n",
    "    #mid= np.array([0,0])\n",
    "    #fin = 0\n",
    "    trace = 0\n",
    "\n",
    "    for i in range(N):\n",
    "        mp_matrix=np.matmul(mp_matrix,lp_matrix)\n",
    "    \n",
    "    trace = np.trace(mp_matrix)\n",
    "\n",
    "    #mid=np.matmul(mp_matrix,vec)\n",
    "    #fin=np.matmul(vec.T,mid)\n",
    "\n",
    "    return trace\n"
   ]
  },
  {
   "cell_type": "code",
   "execution_count": 67,
   "metadata": {},
   "outputs": [],
   "source": [
    "a=loop_function(4)"
   ]
  },
  {
   "cell_type": "markdown",
   "metadata": {},
   "source": []
  },
  {
   "cell_type": "code",
   "execution_count": 21,
   "metadata": {},
   "outputs": [],
   "source": [
    "def loop_function_s(N):\n",
    "    lp_matrix=Matrix([[exp(K+A+h),exp(-K+A)],[exp(-K+A),exp(K+A-h)]])\n",
    "    mp_matrix=Matrix([[1,0],[0,1]])\n",
    "    #vec=np.array([1,0])\n",
    "    #mid= np.array([0,0])\n",
    "    #fin = 0\n",
    "    trace = 0\n",
    "\n",
    "    for i in range(N):\n",
    "        mp_matrix=lp_matrix*mp_matrix\n",
    "    \n",
    "    trace = np.trace(mp_matrix)\n",
    "\n",
    "    #mid=np.matmul(mp_matrix,vec)\n",
    "    #fin=np.matmul(vec.T,mid)\n",
    "\n",
    "    return mp_matrix"
   ]
  },
  {
   "cell_type": "code",
   "execution_count": 23,
   "metadata": {},
   "outputs": [
    {
     "data": {
      "text/latex": [
       "$\\displaystyle \\left[\\begin{matrix}e^{2 A - 2 K} + e^{2 A + 2 K + 2 h} & e^{A - K} e^{A + K - h} + e^{A - K} e^{A + K + h}\\\\e^{A - K} e^{A + K - h} + e^{A - K} e^{A + K + h} & e^{2 A - 2 K} + e^{2 A + 2 K - 2 h}\\end{matrix}\\right]$"
      ],
      "text/plain": [
       "⎡     2⋅A - 2⋅K    2⋅A + 2⋅K + 2⋅h       A - K  A + K - h    A - K  A + K + h⎤\n",
       "⎢    ℯ          + ℯ                     ℯ     ⋅ℯ          + ℯ     ⋅ℯ         ⎥\n",
       "⎢                                                                            ⎥\n",
       "⎢ A - K  A + K - h    A - K  A + K + h       2⋅A - 2⋅K    2⋅A + 2⋅K - 2⋅h    ⎥\n",
       "⎣ℯ     ⋅ℯ          + ℯ     ⋅ℯ               ℯ          + ℯ                   ⎦"
      ]
     },
     "execution_count": 23,
     "metadata": {},
     "output_type": "execute_result"
    }
   ],
   "source": [
    "loop_function_s(2)"
   ]
  },
  {
   "cell_type": "code",
   "execution_count": null,
   "metadata": {},
   "outputs": [],
   "source": []
  }
 ],
 "metadata": {
  "kernelspec": {
   "display_name": "WorkSpace",
   "language": "python",
   "name": "python3"
  },
  "language_info": {
   "codemirror_mode": {
    "name": "ipython",
    "version": 3
   },
   "file_extension": ".py",
   "mimetype": "text/x-python",
   "name": "python",
   "nbconvert_exporter": "python",
   "pygments_lexer": "ipython3",
   "version": "3.10.10"
  },
  "orig_nbformat": 4
 },
 "nbformat": 4,
 "nbformat_minor": 2
}
