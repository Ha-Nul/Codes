{
 "cells": [
  {
   "cell_type": "code",
   "execution_count": 1,
   "metadata": {},
   "outputs": [],
   "source": [
    "import numpy as np\n",
    "import sympy as sp\n",
    "import math\n",
    "from sympy.plotting import plot\n",
    "from sympy import I\n",
    "from math import exp\n",
    "\n",
    "sp.init_printing(use_latex=True)"
   ]
  },
  {
   "cell_type": "code",
   "execution_count": 2,
   "metadata": {},
   "outputs": [],
   "source": [
    "def Potential_d(x1,y1,z1):\n",
    "    d_coord=np.array([x1,y1,z1])\n",
    "    return d_coord\n",
    "\n",
    "def Potential_epsilon(x2,y2,z2):\n",
    "                     \n",
    "    epsil_coord=np.array([x2,y2,z2])\n",
    "    epsil_size=np.linalg.norm(epsil_coord)\n",
    "    epsil_unit=epsil_coord/epsil_size\n",
    "    \n",
    "    return epsil_unit\n",
    "\n",
    "def Potential_V(phi,E):\n",
    "    Var1=np.array([0,0,0,0,0,0])\n",
    "                     \n",
    "    for i in range(0,6,1):\n",
    "        Var1[i]=float(input())\n",
    "   \n",
    "    VectorValue_d=Potential_d(Var1[0],Var1[1],Var1[2])\n",
    "    VectorValue_epsilon=Potential_epsilon(Var1[3],Var1[4],Var1[5])\n",
    "    exponentialValue=sp.exp(I*phi)\n",
    "                     \n",
    "    Ex_E_field=VectorValue_epsilon*2*E\n",
    "    Potential=exponentialValue*np.dot(VectorValue_d,Ex_E_field)\n",
    "    \n",
    "    return Potential"
   ]
  },
  {
   "cell_type": "code",
   "execution_count": 3,
   "metadata": {},
   "outputs": [
    {
     "name": "stdout",
     "output_type": "stream",
     "text": [
      "Value Phi1\n",
      "Value E1\n",
      "1\n",
      "1\n",
      "1\n",
      "1\n",
      "1\n",
      "1\n"
     ]
    }
   ],
   "source": [
    "t=sp.symbols('t')\n",
    "a1=sp.symbols('a1',cls=sp.Function)\n",
    "b1=(a1(t))\n",
    "a2=sp.symbols('a2',cls=sp.Function)\n",
    "b2=(a2(t))\n",
    "\n",
    "phi=float(input(\"Value Phi\"))\n",
    "E=float(input(\"Value E\"))\n",
    "\n",
    "hbar=1.05457162000000*10\n",
    "V=Potential_V(phi,E)\n",
    "\n",
    "d_eq1=sp.Eq(sp.diff(b1,t),(-I/(2*hbar))*V*b2)\n",
    "d_eq2=sp.Eq(sp.diff(b2,t),(-I/(2*hbar))*V*b1)\n",
    "\n",
    "sol=sp.dsolve([d_eq1,d_eq2],ics={a1(0):1,a2(0):0})"
   ]
  },
  {
   "cell_type": "code",
   "execution_count": 4,
   "metadata": {},
   "outputs": [
    {
     "data": {
      "image/png": "[encoded data removed]",
      "text/latex": [
       "$\\displaystyle \\left[ \\operatorname{a_{1}}{\\left(t \\right)} = 0.5 e^{t \\left(-0.138204980215786 + 0.0887403972819064 i\\right)} + 0.5 e^{t \\left(0.138204980215786 - 0.0887403972819064 i\\right)}, \\  \\operatorname{a_{2}}{\\left(t \\right)} = - 0.5 e^{t \\left(-0.138204980215786 + 0.0887403972819064 i\\right)} + 0.5 e^{t \\left(0.138204980215786 - 0.0887403972819064 i\\right)}\\right]$"
      ],
      "text/plain": [
       "⎡             t⋅(-0.138204980215786 + 0.0887403972819064⋅ⅈ)        t⋅(0.138204\n",
       "⎣a₁(t) = 0.5⋅ℯ                                              + 0.5⋅ℯ           \n",
       "\n",
       "980215786 - 0.0887403972819064⋅ⅈ)                 t⋅(-0.138204980215786 + 0.08\n",
       "                                 , a₂(t) = - 0.5⋅ℯ                            \n",
       "\n",
       "87403972819064⋅ⅈ)        t⋅(0.138204980215786 - 0.0887403972819064⋅ⅈ)⎤\n",
       "                  + 0.5⋅ℯ                                            ⎦"
      ]
     },
     "execution_count": 4,
     "metadata": {},
     "output_type": "execute_result"
    }
   ],
   "source": [
    "sol"
   ]
  },
  {
   "cell_type": "code",
   "execution_count": 5,
   "metadata": {},
   "outputs": [
    {
     "data": {
      "image/png": "[encoded data removed]",
      "text/plain": [
       "<Figure size 432x288 with 1 Axes>"
      ]
     },
     "metadata": {
      "needs_background": "light"
     },
     "output_type": "display_data"
    },
    {
     "data": {
      "text/plain": [
       "<sympy.plotting.plot.Plot at 0x1e129bd02e8>"
      ]
     },
     "execution_count": 5,
     "metadata": {},
     "output_type": "execute_result"
    }
   ],
   "source": [
    "plot(sol[1].rhs,(t,-1,1))"
   ]
  },
  {
   "cell_type": "code",
   "execution_count": 75,
   "metadata": {},
   "outputs": [],
   "source": [
    "t1=sp.symbols('t1')\n",
    "Wavesolution=sp.cos(t1*Potential/hbar)"
   ]
  },
  {
   "cell_type": "code",
   "execution_count": 77,
   "metadata": {},
   "outputs": [
    {
     "data": {
      "image/png": "[encoded data removed]",
      "text/plain": [
       "<Figure size 432x288 with 1 Axes>"
      ]
     },
     "metadata": {
      "needs_background": "light"
     },
     "output_type": "display_data"
    },
    {
     "data": {
      "text/plain": [
       "<sympy.plotting.plot.Plot at 0x1bf90c5fba8>"
      ]
     },
     "execution_count": 77,
     "metadata": {},
     "output_type": "execute_result"
    }
   ],
   "source": [
    "plot(Wavesolution)"
   ]
  },
  {
   "cell_type": "code",
   "execution_count": null,
   "metadata": {},
   "outputs": [],
   "source": []
  }
 ],
 "metadata": {
  "kernelspec": {
   "display_name": "Python 3",
   "language": "python",
   "name": "python3"
  },
  "language_info": {
   "codemirror_mode": {
    "name": "ipython",
    "version": 3
   },
   "file_extension": ".py",
   "mimetype": "text/x-python",
   "name": "python",
   "nbconvert_exporter": "python",
   "pygments_lexer": "ipython3",
   "version": "3.6.12"
  }
 },
 "nbformat": 4,
 "nbformat_minor": 4
}
