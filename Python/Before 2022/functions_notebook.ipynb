{
 "cells": [
  {
   "cell_type": "code",
   "execution_count": null,
   "metadata": {},
   "outputs": [],
   "source": [
    "x=np.linspace(5,20,300)\n",
    "\n",
    "unit = 1e-21\n",
    "\n",
    "def bose_dist(x):\n",
    "\n",
    "    T = 273\n",
    "    boltz = ct.k*T\n",
    "\n",
    "    return 1/(np.exp(x*unit/boltz)-1)"
   ]
  },
  {
   "cell_type": "code",
   "execution_count": 1,
   "metadata": {},
   "outputs": [],
   "source": [
    "def Green():\n",
    "    #define column vector and row vector using numpy.newaxis\n",
    "    omega = unit*np.arange(0,50)[:,np.newaxis]\n",
    "    tau = np.arange(-15,15)[np.newaxis,:]\n",
    "\n",
    "    #create matrix and rearrange it into 1-D array \n",
    "    value_matrix = omega*tau\n",
    "    value = np.reshape(value_matrix,-1)\n",
    "\n",
    "    olen=len(omega)\n",
    "    vlen=len(value)\n",
    "\n",
    "    #계산의 결과값을 저장하기 위한 빈 배열 두개를 만듬.\n",
    "    c1=[]\n",
    "    c2=[]\n",
    "\n",
    "    #omega의 값은 항상 양수 혹은 0이기 때문에, 두 값의 곱이 음수인 경우를 이용해서 계단함수를 구현함.\n",
    "    for i in range(olen):\n",
    "        oind = omega[i]\n",
    "        bose = bose_dist(oind)\n",
    "\n",
    "        print(bose)\n",
    "\n",
    "        for j in range(vlen):\n",
    "            vind = value[j]\n",
    "\n",
    "            if vind > 0 :\n",
    "                c1.append(-bose*np.exp(vind))\n",
    "            if vind < 0 :\n",
    "                c2.append(-(bose+1)*np.exp(vind))\n"
   ]
  },
  {
   "cell_type": "code",
   "execution_count": null,
   "metadata": {},
   "outputs": [],
   "source": [
    "a = exp()*bose_dist(x)\n",
    "b = x\n",
    "\n",
    "plt.plot(b,a)\n",
    "plt.show()"
   ]
  },
  {
   "cell_type": "code",
   "execution_count": 3,
   "metadata": {},
   "outputs": [],
   "source": [
    "import sympy as sym\n",
    "import numpy as np"
   ]
  },
  {
   "cell_type": "code",
   "execution_count": 8,
   "metadata": {},
   "outputs": [
    {
     "data": {
      "image/png": "[encoded data removed]",
      "text/plain": [
       "<Figure size 640x480 with 1 Axes>"
      ]
     },
     "metadata": {},
     "output_type": "display_data"
    },
    {
     "data": {
      "text/plain": [
       "<sympy.plotting.plot.Plot at 0x7fa3b9b1caf0>"
      ]
     },
     "execution_count": 8,
     "metadata": {},
     "output_type": "execute_result"
    }
   ],
   "source": [
    "x = sym.symbols('x')\n",
    "\n",
    "a = 2\n",
    "b = 3\n",
    "e = np.exp(1)\n",
    "\n",
    "y = (e**(a*x))/(e**(b*x)-1)\n",
    "\n",
    "sym.plot(y)"
   ]
  },
  {
   "cell_type": "code",
   "execution_count": null,
   "metadata": {},
   "outputs": [],
   "source": [
    "def exp():\n",
    "    #define column vector and row vector using numpy.newaxis\n",
    "    omega = np.arange(0,50)[:,np.newaxis]\n",
    "    tau = np.linspace(-1,1,1000)[np.newaxis,:]\n",
    "\n",
    "    #create matrix and convert it into 1-D array \n",
    "    value_matrix = omega*tau\n",
    "    value = np.reshape(value_matrix,-1)\n",
    "\n",
    "    vlen=len(value)\n",
    "\n",
    "    #계산의 결과값을 저장하기 위한 빈 배열 두개를 만듬.\n",
    "    c1=[]\n",
    "    c2=[]\n",
    "\n",
    "    #omega의 값은 항상 양수 혹은 0이기 때문에, 두 값의 곱이 음수인 경우를 이용해서 계단함수를 구현함.\n",
    "    for j in range(vlen):\n",
    "        vind = value[j]\n",
    "\n",
    "        if vind > 0 :\n",
    "            c1.append(np.exp(-vind))\n",
    "        if vind < 0 :\n",
    "            c2.append(np.exp(vind))\n",
    "\n",
    "    print(len(c2))\n",
    "    return c1\n"
   ]
  },
  {
   "cell_type": "code",
   "execution_count": null,
   "metadata": {},
   "outputs": [],
   "source": [
    "def omega(v):\n",
    "    return v*k\n",
    "\n",
    "def coupling(v,g,W):\n",
    "    w = omega(v)\n",
    "    cut_off = W\n",
    "    return g*np.sqrt(w/(1+(w/cut_off)**2))\n",
    "\n",
    "def interact(v,g,W):\n",
    "    g_k = np.abs(coupling(v,g,W)**2)\n",
    "    res = np.zeros()\n",
    "\n",
    "    for i in range(len(k)):\n",
    "        res[i] = g_k*exp()\n",
    "    \n",
    "    mode_one = np.sum"
   ]
  },
  {
   "cell_type": "code",
   "execution_count": null,
   "metadata": {},
   "outputs": [],
   "source": []
  }
 ],
 "metadata": {
  "kernelspec": {
   "display_name": "Workspace",
   "language": "python",
   "name": "python3"
  },
  "language_info": {
   "codemirror_mode": {
    "name": "ipython",
    "version": 3
   },
   "file_extension": ".py",
   "mimetype": "text/x-python",
   "name": "python",
   "nbconvert_exporter": "python",
   "pygments_lexer": "ipython3",
   "version": "3.10.11"
  },
  "orig_nbformat": 4
 },
 "nbformat": 4,
 "nbformat_minor": 2
}
