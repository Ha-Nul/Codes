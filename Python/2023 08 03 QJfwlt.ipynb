{
 "cells": [
  {
   "cell_type": "code",
   "execution_count": 2,
   "metadata": {},
   "outputs": [],
   "source": [
    "import numpy as np\n",
    "import matplotlib.pyplot as plt\n"
   ]
  },
  {
   "cell_type": "code",
   "execution_count": 24,
   "metadata": {},
   "outputs": [],
   "source": [
    "def something(m):\n",
    "    a = np.sin((m+2)*np.pi)/(m+2)\n",
    "    b = np.sin(m*np.pi)/m\n",
    "    c = np.sin((m-2)*np.pi)/(m/2)\n",
    "\n",
    "    y1 = -4*(a**2-b**2)\n",
    "    y21 = 2*(b*c + 2*b**2 + 2*a*c + 2*a*c)\n",
    "    y2 = 4*(2*b*c + b**2 + c**2)\n",
    "\n",
    "    x = [[y1,y21],[y21,y2]]\n",
    "    x1 = np.array(x)\n",
    "\n",
    "    x2 = np.linalg.eig(x1)\n",
    "\n",
    "    return x2[0]"
   ]
  },
  {
   "cell_type": "code",
   "execution_count": 44,
   "metadata": {},
   "outputs": [
    {
     "data": {
      "text/plain": [
       "array([-2.11833803e-31,  2.71824194e-31])"
      ]
     },
     "execution_count": 44,
     "metadata": {},
     "output_type": "execute_result"
    }
   ],
   "source": [
    "something(1)\n"
   ]
  },
  {
   "cell_type": "code",
   "execution_count": 23,
   "metadata": {},
   "outputs": [
    {
     "data": {
      "text/plain": [
       "array([-2.11833803e-31,  2.71824194e-31])"
      ]
     },
     "execution_count": 23,
     "metadata": {},
     "output_type": "execute_result"
    }
   ],
   "source": [
    "x2[0]"
   ]
  },
  {
   "cell_type": "code",
   "execution_count": null,
   "metadata": {},
   "outputs": [],
   "source": []
  }
 ],
 "metadata": {
  "kernelspec": {
   "display_name": "Workspace",
   "language": "python",
   "name": "python3"
  },
  "language_info": {
   "codemirror_mode": {
    "name": "ipython",
    "version": 3
   },
   "file_extension": ".py",
   "mimetype": "text/x-python",
   "name": "python",
   "nbconvert_exporter": "python",
   "pygments_lexer": "ipython3",
   "version": "3.10.11"
  },
  "orig_nbformat": 4
 },
 "nbformat": 4,
 "nbformat_minor": 2
}
