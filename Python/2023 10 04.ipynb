{
 "cells": [
  {
   "cell_type": "code",
   "execution_count": 13,
   "metadata": {},
   "outputs": [],
   "source": [
    "import numpy as np\n",
    "import scipy.constants as ct\n",
    "import random\n",
    "import matplotlib.pyplot as plt\n",
    "\n",
    "import json\n",
    "\n",
    "k = np.full(100,1)\n",
    "tau = np.linspace(0,1,100)\n",
    "b = 2\n",
    "\n",
    "#unit = 1e-21 \n",
    "def bose_dist(x):\n",
    "\n",
    "    T = 273\n",
    "    #boltz = ct.k*Ts\n",
    "\n",
    "    return 1/(np.exp(x*b)-1)\n",
    "\n",
    "def green(tau,k):\n",
    "\n",
    "    #for i in range(len(tau)):\n",
    "        #if tau[i] > 0:\n",
    "            #return (bose_dist(k)+1)*np.exp(-k*tau)\n",
    "        #if tau[i] < 0:\n",
    "            #return (bose_dist(k))*np.exp(-k*tau)\n",
    "        return ((bose_dist(k)+1)*np.exp(-k*tau)) + (bose_dist(k))*np.exp(k*tau)\n",
    "def omega(v):\n",
    "    return v*np.abs(k)\n",
    "\n",
    "def coupling(v,g,W):\n",
    "    w = omega(v)\n",
    "    cut_off = W\n",
    "    return g*np.sqrt(w/(1+(w/cut_off)**2))\n",
    "\n",
    "def interact(tau,v,g,W):\n",
    "\n",
    "    g_k = np.abs(coupling(v,g,W))**2\n",
    "\n",
    "    n = len(k)\n",
    "\n",
    "    k_sum = np.zeros(n)\n",
    "    t_array = np.zeros(n)\n",
    "\n",
    "    for j in range(n):\n",
    "        t = tau[j]\n",
    "        for i in range(n):\n",
    "            k_sum[i] = g_k[i] * green(t,k)[i]\n",
    "        t_array[j] = np.sum(k_sum)\n",
    "        k_sum = np.zeros(len(k))\n",
    " \n",
    "    return t_array\n"
   ]
  },
  {
   "cell_type": "code",
   "execution_count": 14,
   "metadata": {},
   "outputs": [
    {
     "data": {
      "text/plain": [
       "array([2.62607057, 2.60600218, 2.58619968, 2.56666105, 2.54738431,\n",
       "       2.52836747, 2.50960861, 2.49110581, 2.47285718, 2.45486085,\n",
       "       2.437115  , 2.41961782, 2.4023675 , 2.38536231, 2.36860049,\n",
       "       2.35208035, 2.3358002 , 2.31975836, 2.30395322, 2.28838315,\n",
       "       2.27304657, 2.25794191, 2.24306763, 2.22842221, 2.21400417,\n",
       "       2.19981202, 2.18584431, 2.17209964, 2.15857659, 2.14527377,\n",
       "       2.13218985, 2.11932347, 2.10667333, 2.09423814, 2.08201662,\n",
       "       2.07000754, 2.05820966, 2.04662178, 2.03524273, 2.02407133,\n",
       "       2.01310645, 2.00234697, 1.99179179, 1.98143983, 1.97129005,\n",
       "       1.9613414 , 1.95159286, 1.94204345, 1.93269219, 1.92353813,\n",
       "       1.91458032, 1.90581787, 1.89724986, 1.88887544, 1.88069374,\n",
       "       1.87270392, 1.86490519, 1.85729673, 1.84987777, 1.84264756,\n",
       "       1.83560536, 1.82875044, 1.82208212, 1.8155997 , 1.80930254,\n",
       "       1.80318997, 1.79726139, 1.79151619, 1.78595378, 1.78057359,\n",
       "       1.77537507, 1.7703577 , 1.76552096, 1.76086436, 1.75638742,\n",
       "       1.75208969, 1.74797073, 1.74403011, 1.74026744, 1.73668234,\n",
       "       1.73327442, 1.73004336, 1.72698881, 1.72411047, 1.72140805,\n",
       "       1.71888126, 1.71652985, 1.71435358, 1.71235223, 1.71052559,\n",
       "       1.70887348, 1.70739573, 1.70609219, 1.70496272, 1.70400721,\n",
       "       1.70322556, 1.70261769, 1.70218355, 1.70192308, 1.70183626])"
      ]
     },
     "execution_count": 14,
     "metadata": {},
     "output_type": "execute_result"
    }
   ],
   "source": [
    "interact(tau,1,0.2,1)"
   ]
  },
  {
   "cell_type": "code",
   "execution_count": 4,
   "metadata": {},
   "outputs": [
    {
     "data": {
      "text/plain": [
       "array([1, 1, 1, 1, 1, 1, 1, 1, 1, 1])"
      ]
     },
     "execution_count": 4,
     "metadata": {},
     "output_type": "execute_result"
    }
   ],
   "source": [
    "k"
   ]
  },
  {
   "cell_type": "code",
   "execution_count": null,
   "metadata": {},
   "outputs": [],
   "source": []
  }
 ],
 "metadata": {
  "kernelspec": {
   "display_name": "Workspace",
   "language": "python",
   "name": "python3"
  },
  "language_info": {
   "codemirror_mode": {
    "name": "ipython",
    "version": 3
   },
   "file_extension": ".py",
   "mimetype": "text/x-python",
   "name": "python",
   "nbconvert_exporter": "python",
   "pygments_lexer": "ipython3",
   "version": "3.10.11"
  },
  "orig_nbformat": 4
 },
 "nbformat": 4,
 "nbformat_minor": 2
}
