{
 "cells": [
  {
   "cell_type": "code",
   "execution_count": 2,
   "metadata": {},
   "outputs": [],
   "source": [
    "import numpy as np\n",
    "import matplotlib.pyplot as plt\n",
    "import scipy.constants as cn"
   ]
  },
  {
   "cell_type": "code",
   "execution_count": 6,
   "metadata": {},
   "outputs": [],
   "source": [
    "mu0 = cn.mu_0\n",
    "eps0 = cn.epsilon_0\n",
    "c0 = cn.speed_of_light\n",
    "imp0 = np.sqrt(mu0/eps0)\n"
   ]
  },
  {
   "cell_type": "code",
   "execution_count": 15,
   "metadata": {},
   "outputs": [],
   "source": [
    "jmax = 500\n",
    "jsource = 100\n",
    "nmax = 2000\n",
    "\n",
    "Ex = np.zeros(jmax)\n",
    "Hz = np.zeros(jmax)\n",
    "Ex_prev = np.zeros(jmax)\n",
    "Hz_prev = np.zeros(jmax)\n",
    "\n",
    "lambda_min = 350e-9 #meters\n",
    "dx = lambda_min/20\n",
    "dt = dx/c0\n",
    "\n",
    "eps = eps0"
   ]
  },
  {
   "cell_type": "code",
   "execution_count": 18,
   "metadata": {},
   "outputs": [],
   "source": [
    "def Source_Function(t):\n",
    "    lambda_0 = 550e-9\n",
    "    w0 = 2*np.pi*c0/lambda_0\n",
    "    tau = 300\n",
    "    t0 = tau*3\n",
    "\n",
    "    return np.exp(-(t-t0)**2/tau**2)*np.sin(w0*t)"
   ]
  },
  {
   "cell_type": "code",
   "execution_count": 27,
   "metadata": {},
   "outputs": [
    {
     "name": "stderr",
     "output_type": "stream",
     "text": [
      "C:\\Users\\128kbps\\AppData\\Local\\Temp\\ipykernel_34528\\135205729.py:6: RuntimeWarning: invalid value encountered in double_scalars\n",
      "  Hz[j] = Hz_prev[j] + dt/(dx*mu0) * (Ex[j+1] - Ex[j])\n"
     ]
    }
   ],
   "source": [
    "for n in range(nmax):\n",
    "    #Update magnetic field boundaries\n",
    "    Hz[jmax-1] = Hz_prev[jmax-2]\n",
    "    #Update magnetic field\n",
    "    for j in range(jmax-1):\n",
    "        Hz[j] = Hz_prev[j] + dt/(dx*mu0) * (Ex[j+1] - Ex[j])\n",
    "        Hz_prev[j] = Hz[j]\n",
    "    Ex[0] = Ex_prev[1]\n",
    "    for j in range(1,jmax):\n",
    "        Ex[j] = Ex_prev[j] + dt/(dx*eps) * (Hz[j] - Hz[j-1])\n",
    "        Ex_prev[j] = Ex[j]\n",
    "\n",
    "    Ex[jsource] += Source_Function(n+1)\n",
    "    Ex_prev[jsource] = Ex[jsource]"
   ]
  },
  {
   "cell_type": "code",
   "execution_count": 29,
   "metadata": {},
   "outputs": [],
   "source": [
    "if n%10 == 0:\n",
    "    plt.plot(Ex)\n",
    "    plt.ylim([-1,1])\n",
    "    plt.show()\n",
    "    #plt.close()"
   ]
  },
  {
   "cell_type": "code",
   "execution_count": null,
   "metadata": {},
   "outputs": [],
   "source": []
  }
 ],
 "metadata": {
  "kernelspec": {
   "display_name": "Workspace",
   "language": "python",
   "name": "python3"
  },
  "language_info": {
   "codemirror_mode": {
    "name": "ipython",
    "version": 3
   },
   "file_extension": ".py",
   "mimetype": "text/x-python",
   "name": "python",
   "nbconvert_exporter": "python",
   "pygments_lexer": "ipython3",
   "version": "3.10.11"
  },
  "orig_nbformat": 4
 },
 "nbformat": 4,
 "nbformat_minor": 2
}
