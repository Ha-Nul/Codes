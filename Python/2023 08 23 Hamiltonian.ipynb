{
 "cells": [
  {
   "cell_type": "code",
   "execution_count": 2,
   "metadata": {},
   "outputs": [],
   "source": [
    "import numpy as np\n",
    "import matplotlib.pyplot as plt\n",
    "import scipy as sp\n",
    "import cmath\n",
    "\n",
    "np.set_printoptions(threshold=784,linewidth=np.inf)"
   ]
  },
  {
   "cell_type": "code",
   "execution_count": 3,
   "metadata": {},
   "outputs": [],
   "source": [
    "def standard_even(r,z):\n",
    "\n",
    "    A = [[0 for j in range(z)] for k in range(z)]\n",
    "\n",
    "    for i in range(z):\n",
    "        for j in range(z):\n",
    "            try:\n",
    "                if i==j:\n",
    "                    A[i][j] = (i)**2\n",
    "                if abs(i-j) == 1:\n",
    "                    A[i][j] = -r/2\n",
    "                else:\n",
    "                    None\n",
    "            except:\n",
    "                None\n",
    "\n",
    "    test_A = np.array(A)\n",
    "    test_A[0][1] = -r/(np.sqrt(2))\n",
    "    test_A[1][0] = -r/(np.sqrt(2))\n",
    "\n",
    "    return test_A"
   ]
  },
  {
   "cell_type": "code",
   "execution_count": 4,
   "metadata": {},
   "outputs": [],
   "source": [
    "def eigenvec_even(r,z,m):\n",
    "\n",
    "    Matrix = standard_even(r,z)\n",
    "    A_eig = np.linalg.eig(Matrix)\n",
    "    A_trans = np.transpose(A_eig[1])\n",
    "\n",
    "    return A_trans[m]\n"
   ]
  },
  {
   "cell_type": "code",
   "execution_count": 5,
   "metadata": {},
   "outputs": [],
   "source": [
    "def eigenval_even(r,z,m):\n",
    "\n",
    "    Matrix = standard_even(r,z)\n",
    "    A_eig = np.linalg.eig(Matrix)\n",
    "\n",
    "    return A_eig[0][m]"
   ]
  },
  {
   "cell_type": "code",
   "execution_count": 6,
   "metadata": {},
   "outputs": [],
   "source": [
    "r = np.linspace(0,5,200)\n",
    "tau = np.linspace(0,1,200)"
   ]
  },
  {
   "cell_type": "code",
   "execution_count": 7,
   "metadata": {},
   "outputs": [],
   "source": [
    "def elements(d,x,y):\n",
    "\n",
    "    #x_trans = np.transpose(x)\n",
    "\n",
    "    arr = np.matmul(d,y)\n",
    "    arr2 = np.matmul(x,arr)\n",
    "\n",
    "    return arr2"
   ]
  },
  {
   "cell_type": "code",
   "execution_count": 44,
   "metadata": {},
   "outputs": [],
   "source": [
    "def Hamiltonian_Matrix(r,z,g,omega):\n",
    "\n",
    "    A = [[0 for j in range(z)] for k in range(z)]\n",
    "\n",
    "    a_up = g*elements(standard_even(0,z),eigenvec_even(r,z,0),eigenvec_even(r,z,0))\n",
    "    a_down = g*elements(standard_even(0,z),eigenvec_even(r,z,1),eigenvec_even(r,z,1))\n",
    "    a_diagonal = g*elements(standard_even(0,z),eigenvec_even(r,z,0),eigenvec_even(r,z,1))\n",
    "\n",
    "\n",
    "    for i in range(z):\n",
    "        for j in range(z):\n",
    "            try:\n",
    "\n",
    "                if i==j and j%2 == 0:\n",
    "                    A[i][j] = i*omega/2 + eigenval_even(r,2,0)\n",
    "                    A[i+1][j+1] = i*omega/2 + eigenval_even(r,2,1)\n",
    "\n",
    "                if (j-i) == 2 and j%2 == 0 or j%2 == 2: #파이썬은 행렬 index가 0부터 시작함.\n",
    "                    A[i][j] = a_up*np.sqrt(j/2)\n",
    "                    A[i+1][j+1] = a_down*np.sqrt(j/2)\n",
    "                    A[i][j+1] = a_diagonal*np.sqrt(j/2)\n",
    "                    A[i+1][j] = a_diagonal*np.sqrt(j/2)\n",
    "\n",
    "                if z%2 != 0 and i == z-2 and j == z-1 :\n",
    "                    A[i][j] = a_diagonal*np.sqrt(j/2)\n",
    "\n",
    "                else:\n",
    "                    None\n",
    "            except:\n",
    "                None\n",
    "\n",
    "    np_A = np.array(A)\n",
    "    np_B = np.array(A)\n",
    "    sum_A = np.transpose(np_B)\n",
    "\n",
    "    for i in range(z):\n",
    "        for j in range(z):\n",
    "            if i == j:\n",
    "                sum_A[i][j] = 0\n",
    "\n",
    "    test_A = sum_A + np_A\n",
    "\n",
    "\n",
    "    return test_A\n"
   ]
  },
  {
   "cell_type": "code",
   "execution_count": 47,
   "metadata": {},
   "outputs": [
    {
     "data": {
      "text/plain": [
       "array([[0., 0., 0., 0., 0., 0., 0., 0., 0.],\n",
       "       [0., 1., 0., 0., 0., 0., 0., 0., 0.],\n",
       "       [0., 0., 1., 0., 0., 0., 0., 0., 0.],\n",
       "       [0., 0., 0., 2., 0., 0., 0., 0., 0.],\n",
       "       [0., 0., 0., 0., 2., 0., 0., 0., 0.],\n",
       "       [0., 0., 0., 0., 0., 3., 0., 0., 0.],\n",
       "       [0., 0., 0., 0., 0., 0., 3., 0., 0.],\n",
       "       [0., 0., 0., 0., 0., 0., 0., 4., 0.],\n",
       "       [0., 0., 0., 0., 0., 0., 0., 0., 4.]])"
      ]
     },
     "execution_count": 47,
     "metadata": {},
     "output_type": "execute_result"
    }
   ],
   "source": [
    "Hamiltonian_Matrix(0,9,0,1)"
   ]
  },
  {
   "cell_type": "code",
   "execution_count": 10,
   "metadata": {},
   "outputs": [],
   "source": [
    "def diagonalized_Hamiltonian(r,z,g,omega):\n",
    "    \n",
    "    mat = [[0 for i in range(z)]for j in range(z)]\n",
    "\n",
    "    for i in range(z):\n",
    "        for j in range(z):\n",
    "            if i == j:\n",
    "                mat[i][j] = np.linalg.eig(Hamiltonian_Matrix(r,z,g,omega))[0][i]\n",
    "\n",
    "    return np.array(mat)"
   ]
  },
  {
   "cell_type": "code",
   "execution_count": 11,
   "metadata": {},
   "outputs": [],
   "source": [
    "def Hamiltonian_Matrix_Eigenvec(r,z,g,omega):\n",
    "    return np.linalg.eig(Hamiltonian_Matrix(r,z,g,omega))[1].T"
   ]
  },
  {
   "cell_type": "code",
   "execution_count": 12,
   "metadata": {},
   "outputs": [],
   "source": [
    "def pauli(x):\n",
    "    sigma = [[0 for i in range(2)] for j in range(2)]\n",
    "\n",
    "    if x == 1:\n",
    "        sigma[0][1] = 1\n",
    "        sigma[1][0] = 1\n",
    "        return np.array(sigma)\n",
    "    if x == 2: \n",
    "        sigma[0][1] = 1j\n",
    "        sigma[1][0] = -1j\n",
    "        return np.array(sigma)\n",
    "    if x == 3:\n",
    "        sigma[0][0] = 1\n",
    "        sigma[1][1] = 1\n",
    "        return np.array(sigma)"
   ]
  },
  {
   "cell_type": "code",
   "execution_count": 13,
   "metadata": {},
   "outputs": [],
   "source": [
    "def pauli_tensorproduct(x,y):\n",
    "    A = np.identity(y)\n",
    "\n",
    "    Pauli_Tens = np.kron(A,pauli(x))\n",
    "\n",
    "    return Pauli_Tens"
   ]
  },
  {
   "cell_type": "code",
   "execution_count": 14,
   "metadata": {},
   "outputs": [],
   "source": [
    "def Spin_correlation(r,beta,tau,boson,g):\n",
    "\n",
    "    b = beta\n",
    "    t = tau\n",
    "\n",
    "    Correlation = []\n",
    "    Z = []\n",
    "\n",
    "    Inner_e_1 = sp.linalg.expm(-b*diagonalized_Hamiltonian(r,2*boson,g,1))\n",
    "    Inner_e_2 = sp.linalg.expm(t*diagonalized_Hamiltonian(r,2*boson,g,1))\n",
    "    Inner_e_3 = sp.linalg.expm(-t*diagonalized_Hamiltonian(r,2*boson,g,1))\n",
    "\n",
    "    matmul1 = np.matmul(Inner_e_3,pauli_tensorproduct(1,boson))\n",
    "    matmul2 = np.matmul(pauli_tensorproduct(1,boson),matmul1)\n",
    "    matmul3 = np.matmul(Inner_e_2,matmul2)\n",
    "    matmul4 = np.matmul(Inner_e_1,matmul3)\n",
    "\n",
    "    for i in range(2*boson):\n",
    "        Correlation.append(elements(matmul4,Hamiltonian_Matrix_Eigenvec(r,2*boson,g,1)[i],Hamiltonian_Matrix_Eigenvec(r,2*boson,g,1)[i]))\n",
    "        Z.append(sp.linalg.expm(-b*diagonalized_Hamiltonian(r,2*boson,g,1)[i][i]))\n",
    "\n",
    "    np_Cor = np.array(Correlation)\n",
    "    np_Z = np.array(Z)\n",
    "    \n",
    "    sum_Cor = np.sum(np_Cor)\n",
    "    sum_Z = np.sum(np_Z)\n",
    "\n",
    "    return sum_Cor/sum_Z"
   ]
  },
  {
   "cell_type": "code",
   "execution_count": 15,
   "metadata": {},
   "outputs": [],
   "source": [
    "def Time(x):\n",
    "    Time = []\n",
    "    \n",
    "    tau = np.linspace(0,1,200)\n",
    "\n",
    "    for i in range(len(tau)):\n",
    "        a = Spin_correlation(0,1,tau[i],2,x)\n",
    "        Time.append(a)\n",
    "\n",
    "    return Time"
   ]
  },
  {
   "cell_type": "code",
   "execution_count": 16,
   "metadata": {},
   "outputs": [
    {
     "data": {
      "text/plain": [
       "[<matplotlib.lines.Line2D at 0x7f9c809638b0>]"
      ]
     },
     "execution_count": 16,
     "metadata": {},
     "output_type": "execute_result"
    },
    {
     "data": {
      "image/png": "[encoded data removed]",
      "text/plain": [
       "<Figure size 640x480 with 1 Axes>"
      ]
     },
     "metadata": {},
     "output_type": "display_data"
    }
   ],
   "source": [
    "plt.plot(tau,Time(0.2))\n",
    "plt.plot(tau,Time(0.4))\n",
    "plt.plot(tau,Time(0.6))\n",
    "plt.plot(tau,Time(0.8))\n",
    "plt.plot(tau,Time(1))\n",
    "\n",
    "#plt.ylim(0,1)"
   ]
  },
  {
   "cell_type": "code",
   "execution_count": 31,
   "metadata": {},
   "outputs": [],
   "source": [
    "def Transformed_Function(beta,r,z,g,omega):\n",
    "    Z = []\n",
    "    for i in range(2*z):\n",
    "        Z.append(sp.linalg.expm(-beta*diagonalized_Hamiltonian(r,2*z,g,1)[i][i]))\n",
    "    \n",
    "    Z = np.array(Z)\n",
    "    Z_sum = np.sum(Z)\n",
    "\n",
    "    A = [[0 for i in range(2*z)] for j in range(2*z)]\n",
    "    \n",
    "    for i in range(2*z):\n",
    "        for j in range(2*z):\n",
    "            expec = elements(pauli_tensorproduct(1,z),Hamiltonian_Matrix_Eigenvec(r,2*z,g,omega)[i],Hamiltonian_Matrix_Eigenvec(r,2*z,g,omega)[j])          \n",
    "            conju = np.conjugate(expec)\n",
    "\n",
    "            n = diagonalized_Hamiltonian(r,2*z,g,omega)[i][i]\n",
    "            m = diagonalized_Hamiltonian(r,2*z,g,omega)[j][j]\n",
    "\n",
    "            matsu_freq_boson = (2*i*np.pi)/beta\n",
    "\n",
    "            denom =  matsu_freq_boson*j + n - m\n",
    "            #sign of numerator e^E_m may can change \n",
    "            numer = np.exp(-beta*n) - np.exp(-beta*m)\n",
    "\n",
    "            value = expec*conju*numer/(denom)\n",
    "\n",
    "            A[i][j] = value\n",
    "    np_A = np.array(A)\n",
    "    sum_A = np.sum(A)\n",
    "\n",
    "    return Z_sum"
   ]
  },
  {
   "cell_type": "code",
   "execution_count": 18,
   "metadata": {},
   "outputs": [],
   "source": [
    "def Mat(r,z,i):\n",
    "    Mat = []\n",
    "    one = eigenvec_even(r,2*z,0)\n",
    "    two = eigenvec_even(r,2*z,1)\n",
    "\n",
    "    rix = [[elements(standard_even(r,2*z),one,one),elements(standard_even(r,2*z),one,two)],[elements(standard_even(r,2*z),two,one),elements(standard_even(r,2*z),two,two)]]\n",
    "    Mat.append(rix)\n",
    "\n",
    "    np_Mat = np.array(Mat)\n",
    "    Eigenval = np.linalg.eig(np_Mat)[0][0][i]\n",
    "\n",
    "    return Eigenval"
   ]
  },
  {
   "cell_type": "code",
   "execution_count": 19,
   "metadata": {},
   "outputs": [],
   "source": [
    "def Tim_2(x,y):\n",
    "    Time = []\n",
    "    \n",
    "    tau = np.linspace(0,10,200)\n",
    "\n",
    "    for i in range(len(tau)):\n",
    "        a = np.abs(Mat(tau[i],1,x))\n",
    "        b = np.abs(Mat(tau[i],1,y))\n",
    "        Time.append(a+b)\n",
    "\n",
    "    return Time"
   ]
  },
  {
   "cell_type": "code",
   "execution_count": 106,
   "metadata": {},
   "outputs": [
    {
     "name": "stdout",
     "output_type": "stream",
     "text": [
      "141.42489172702238\n"
     ]
    }
   ],
   "source": [
    "t = np.linspace(0,10,200)\n",
    "\n",
    "asdf = Mat(100,1,0)\n",
    "asdff = Mat(100,1,1)\n",
    "\n",
    "print(asdff-asdf)"
   ]
  },
  {
   "cell_type": "code",
   "execution_count": 134,
   "metadata": {},
   "outputs": [],
   "source": [
    "def Spectral_Function(beta,r,z,g,omega,eta):\n",
    "    Z = []\n",
    "    for i in range(2*z):\n",
    "        Z.append(sp.linalg.expm(-beta*diagonalized_Hamiltonian(r,2*z,g,1)[i][i]))\n",
    "    \n",
    "    Z = np.array(Z)\n",
    "    Z_sum = np.sum(Z)\n",
    "\n",
    "    A = [[0 for i in range(2*z)] for j in range(2*z)]\n",
    "    \n",
    "    for i in range(2*z):\n",
    "        for j in range(2*z):\n",
    "            expec = elements(pauli_tensorproduct(1,z),Hamiltonian_Matrix_Eigenvec(r,2*z,g,1)[i],Hamiltonian_Matrix_Eigenvec(r,2*z,g,1)[j])          \n",
    "            conju = np.conjugate(expec)\n",
    "\n",
    "            n = diagonalized_Hamiltonian(r,2*z,g,1)[i][i]\n",
    "            m = diagonalized_Hamiltonian(r,2*z,g,1)[j][j]\n",
    "\n",
    "            denom =  (omega + n - m)**2 + eta**2\n",
    "            #sign of numerator e^E_m may can change \n",
    "            numer = np.exp(-beta*n)-np.exp(-beta*m)\n",
    "\n",
    "            value = expec*conju*numer*2*eta/(denom)\n",
    "\n",
    "            A[i][j] = value\n",
    "            \n",
    "    np_A = np.array(A)\n",
    "    sum_A = np.sum(A)\n",
    "\n",
    "    return sum_A/Z_sum"
   ]
  },
  {
   "cell_type": "code",
   "execution_count": 118,
   "metadata": {},
   "outputs": [
    {
     "data": {
      "text/plain": [
       "0.024221319358196717"
      ]
     },
     "execution_count": 118,
     "metadata": {},
     "output_type": "execute_result"
    }
   ],
   "source": [
    "Spectral_Function(1,1,1,1,1,0.01)\n"
   ]
  },
  {
   "cell_type": "code",
   "execution_count": 29,
   "metadata": {},
   "outputs": [
    {
     "data": {
      "text/plain": [
       "array([[1., 0., 0., 0.],\n",
       "       [0., 1., 0., 0.],\n",
       "       [0., 0., 1., 0.],\n",
       "       [0., 0., 0., 1.]])"
      ]
     },
     "execution_count": 29,
     "metadata": {},
     "output_type": "execute_result"
    }
   ],
   "source": [
    "Hamiltonian_Matrix_Eigenvec(0,4,0,1)"
   ]
  },
  {
   "cell_type": "code",
   "execution_count": 119,
   "metadata": {},
   "outputs": [],
   "source": [
    "def output(x,y):\n",
    "    A = []\n",
    "    \n",
    "    Om = np.linspace(0,omega,200)\n",
    "\n",
    "    for i in range(len(Om)):\n",
    "        a = Spectral_Function(beta,r,z,g,Om[i],eta)\n",
    "        Omeg.append(a)\n",
    "        \n",
    "\n",
    "    return Omeg"
   ]
  },
  {
   "cell_type": "code",
   "execution_count": 129,
   "metadata": {},
   "outputs": [
    {
     "data": {
      "text/plain": [
       "[<matplotlib.lines.Line2D at 0x7f9c90f536a0>]"
      ]
     },
     "execution_count": 129,
     "metadata": {},
     "output_type": "execute_result"
    },
    {
     "data": {
      "image/png": "[encoded data removed]",
      "text/plain": [
       "<Figure size 640x480 with 1 Axes>"
      ]
     },
     "metadata": {},
     "output_type": "display_data"
    }
   ],
   "source": [
    "Om = np.linspace(0,5,200)\n",
    "\n",
    "plt.plot(Om,omega(1,1,3,0,5,0.01))"
   ]
  },
  {
   "cell_type": "code",
   "execution_count": 135,
   "metadata": {},
   "outputs": [
    {
     "data": {
      "text/plain": [
       "1.3678794411714426"
      ]
     },
     "execution_count": 135,
     "metadata": {},
     "output_type": "execute_result"
    }
   ],
   "source": [
    "sksnrl1 = Spectral_Function(1,1,2,0,1,0.01)\n",
    "sksnrl2 = Spectral_Function(1,1,1,0,1,0.01)\n",
    "\n",
    "sksnrl1/sksnrl2"
   ]
  },
  {
   "cell_type": "code",
   "execution_count": 92,
   "metadata": {},
   "outputs": [
    {
     "data": {
      "text/plain": [
       "0.503214724408055"
      ]
     },
     "execution_count": 92,
     "metadata": {},
     "output_type": "execute_result"
    }
   ],
   "source": [
    "np.exp(-2)+np.exp(-1)"
   ]
  },
  {
   "cell_type": "code",
   "execution_count": null,
   "metadata": {},
   "outputs": [],
   "source": []
  }
 ],
 "metadata": {
  "kernelspec": {
   "display_name": "Workspace",
   "language": "python",
   "name": "python3"
  },
  "language_info": {
   "codemirror_mode": {
    "name": "ipython",
    "version": 3
   },
   "file_extension": ".py",
   "mimetype": "text/x-python",
   "name": "python",
   "nbconvert_exporter": "python",
   "pygments_lexer": "ipython3",
   "version": "3.10.11"
  },
  "orig_nbformat": 4
 },
 "nbformat": 4,
 "nbformat_minor": 2
}
