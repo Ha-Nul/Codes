{
 "cells": [
  {
   "cell_type": "code",
   "execution_count": 2,
   "metadata": {},
   "outputs": [],
   "source": [
    "import numpy as np\n",
    "import scipy as sp\n",
    "import Hamiltonian as H"
   ]
  },
  {
   "cell_type": "code",
   "execution_count": 3,
   "metadata": {},
   "outputs": [],
   "source": [
    "tau = np.linspace(0,1,10)\n",
    "k = np.linspace(1,10,10)\n",
    "g = 0.2"
   ]
  },
  {
   "cell_type": "code",
   "execution_count": 4,
   "metadata": {},
   "outputs": [],
   "source": [
    "initial = np.identity(3)\n",
    "\n",
    "def H_loc():\n",
    "    HE0 = H.Standard_even_Eigenval(1,3,0)\n",
    "    HE1 = H.Standard_even_Eigenval(1,3,1)\n",
    "    HO = H.Standard_odd_Eigenval(1,3,0)\n",
    "\n",
    "    A = np.array([[HE0,0,0],[0,HO,0],[0,0,HE1]])\n",
    "\n",
    "    return A\n",
    "\n",
    "def H_exp(tau):\n",
    "    i = 0\n",
    "    blank = []\n",
    "    HE1 = np.exp(H.Standard_even_Eigenval(1,3,0))\n",
    "    HE2 =np.exp(H.Standard_even_Eigenval(1,3,1))\n",
    "    HO = np.exp(H.Standard_odd_Eigenval(1,3,0))\n",
    "    for k in range(len(tau)):\n",
    "        mat = np.array([[tau[k],0,0],[0,tau[k],0],[0,0,tau[k]]])\n",
    "        matrix = np.array([[HE1,0,0],[0,HO,0],[0,0,HE2]])\n",
    "        blank.append(mat @ matrix)#sp.linalg.expm(matrix))\n",
    "\n",
    "    return np.array(blank)\n",
    "\n",
    "def N(a):\n",
    "    HE1 = H.Standard_even_Eigenvec(1,3,0)\n",
    "    HE2 = H.Standard_even_Eigenvec(1,3,1)\n",
    "    HO = H.Standard_odd_Eigenvec(1,3,0)\n",
    "\n",
    "    matrix = [[0,0,0],[0,0,0],[0,0,0]]\n",
    "\n",
    "    matrix[0][1] = matrix [1][0] = g * np.matmul(HO,HE1)\n",
    "    matrix[1][2] = matrix [2][1] = g * np.matmul(HE2,HO)\n",
    "\n",
    "    return matrix\n",
    "\n",
    "\n",
    "\n",
    "def sigma(H_loc,N,tau,n):\n",
    "    N_arr = []\n",
    "    for i in range(n):\n",
    "        N_arr.append(N(1))\n",
    "        \n",
    "    sigma_cut = []\n",
    "    V_cut = 0\n",
    "    i = 0 \n",
    "    Nmatrx = N\n",
    "    while i != n :\n",
    "        V_cut = H.interact(tau,0.2,0.2,10)[i]\n",
    "        sigma_cut.append(V_cut * 0.5 * (N_arr[i] @ H_loc[i] @ N_arr[i]))\n",
    "        i = i + 1\n",
    "    return sigma_cut\n",
    "\n",
    "def propagator(H_loc, tau):\n",
    "    #blank array\n",
    "    roundprop = np.zeros(10)\n",
    "    roundprop_array = np.zeros(len(roundprop)+1)\n",
    "\n",
    "    prop = np.zeros(10)\n",
    "    prop_array = np.zeros(len(prop)+1)\n",
    "\n",
    "    #initial condition\n",
    "    roundprop[0] = - H_loc[0]*initial - tau[0]*np.matmul(sigma(H_loc(tau),N,tau,0),initial)\n",
    "    prop[0] = initial\n",
    "\n",
    "    #update propagator condition\n",
    "    for i in range(len(prop)):\n",
    "        prop_array[i] = prop[i-1] + roundprop[j]*tau[0]\n",
    "        prop[i+1] = prop_array[i]\n",
    "\n",
    "    #update differentiable condition\n",
    "    for i in range(len(roundprop)):\n",
    "        #blank variable for summation\n",
    "        b = 0\n",
    "        for j in range(i):\n",
    "            b = b + prop[j]\n",
    "        roundprop_array[i] = -H_loc(tau)[i]*prop[i]-tau[0]*b*sigma(H_loc(tau),N,tau,i)\n",
    "        roundprop[i+1] = roundprop_array[i]\n",
    "\n",
    "    return prop"
   ]
  },
  {
   "cell_type": "code",
   "execution_count": 5,
   "metadata": {},
   "outputs": [
    {
     "data": {
      "text/plain": [
       "[array([[0., 0., 0.],\n",
       "        [0., 0., 0.],\n",
       "        [0., 0., 0.]]),\n",
       " array([[ 0.00104302,  0.        , -0.00035896],\n",
       "        [ 0.        ,  0.00046518,  0.        ],\n",
       "        [-0.00035896,  0.        ,  0.00012354]]),\n",
       " array([[ 0.00110279,  0.        , -0.00037954],\n",
       "        [ 0.        ,  0.00049184,  0.        ],\n",
       "        [-0.00037954,  0.        ,  0.00013062]]),\n",
       " array([[ 0.00096257,  0.        , -0.00033128],\n",
       "        [ 0.        ,  0.0004293 ,  0.        ],\n",
       "        [-0.00033128,  0.        ,  0.00011401]]),\n",
       " array([[ 8.21783596e-04,  0.00000000e+00, -2.82824931e-04],\n",
       "        [ 0.00000000e+00,  3.66512769e-04,  0.00000000e+00],\n",
       "        [-2.82824931e-04,  0.00000000e+00,  9.73369897e-05]]),\n",
       " array([[ 7.20255865e-04,  0.00000000e+00, -2.47883160e-04],\n",
       "        [ 0.00000000e+00,  3.21231736e-04,  0.00000000e+00],\n",
       "        [-2.47883160e-04,  0.00000000e+00,  8.53114348e-05]]),\n",
       " array([[ 6.59571888e-04,  0.00000000e+00, -2.26998171e-04],\n",
       "        [ 0.00000000e+00,  2.94166883e-04,  0.00000000e+00],\n",
       "        [-2.26998171e-04,  0.00000000e+00,  7.81236597e-05]]),\n",
       " array([[ 6.35989786e-04,  0.00000000e+00, -2.18882158e-04],\n",
       "        [ 0.00000000e+00,  2.83649344e-04,  0.00000000e+00],\n",
       "        [-2.18882158e-04,  0.00000000e+00,  7.53304538e-05]]),\n",
       " array([[ 6.48795650e-04,  0.00000000e+00, -2.23289423e-04],\n",
       "        [ 0.00000000e+00,  2.89360716e-04,  0.00000000e+00],\n",
       "        [-2.23289423e-04,  0.00000000e+00,  7.68472573e-05]]),\n",
       " array([[ 7.02835111e-04,  0.00000000e+00, -2.41887636e-04],\n",
       "        [ 0.00000000e+00,  3.13462138e-04,  0.00000000e+00],\n",
       "        [-2.41887636e-04,  0.00000000e+00,  8.32480160e-05]])]"
      ]
     },
     "execution_count": 5,
     "metadata": {},
     "output_type": "execute_result"
    }
   ],
   "source": [
    "sigma(H_exp(tau),N,tau,10)\n"
   ]
  },
  {
   "cell_type": "code",
   "execution_count": 6,
   "metadata": {},
   "outputs": [
    {
     "data": {
      "text/plain": [
       "4.032127023771304"
      ]
     },
     "execution_count": 6,
     "metadata": {},
     "output_type": "execute_result"
    }
   ],
   "source": [
    "H.Standard_odd_Eigenval(1,3,1)"
   ]
  },
  {
   "cell_type": "code",
   "execution_count": 7,
   "metadata": {},
   "outputs": [
    {
     "data": {
      "text/plain": [
       "array([0.08942484, 0.12639003, 0.15464123, 0.17831574, 0.19900744, 0.21752842, 0.23435763, 0.24980492, 0.2640841 , 0.2773501 ])"
      ]
     },
     "execution_count": 7,
     "metadata": {},
     "output_type": "execute_result"
    }
   ],
   "source": [
    "H.coupling(0.2,0.2,10)"
   ]
  },
  {
   "cell_type": "code",
   "execution_count": 8,
   "metadata": {},
   "outputs": [
    {
     "data": {
      "text/plain": [
       "array([0.43383755, 0.20963657, 0.11082537, 0.06448932, 0.04129267, 0.02895291, 0.02209461, 0.01826113, 0.01630022, 0.01569591])"
      ]
     },
     "execution_count": 8,
     "metadata": {},
     "output_type": "execute_result"
    }
   ],
   "source": [
    "H.interact(tau,0.2,0.2,10)"
   ]
  },
  {
   "cell_type": "code",
   "execution_count": 9,
   "metadata": {},
   "outputs": [],
   "source": [
    "NCA = np.array([[5.3302,0,0.00201489],[0,0.000235822,0],[0.00201489,0,-9.0148e-07]])"
   ]
  },
  {
   "cell_type": "code",
   "execution_count": 18,
   "metadata": {},
   "outputs": [],
   "source": [
    "expp = np.exp(-1.67343)"
   ]
  },
  {
   "cell_type": "code",
   "execution_count": 15,
   "metadata": {},
   "outputs": [],
   "source": [
    "check = NCA*expp"
   ]
  },
  {
   "cell_type": "code",
   "execution_count": 16,
   "metadata": {},
   "outputs": [
    {
     "data": {
      "text/plain": [
       "array([[ 2.84122037e+01,  0.00000000e+00,  1.07402096e-02],\n",
       "       [ 0.00000000e+00,  1.25703026e-03,  0.00000000e+00],\n",
       "       [ 1.07402096e-02,  0.00000000e+00, -4.80526686e-06]])"
      ]
     },
     "execution_count": 16,
     "metadata": {},
     "output_type": "execute_result"
    }
   ],
   "source": [
    "check"
   ]
  },
  {
   "cell_type": "code",
   "execution_count": 17,
   "metadata": {},
   "outputs": [
    {
     "data": {
      "text/plain": [
       "array([[8.07253435e+02, 0.00000000e+00, 3.05152971e-01],\n",
       "       [0.00000000e+00, 1.58012508e-06, 0.00000000e+00],\n",
       "       [3.05152971e-01, 0.00000000e+00, 1.15352125e-04]])"
      ]
     },
     "execution_count": 17,
     "metadata": {},
     "output_type": "execute_result"
    }
   ],
   "source": [
    "check @ check"
   ]
  },
  {
   "cell_type": "code",
   "execution_count": 19,
   "metadata": {},
   "outputs": [
    {
     "data": {
      "text/plain": [
       "1.0000019103476299"
      ]
     },
     "execution_count": 19,
     "metadata": {},
     "output_type": "execute_result"
    }
   ],
   "source": [
    "5.33043 * expp"
   ]
  },
  {
   "cell_type": "code",
   "execution_count": 32,
   "metadata": {},
   "outputs": [],
   "source": [
    "def aRecursive(n):\n",
    "    print(n)\n",
    "    if n == 1:\n",
    "        return 3\n",
    "    else:\n",
    "        #print(2 * aRecursive(n-1) + 5)\n",
    "        return 2 * aRecursive(n-1) + 5"
   ]
  },
  {
   "cell_type": "code",
   "execution_count": 33,
   "metadata": {},
   "outputs": [
    {
     "name": "stdout",
     "output_type": "stream",
     "text": [
      "3\n",
      "2\n",
      "1\n"
     ]
    },
    {
     "data": {
      "text/plain": [
       "27"
      ]
     },
     "execution_count": 33,
     "metadata": {},
     "output_type": "execute_result"
    }
   ],
   "source": [
    "aRecursive(3) "
   ]
  },
  {
   "cell_type": "code",
   "execution_count": 76,
   "metadata": {},
   "outputs": [],
   "source": [
    "array0 = np.array([[2,2,2],[2,2,2],[2,2,2]])\n",
    "array1 = np.array([array0 for i in range(10)])\n",
    "\n",
    "def test1(a):\n",
    "    arr0 = np.array([[2,2,2],[2,2,2],[2,2,2]])\n",
    "\n",
    "    arr1 = np.array([arr0 for i in range(10)])\n",
    "    arr1[0] = np.identity(3)\n",
    "    \n",
    "    for i in range(1,10,1):\n",
    "        arr1[i] = arr1[i-1] + a[i-1]\n",
    "    \n",
    "    return arr1\n",
    "\n",
    "def test2(a):\n",
    "    arr0 = [0,0,0,0,0,0,0,0,0,0]\n",
    "    for i in range(10):\n",
    "        arr0[i] = a[i] + np.identity(3)\n",
    "    \n",
    "    return arr0\n",
    "\n",
    "def test3():\n",
    "    arr1 = np.full(10,1)\n",
    "    arr2 = [[[1,1,1],[1,1,1],[1,1,1]] for i in range(10)]\n",
    "\n",
    "    for j in range(10):\n",
    "        if j == 0:\n",
    "            arr1 = test2(array1)\n",
    "            arr2 = test1(arr1)\n",
    "        else:\n",
    "            arr1 = test2(arr2)\n",
    "            arr2 = test1(arr1)\n",
    "            print(arr1,'\\n')\n",
    "\n",
    "    return arr1\n",
    "\n",
    "\n"
   ]
  },
  {
   "cell_type": "code",
   "execution_count": 77,
   "metadata": {},
   "outputs": [
    {
     "name": "stdout",
     "output_type": "stream",
     "text": [
      "[array([[2., 0., 0.],\n",
      "       [0., 2., 0.],\n",
      "       [0., 0., 2.]]), array([[5., 2., 2.],\n",
      "       [2., 5., 2.],\n",
      "       [2., 2., 5.]]), array([[8., 4., 4.],\n",
      "       [4., 8., 4.],\n",
      "       [4., 4., 8.]]), array([[11.,  6.,  6.],\n",
      "       [ 6., 11.,  6.],\n",
      "       [ 6.,  6., 11.]]), array([[14.,  8.,  8.],\n",
      "       [ 8., 14.,  8.],\n",
      "       [ 8.,  8., 14.]]), array([[17., 10., 10.],\n",
      "       [10., 17., 10.],\n",
      "       [10., 10., 17.]]), array([[20., 12., 12.],\n",
      "       [12., 20., 12.],\n",
      "       [12., 12., 20.]]), array([[23., 14., 14.],\n",
      "       [14., 23., 14.],\n",
      "       [14., 14., 23.]]), array([[26., 16., 16.],\n",
      "       [16., 26., 16.],\n",
      "       [16., 16., 26.]]), array([[29., 18., 18.],\n",
      "       [18., 29., 18.],\n",
      "       [18., 18., 29.]])] \n",
      "\n",
      "[array([[2., 0., 0.],\n",
      "       [0., 2., 0.],\n",
      "       [0., 0., 2.]]), array([[4., 0., 0.],\n",
      "       [0., 4., 0.],\n",
      "       [0., 0., 4.]]), array([[9., 2., 2.],\n",
      "       [2., 9., 2.],\n",
      "       [2., 2., 9.]]), array([[17.,  6.,  6.],\n",
      "       [ 6., 17.,  6.],\n",
      "       [ 6.,  6., 17.]]), array([[28., 12., 12.],\n",
      "       [12., 28., 12.],\n",
      "       [12., 12., 28.]]), array([[42., 20., 20.],\n",
      "       [20., 42., 20.],\n",
      "       [20., 20., 42.]]), array([[59., 30., 30.],\n",
      "       [30., 59., 30.],\n",
      "       [30., 30., 59.]]), array([[79., 42., 42.],\n",
      "       [42., 79., 42.],\n",
      "       [42., 42., 79.]]), array([[102.,  56.,  56.],\n",
      "       [ 56., 102.,  56.],\n",
      "       [ 56.,  56., 102.]]), array([[128.,  72.,  72.],\n",
      "       [ 72., 128.,  72.],\n",
      "       [ 72.,  72., 128.]])] \n",
      "\n",
      "[array([[2., 0., 0.],\n",
      "       [0., 2., 0.],\n",
      "       [0., 0., 2.]]), array([[4., 0., 0.],\n",
      "       [0., 4., 0.],\n",
      "       [0., 0., 4.]]), array([[8., 0., 0.],\n",
      "       [0., 8., 0.],\n",
      "       [0., 0., 8.]]), array([[17.,  2.,  2.],\n",
      "       [ 2., 17.,  2.],\n",
      "       [ 2.,  2., 17.]]), array([[34.,  8.,  8.],\n",
      "       [ 8., 34.,  8.],\n",
      "       [ 8.,  8., 34.]]), array([[62., 20., 20.],\n",
      "       [20., 62., 20.],\n",
      "       [20., 20., 62.]]), array([[104.,  40.,  40.],\n",
      "       [ 40., 104.,  40.],\n",
      "       [ 40.,  40., 104.]]), array([[163.,  70.,  70.],\n",
      "       [ 70., 163.,  70.],\n",
      "       [ 70.,  70., 163.]]), array([[242., 112., 112.],\n",
      "       [112., 242., 112.],\n",
      "       [112., 112., 242.]]), array([[344., 168., 168.],\n",
      "       [168., 344., 168.],\n",
      "       [168., 168., 344.]])] \n",
      "\n",
      "[array([[2., 0., 0.],\n",
      "       [0., 2., 0.],\n",
      "       [0., 0., 2.]]), array([[4., 0., 0.],\n",
      "       [0., 4., 0.],\n",
      "       [0., 0., 4.]]), array([[8., 0., 0.],\n",
      "       [0., 8., 0.],\n",
      "       [0., 0., 8.]]), array([[16.,  0.,  0.],\n",
      "       [ 0., 16.,  0.],\n",
      "       [ 0.,  0., 16.]]), array([[33.,  2.,  2.],\n",
      "       [ 2., 33.,  2.],\n",
      "       [ 2.,  2., 33.]]), array([[67., 10., 10.],\n",
      "       [10., 67., 10.],\n",
      "       [10., 10., 67.]]), array([[129.,  30.,  30.],\n",
      "       [ 30., 129.,  30.],\n",
      "       [ 30.,  30., 129.]]), array([[233.,  70.,  70.],\n",
      "       [ 70., 233.,  70.],\n",
      "       [ 70.,  70., 233.]]), array([[396., 140., 140.],\n",
      "       [140., 396., 140.],\n",
      "       [140., 140., 396.]]), array([[638., 252., 252.],\n",
      "       [252., 638., 252.],\n",
      "       [252., 252., 638.]])] \n",
      "\n",
      "[array([[2., 0., 0.],\n",
      "       [0., 2., 0.],\n",
      "       [0., 0., 2.]]), array([[4., 0., 0.],\n",
      "       [0., 4., 0.],\n",
      "       [0., 0., 4.]]), array([[8., 0., 0.],\n",
      "       [0., 8., 0.],\n",
      "       [0., 0., 8.]]), array([[16.,  0.,  0.],\n",
      "       [ 0., 16.,  0.],\n",
      "       [ 0.,  0., 16.]]), array([[32.,  0.,  0.],\n",
      "       [ 0., 32.,  0.],\n",
      "       [ 0.,  0., 32.]]), array([[65.,  2.,  2.],\n",
      "       [ 2., 65.,  2.],\n",
      "       [ 2.,  2., 65.]]), array([[132.,  12.,  12.],\n",
      "       [ 12., 132.,  12.],\n",
      "       [ 12.,  12., 132.]]), array([[261.,  42.,  42.],\n",
      "       [ 42., 261.,  42.],\n",
      "       [ 42.,  42., 261.]]), array([[494., 112., 112.],\n",
      "       [112., 494., 112.],\n",
      "       [112., 112., 494.]]), array([[890., 252., 252.],\n",
      "       [252., 890., 252.],\n",
      "       [252., 252., 890.]])] \n",
      "\n",
      "[array([[2., 0., 0.],\n",
      "       [0., 2., 0.],\n",
      "       [0., 0., 2.]]), array([[4., 0., 0.],\n",
      "       [0., 4., 0.],\n",
      "       [0., 0., 4.]]), array([[8., 0., 0.],\n",
      "       [0., 8., 0.],\n",
      "       [0., 0., 8.]]), array([[16.,  0.,  0.],\n",
      "       [ 0., 16.,  0.],\n",
      "       [ 0.,  0., 16.]]), array([[32.,  0.,  0.],\n",
      "       [ 0., 32.,  0.],\n",
      "       [ 0.,  0., 32.]]), array([[64.,  0.,  0.],\n",
      "       [ 0., 64.,  0.],\n",
      "       [ 0.,  0., 64.]]), array([[129.,   2.,   2.],\n",
      "       [  2., 129.,   2.],\n",
      "       [  2.,   2., 129.]]), array([[261.,  14.,  14.],\n",
      "       [ 14., 261.,  14.],\n",
      "       [ 14.,  14., 261.]]), array([[522.,  56.,  56.],\n",
      "       [ 56., 522.,  56.],\n",
      "       [ 56.,  56., 522.]]), array([[1016.,  168.,  168.],\n",
      "       [ 168., 1016.,  168.],\n",
      "       [ 168.,  168., 1016.]])] \n",
      "\n",
      "[array([[2., 0., 0.],\n",
      "       [0., 2., 0.],\n",
      "       [0., 0., 2.]]), array([[4., 0., 0.],\n",
      "       [0., 4., 0.],\n",
      "       [0., 0., 4.]]), array([[8., 0., 0.],\n",
      "       [0., 8., 0.],\n",
      "       [0., 0., 8.]]), array([[16.,  0.,  0.],\n",
      "       [ 0., 16.,  0.],\n",
      "       [ 0.,  0., 16.]]), array([[32.,  0.,  0.],\n",
      "       [ 0., 32.,  0.],\n",
      "       [ 0.,  0., 32.]]), array([[64.,  0.,  0.],\n",
      "       [ 0., 64.,  0.],\n",
      "       [ 0.,  0., 64.]]), array([[128.,   0.,   0.],\n",
      "       [  0., 128.,   0.],\n",
      "       [  0.,   0., 128.]]), array([[257.,   2.,   2.],\n",
      "       [  2., 257.,   2.],\n",
      "       [  2.,   2., 257.]]), array([[518.,  16.,  16.],\n",
      "       [ 16., 518.,  16.],\n",
      "       [ 16.,  16., 518.]]), array([[1040.,   72.,   72.],\n",
      "       [  72., 1040.,   72.],\n",
      "       [  72.,   72., 1040.]])] \n",
      "\n",
      "[array([[2., 0., 0.],\n",
      "       [0., 2., 0.],\n",
      "       [0., 0., 2.]]), array([[4., 0., 0.],\n",
      "       [0., 4., 0.],\n",
      "       [0., 0., 4.]]), array([[8., 0., 0.],\n",
      "       [0., 8., 0.],\n",
      "       [0., 0., 8.]]), array([[16.,  0.,  0.],\n",
      "       [ 0., 16.,  0.],\n",
      "       [ 0.,  0., 16.]]), array([[32.,  0.,  0.],\n",
      "       [ 0., 32.,  0.],\n",
      "       [ 0.,  0., 32.]]), array([[64.,  0.,  0.],\n",
      "       [ 0., 64.,  0.],\n",
      "       [ 0.,  0., 64.]]), array([[128.,   0.,   0.],\n",
      "       [  0., 128.,   0.],\n",
      "       [  0.,   0., 128.]]), array([[256.,   0.,   0.],\n",
      "       [  0., 256.,   0.],\n",
      "       [  0.,   0., 256.]]), array([[513.,   2.,   2.],\n",
      "       [  2., 513.,   2.],\n",
      "       [  2.,   2., 513.]]), array([[1031.,   18.,   18.],\n",
      "       [  18., 1031.,   18.],\n",
      "       [  18.,   18., 1031.]])] \n",
      "\n",
      "[array([[2., 0., 0.],\n",
      "       [0., 2., 0.],\n",
      "       [0., 0., 2.]]), array([[4., 0., 0.],\n",
      "       [0., 4., 0.],\n",
      "       [0., 0., 4.]]), array([[8., 0., 0.],\n",
      "       [0., 8., 0.],\n",
      "       [0., 0., 8.]]), array([[16.,  0.,  0.],\n",
      "       [ 0., 16.,  0.],\n",
      "       [ 0.,  0., 16.]]), array([[32.,  0.,  0.],\n",
      "       [ 0., 32.,  0.],\n",
      "       [ 0.,  0., 32.]]), array([[64.,  0.,  0.],\n",
      "       [ 0., 64.,  0.],\n",
      "       [ 0.,  0., 64.]]), array([[128.,   0.,   0.],\n",
      "       [  0., 128.,   0.],\n",
      "       [  0.,   0., 128.]]), array([[256.,   0.,   0.],\n",
      "       [  0., 256.,   0.],\n",
      "       [  0.,   0., 256.]]), array([[512.,   0.,   0.],\n",
      "       [  0., 512.,   0.],\n",
      "       [  0.,   0., 512.]]), array([[1025.,    2.,    2.],\n",
      "       [   2., 1025.,    2.],\n",
      "       [   2.,    2., 1025.]])] \n",
      "\n"
     ]
    },
    {
     "data": {
      "text/plain": [
       "[array([[2., 0., 0.],\n",
       "        [0., 2., 0.],\n",
       "        [0., 0., 2.]]),\n",
       " array([[4., 0., 0.],\n",
       "        [0., 4., 0.],\n",
       "        [0., 0., 4.]]),\n",
       " array([[8., 0., 0.],\n",
       "        [0., 8., 0.],\n",
       "        [0., 0., 8.]]),\n",
       " array([[16.,  0.,  0.],\n",
       "        [ 0., 16.,  0.],\n",
       "        [ 0.,  0., 16.]]),\n",
       " array([[32.,  0.,  0.],\n",
       "        [ 0., 32.,  0.],\n",
       "        [ 0.,  0., 32.]]),\n",
       " array([[64.,  0.,  0.],\n",
       "        [ 0., 64.,  0.],\n",
       "        [ 0.,  0., 64.]]),\n",
       " array([[128.,   0.,   0.],\n",
       "        [  0., 128.,   0.],\n",
       "        [  0.,   0., 128.]]),\n",
       " array([[256.,   0.,   0.],\n",
       "        [  0., 256.,   0.],\n",
       "        [  0.,   0., 256.]]),\n",
       " array([[512.,   0.,   0.],\n",
       "        [  0., 512.,   0.],\n",
       "        [  0.,   0., 512.]]),\n",
       " array([[1025.,    2.,    2.],\n",
       "        [   2., 1025.,    2.],\n",
       "        [   2.,    2., 1025.]])]"
      ]
     },
     "execution_count": 77,
     "metadata": {},
     "output_type": "execute_result"
    }
   ],
   "source": [
    "test3()"
   ]
  },
  {
   "cell_type": "code",
   "execution_count": 80,
   "metadata": {},
   "outputs": [
    {
     "name": "stdout",
     "output_type": "stream",
     "text": [
      "1\n",
      "2\n",
      "3\n",
      "4\n",
      "5\n",
      "6\n",
      "7\n",
      "8\n",
      "9\n",
      "10\n"
     ]
    }
   ],
   "source": [
    "a = 0\n",
    "b = 0\n",
    "\n",
    "for i in range(10):\n",
    "    a = b + 1\n",
    "    b = a\n",
    "    print(b)"
   ]
  },
  {
   "cell_type": "code",
   "execution_count": null,
   "metadata": {},
   "outputs": [],
   "source": []
  }
 ],
 "metadata": {
  "kernelspec": {
   "display_name": "Workspace",
   "language": "python",
   "name": "python3"
  },
  "language_info": {
   "codemirror_mode": {
    "name": "ipython",
    "version": 3
   },
   "file_extension": ".py",
   "mimetype": "text/x-python",
   "name": "python",
   "nbconvert_exporter": "python",
   "pygments_lexer": "ipython3",
   "version": "3.10.11"
  },
  "orig_nbformat": 4
 },
 "nbformat": 4,
 "nbformat_minor": 2
}
