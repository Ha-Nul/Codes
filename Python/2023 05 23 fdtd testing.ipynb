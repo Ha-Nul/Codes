{
 "cells": [
  {
   "cell_type": "code",
   "execution_count": 1,
   "metadata": {},
   "outputs": [],
   "source": [
    "import numpy as np\n",
    "import matplotlib.pyplot as plt\n",
    "import scipy.constants as ct"
   ]
  },
  {
   "cell_type": "code",
   "execution_count": 2,
   "metadata": {},
   "outputs": [],
   "source": [
    "mu0 = ct.mu_0\n",
    "eps0 = ct.epsilon_0\n",
    "c0 = ct.speed_of_light\n",
    "imp0 = np.sqrt(mu0/eps0)"
   ]
  },
  {
   "cell_type": "code",
   "execution_count": 3,
   "metadata": {},
   "outputs": [],
   "source": [
    "jmax = 500\n",
    "jsource = 10\n",
    "nmax = 1000\n",
    "\n",
    "Ex = np.zeros(jmax)\n",
    "Hz = np.zeros(jmax)\n",
    "\n",
    "Ex_prev = np.zeros(jmax)\n",
    "Hz_prev = np.zeros(jmax)\n",
    "\n",
    "lambda_min = 350e-9\n",
    "\n",
    "dx = lambda_min/20\n",
    "dt = dx/c0\n",
    "\n",
    "eps = np.ones(jmax) * eps0\n",
    "eps[250:300] = 10*eps0\n",
    "\n",
    "material_prof = eps > eps0"
   ]
  },
  {
   "cell_type": "code",
   "execution_count": 4,
   "metadata": {},
   "outputs": [],
   "source": [
    "unit = ct.kgf\n",
    "conduct = 1.55*unit\n",
    "\n",
    "for j in range(jmax):\n",
    "        div = j//10\n",
    "        a = div%2\n",
    "        \n",
    "        if a==1:\n",
    "            eps = np.sqrt(np.sqrt(eps0**2 + 16*np.pi**2*conduct**2))*eps0\n",
    "        else:\n",
    "            None\n",
    "\n",
    "material_prof = eps > eps0"
   ]
  },
  {
   "cell_type": "code",
   "execution_count": 5,
   "metadata": {},
   "outputs": [],
   "source": [
    "def Source_Function(t):\n",
    "    lambda_0 = 550e-9\n",
    "    w0 = 2*np.pi*c0/lambda_0\n",
    "    t0 = w0*3\n",
    "    \n",
    "    return np.exp(-(t-t0)**2/w0**2)*np.sin(w0*t*dt)"
   ]
  },
  {
   "cell_type": "code",
   "execution_count": null,
   "metadata": {},
   "outputs": [],
   "source": [
    "for n in range(nmax):\n",
    "    Hz[jmax-1] = Hz_prev[jmax-2]\n",
    "\n",
    "    for j in range(jmax-1):\n",
    "        Hz[j] = Hz_prev[j] + dt/(dx*mu0) * (Ex[j+1]-)"
   ]
  },
  {
   "attachments": {},
   "cell_type": "markdown",
   "metadata": {},
   "source": [
    "이 블록만 어떻게 이해가 되면 좋은데 하나도 안되고 있음. 아... 도대체 경계조건이 왜 저기서부터 시작하는거임?"
   ]
  },
  {
   "cell_type": "code",
   "execution_count": null,
   "metadata": {},
   "outputs": [],
   "source": [
    "for n in range(nmax):\n",
    "    #update magnetic field boundaries\n",
    "    Hz[jmax-1] = Hz_prev[jmax-2]\n",
    "    Hz[jmax-1] = Hz[0]\n",
    "    \n",
    "    for j in range(jmax-1):\n",
    "        Hz[j] = Hz_prev[j] + dt/(dx*mu0) * (Ex[j+1] - Ex[j])\n",
    "        Hz_prev[j] = Hz[j]\n",
    "    #Magenetic field source\n",
    "    Hz[jsource-1] -= Source_Function(n)/imp0\n",
    "    Hz_prev[jsource - 1] = Hz[jsource-1]\n",
    "\n",
    "    #update magnetic field boundaries\n",
    "    Ex[0] = Ex_prev[1] \n",
    "    #Brilloin zone boundary condition\n",
    "    Ex[599]=Ex[0]\n",
    "    #Update electric field source\n",
    "    for j in range(1,jmax):\n",
    "        Ex[j] = Ex_prev[j] + dt/(dx*eps_m[j]) * (Hz[j] - Hz[j-1])\n",
    "        Ex_prev[j] = Ex[j]\n",
    "        #for calculate response\n",
    "        Ex_sum[j] = Ex[j]\n",
    "        \n",
    "    response.append(Ex_sum)\n",
    "    #Electric field source\n",
    "    Ex[jsource] += Source_Function(n+1)\n",
    "    Ex_prev[jsource] = Ex[jsource]\n",
    "    fft_Ex=np.fft.fft(Ex)"
   ]
  },
  {
   "cell_type": "code",
   "execution_count": 6,
   "metadata": {},
   "outputs": [
    {
     "ename": "IndexError",
     "evalue": "index 500 is out of bounds for axis 0 with size 500",
     "output_type": "error",
     "traceback": [
      "\u001b[0;31m---------------------------------------------------------------------------\u001b[0m",
      "\u001b[0;31mIndexError\u001b[0m                                Traceback (most recent call last)",
      "Cell \u001b[0;32mIn[6], line 80\u001b[0m\n\u001b[1;32m     78\u001b[0m \u001b[39m#Update electric field source\u001b[39;00m\n\u001b[1;32m     79\u001b[0m \u001b[39mfor\u001b[39;00m j \u001b[39min\u001b[39;00m \u001b[39mrange\u001b[39m(\u001b[39m1\u001b[39m,jmax):\n\u001b[0;32m---> 80\u001b[0m     Ex[j] \u001b[39m=\u001b[39m Ex_prev[j] \u001b[39m+\u001b[39m dt\u001b[39m/\u001b[39m(dx\u001b[39m*\u001b[39meps_m[j]) \u001b[39m*\u001b[39m (Hz[j] \u001b[39m-\u001b[39m Hz[j\u001b[39m-\u001b[39m\u001b[39m1\u001b[39m])\n\u001b[1;32m     81\u001b[0m     Ex_prev[j] \u001b[39m=\u001b[39m Ex[j]\n\u001b[1;32m     82\u001b[0m     \u001b[39m#for calculate response\u001b[39;00m\n",
      "\u001b[0;31mIndexError\u001b[0m: index 500 is out of bounds for axis 0 with size 500"
     ]
    }
   ],
   "source": [
    "import numpy as np\n",
    "import matplotlib.pyplot as plt\n",
    "import scipy.constants as ct\n",
    "\n",
    "eps0 = ct.epsilon_0\n",
    "mu0 = ct.mu_0\n",
    "c0 = ct.speed_of_light\n",
    "imp0 = np.sqrt(mu0/eps0)\n",
    "\n",
    "jmax = 600\n",
    "Hmax = 600\n",
    "jsource = 10\n",
    "nmax = 3000\n",
    "\n",
    "#t=np.linspace(0,1,500)\n",
    "\n",
    "Ex = np.zeros(jmax)\n",
    "Hz = np.zeros(jmax)\n",
    "Ex_prev = np.zeros(jmax)\n",
    "Hz_prev = np.zeros(jmax)\n",
    "\n",
    "#block to analyze response\n",
    "Ex_sum = np.zeros(nmax)\n",
    "response = []\n",
    "response_x = np.arange(nmax)\n",
    "frequency = np.ones(3000)\n",
    "\n",
    "#frequency domain\n",
    "for i in range(1,3000):\n",
    "    frequency[i] = 2*np.pi/i\n",
    "\n",
    "\n",
    "lambda_min = 350e-9\n",
    "dx = lambda_min/20\n",
    "dt = dx / c0\n",
    "\n",
    "eps=np.full(100,eps0)\n",
    "\n",
    "unit = ct.kgf\n",
    "conduct = 1.55*unit\n",
    "\n",
    "eps[75:100]= np.sqrt(np.sqrt(eps0**2 + 16*np.pi**2*conduct**2))*eps0\n",
    "\n",
    "eps_m = np.tile(eps,5)\n",
    "\n",
    "material_prof = eps_m > eps0\n",
    "\n",
    "def Source_Function(t):\n",
    "    lambda_0 = 550e-9\n",
    "    w0 = 2*np.pi*c0/lambda_0\n",
    "    tau = 30\n",
    "    t0 = tau*3\n",
    "    \n",
    "    return np.exp(-(t-t0)**2/tau**2)*np.sin(w0*t*dt)\n",
    "\n",
    "def Function(t):\n",
    "    n = 10\n",
    "\n",
    "    return (1/(t+0.01))*np.sin(n*(t+0.1))\n",
    "\n",
    "\n",
    "for n in range(nmax):\n",
    "    #update magnetic field boundaries\n",
    "    Hz[jmax-1] = Hz_prev[jmax-2]\n",
    "    Hz[jmax-1] = Hz[0]\n",
    "    \n",
    "    for j in range(jmax-1):\n",
    "        Hz[j] = Hz_prev[j] + dt/(dx*mu0) * (Ex[j+1] - Ex[j])\n",
    "        Hz_prev[j] = Hz[j]\n",
    "    #Magenetic field source\n",
    "    Hz[jsource-1] -= Source_Function(n)/imp0\n",
    "    Hz_prev[jsource - 1] = Hz[jsource-1]\n",
    "\n",
    "    #update magnetic field boundaries\n",
    "    Ex[0] = Ex_prev[1] \n",
    "    #Brilloin zone boundary condition\n",
    "    Ex[599]=Ex[0]\n",
    "    #Update electric field source\n",
    "    for j in range(1,jmax):\n",
    "        Ex[j] = Ex_prev[j] + dt/(dx*eps_m[j]) * (Hz[j] - Hz[j-1])\n",
    "        Ex_prev[j] = Ex[j]\n",
    "        #for calculate response\n",
    "        Ex_sum[j] = Ex[j]\n",
    "        \n",
    "    response.append(Ex_sum)\n",
    "    #Electric field source\n",
    "    Ex[jsource] += Source_Function(n+1)\n",
    "    Ex_prev[jsource] = Ex[jsource]\n",
    "    fft_Ex=np.fft.fft(Ex)\n",
    "    \n",
    "\n",
    "    if n%10 == 0:\n",
    "        plt.subplot(2,1,1)\n",
    "        plt.plot(Ex)\n",
    "        plt.plot(material_prof)\n",
    "        plt.ylim([-1,1])\n",
    "\n",
    "        plt.subplot(2,1,2)\n",
    "        plt.plot(fft_Ex,color='b')\n",
    "        plt.ylim([-1,1])\n",
    "\n",
    "        plt.show()\n",
    "        plt.close()\n",
    "\n",
    "#response transform block\n",
    "\n",
    "#for i in range(1,500):\n",
    "#    response[:][i]=response[:][i-1]+response[:][i]\n",
    "#n_response = np.array(response[:][498])\n",
    "\n",
    "#plt.plot(n_response)\n",
    "#plt.show()\n",
    "\n",
    "#analyze frequency domain\n",
    "#plt.subplot(2,1,1)\n",
    "#plt.plot(response_x,response)\n",
    "#plt.show()\n",
    "\n",
    "#plt.subplot(2,1,2)\n",
    "#plt.plot(frequency,np.fft.fft(response))\n",
    "#plt.xlim(0.04,0.12)\n",
    "#plt.show()"
   ]
  },
  {
   "cell_type": "code",
   "execution_count": 9,
   "metadata": {},
   "outputs": [
    {
     "data": {
      "text/plain": [
       "500"
      ]
     },
     "execution_count": 9,
     "metadata": {},
     "output_type": "execute_result"
    }
   ],
   "source": [
    "np.size(eps_m)"
   ]
  },
  {
   "cell_type": "code",
   "execution_count": null,
   "metadata": {},
   "outputs": [],
   "source": []
  }
 ],
 "metadata": {
  "kernelspec": {
   "display_name": "WorkSpace",
   "language": "python",
   "name": "python3"
  },
  "language_info": {
   "codemirror_mode": {
    "name": "ipython",
    "version": 3
   },
   "file_extension": ".py",
   "mimetype": "text/x-python",
   "name": "python",
   "nbconvert_exporter": "python",
   "pygments_lexer": "ipython3",
   "version": "3.10.11"
  },
  "orig_nbformat": 4
 },
 "nbformat": 4,
 "nbformat_minor": 2
}
