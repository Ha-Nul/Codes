{
 "cells": [
  {
   "cell_type": "code",
   "execution_count": 2,
   "metadata": {},
   "outputs": [
    {
     "name": "stdout",
     "output_type": "stream",
     "text": [
      "f(x) = 1.509\n"
     ]
    }
   ],
   "source": [
    "def lininterp(x):\n",
    "    equ = f0 + (f1-f0)/(x1-x0) * (x-x0)\n",
    "    return equ\n",
    "\n",
    "x0 = 2.0\n",
    "x1 = 3.0\n",
    "f0 = 1.414\n",
    "f1 = 1.732\n",
    "\n",
    "xw = 2.3\n",
    "\n",
    "intp = lininterp(xw)\n",
    "\n",
    "print(f'f(x) = {intp:0.3f}')"
   ]
  },
  {
   "cell_type": "code",
   "execution_count": 9,
   "metadata": {},
   "outputs": [],
   "source": [
    "import numpy as np"
   ]
  },
  {
   "cell_type": "code",
   "execution_count": 16,
   "metadata": {},
   "outputs": [],
   "source": [
    "def diff(x):\n",
    "    return ((x+0.001)*np.exp(-(x+0.001))-x*np.exp(-x))/0.001 # 왜 안되냐 또...."
   ]
  },
  {
   "cell_type": "code",
   "execution_count": 20,
   "metadata": {},
   "outputs": [],
   "source": [
    "def lininterp(x):\n",
    "    equ = f0 + (f1-f0)/(x1-x0) * (x - x0)\n",
    "    return equ"
   ]
  },
  {
   "cell_type": "code",
   "execution_count": 21,
   "metadata": {},
   "outputs": [],
   "source": [
    "\n",
    "x0 = 2.0\n",
    "x1 = 5.0\n",
    "f0 = 0.2706\n",
    "f1 = 0.0336\n",
    "\n",
    "xw = 3.3"
   ]
  },
  {
   "cell_type": "code",
   "execution_count": 22,
   "metadata": {},
   "outputs": [
    {
     "name": "stdout",
     "output_type": "stream",
     "text": [
      "f(x) = 0.1679\n"
     ]
    }
   ],
   "source": [
    "intp = lininterp(xw)\n",
    "print(f'f(x) = {intp:0.4f}')"
   ]
  },
  {
   "cell_type": "code",
   "execution_count": 1,
   "metadata": {},
   "outputs": [
    {
     "name": "stdout",
     "output_type": "stream",
     "text": [
      "f(2.6) = 0.2342\n"
     ]
    }
   ],
   "source": [
    "x0 = 2\n",
    "x1 = 3\n",
    "x2 = 5\n",
    "f0 = 0.2706\n",
    "f1 = 0.1493\n",
    "f2 = 0.0336\n",
    "\n",
    "xw = 2.3\n",
    "\n",
    "fintp = (xw - x1)/(x0 - x1)*f0 + (xw - x0)/(x1 -x0)*f1\n",
    "print(f'f(2.6) = {fintp:0.4f}')"
   ]
  },
  {
   "cell_type": "code",
   "execution_count": 44,
   "metadata": {},
   "outputs": [],
   "source": [
    "def linear_interpolar(x):\n",
    "    x0 = x-1\n",
    "    x1 = x-2\n",
    "\n",
    "    f0 = (x0)**(1/3)\n",
    "    f1 = (x1)**(1/3)\n",
    "\n",
    "    fx1 = (x-x1)*f0/(x0-x1)\n",
    "    fx2 = (x-x0)*f1/(x1-x0)\n",
    "\n",
    "    return fx1 + fx2"
   ]
  },
  {
   "cell_type": "code",
   "execution_count": 46,
   "metadata": {},
   "outputs": [
    {
     "data": {
      "text/plain": [
       "2.0087417727126384"
      ]
     },
     "execution_count": 46,
     "metadata": {},
     "output_type": "execute_result"
    }
   ],
   "source": [
    "linear_interpolar(8)"
   ]
  },
  {
   "cell_type": "code",
   "execution_count": 37,
   "metadata": {},
   "outputs": [],
   "source": [
    "def quad_interpolar(x):\n",
    "    x0 = x-1\n",
    "    x1 = x+1\n",
    "    x2 = x-2\n",
    "\n",
    "    f0 = (x0)**(1/3)\n",
    "    f1 = (x1)**(1/3)\n",
    "    f2 = (x2)**(1/3)\n",
    "\n",
    "    fx0 = (x-x1)*(x-x2)*f0/((x0-x1)*(x0-x2))\n",
    "    fx1 = (x-x0)*(x-x2)*f1/((x1-x0)*(x1-x2))\n",
    "    fx2 = (x-x0)*(x-x1)*f2/((x2-x0)*(x2-x1))\n",
    "\n",
    "    if x >= 2:\n",
    "        return fx0 + fx1 + fx2\n",
    "    \n",
    "    if x < 2:\n",
    "        if x == 1:\n",
    "            return 1\n",
    "        elif x == 0:\n",
    "            return 0\n"
   ]
  },
  {
   "cell_type": "code",
   "execution_count": 38,
   "metadata": {},
   "outputs": [
    {
     "data": {
      "text/plain": [
       "2.0805011690864985"
      ]
     },
     "execution_count": 38,
     "metadata": {},
     "output_type": "execute_result"
    }
   ],
   "source": [
    "quad_interpolar(9)"
   ]
  },
  {
   "cell_type": "code",
   "execution_count": null,
   "metadata": {},
   "outputs": [],
   "source": []
  }
 ],
 "metadata": {
  "kernelspec": {
   "display_name": "Workspace",
   "language": "python",
   "name": "python3"
  },
  "language_info": {
   "codemirror_mode": {
    "name": "ipython",
    "version": 3
   },
   "file_extension": ".py",
   "mimetype": "text/x-python",
   "name": "python",
   "nbconvert_exporter": "python",
   "pygments_lexer": "ipython3",
   "version": "3.10.11"
  },
  "orig_nbformat": 4
 },
 "nbformat": 4,
 "nbformat_minor": 2
}
