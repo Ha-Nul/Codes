{
 "cells": [
  {
   "cell_type": "code",
   "execution_count": 8,
   "metadata": {},
   "outputs": [],
   "source": [
    "import numpy as np\n",
    "import matplotlib.pyplot as plt"
   ]
  },
  {
   "cell_type": "code",
   "execution_count": 28,
   "metadata": {},
   "outputs": [],
   "source": [
    "lengt = len(a) + len(b)\n",
    "domain = np.linspace(0,200,200)\n",
    "\n",
    "a = np.linspace(0,1,100)\n",
    "b = np.zeros(100)\n",
    "c = np.zeros(lengt)\n",
    "\n",
    "al = np.append(a,np.zeros(len(a)))\n",
    "bl = np.append(b,np.linspace(1,0,100))\n",
    "\n",
    "testa = [0,1,2]\n",
    "testb = [0,1,2]"
   ]
  },
  {
   "cell_type": "markdown",
   "metadata": {},
   "source": []
  },
  {
   "cell_type": "code",
   "execution_count": 15,
   "metadata": {},
   "outputs": [
    {
     "data": {
      "text/plain": [
       "array([0.        , 0.        , 0.        , 0.        , 0.        ,\n",
       "       0.        , 0.        , 0.        , 0.        , 0.        ,\n",
       "       0.        , 0.        , 0.        , 0.        , 0.        ,\n",
       "       0.        , 0.        , 0.        , 0.        , 0.        ,\n",
       "       0.        , 0.        , 0.        , 0.        , 0.        ,\n",
       "       0.        , 0.        , 0.        , 0.        , 0.        ,\n",
       "       0.        , 0.        , 0.        , 0.        , 0.        ,\n",
       "       0.        , 0.        , 0.        , 0.        , 0.        ,\n",
       "       0.        , 0.        , 0.        , 0.        , 0.        ,\n",
       "       0.        , 0.        , 0.        , 0.        , 0.        ,\n",
       "       0.        , 0.        , 0.        , 0.        , 0.        ,\n",
       "       0.        , 0.        , 0.        , 0.        , 0.        ,\n",
       "       0.        , 0.        , 0.        , 0.        , 0.        ,\n",
       "       0.        , 0.        , 0.        , 0.        , 0.        ,\n",
       "       0.        , 0.        , 0.        , 0.        , 0.        ,\n",
       "       0.        , 0.        , 0.        , 0.        , 0.        ,\n",
       "       0.        , 0.        , 0.        , 0.        , 0.        ,\n",
       "       0.        , 0.        , 0.        , 0.        , 0.        ,\n",
       "       0.        , 0.        , 0.        , 0.        , 0.        ,\n",
       "       0.        , 0.        , 0.        , 0.        , 0.        ,\n",
       "       1.        , 0.98989899, 0.97979798, 0.96969697, 0.95959596,\n",
       "       0.94949495, 0.93939394, 0.92929293, 0.91919192, 0.90909091,\n",
       "       0.8989899 , 0.88888889, 0.87878788, 0.86868687, 0.85858586,\n",
       "       0.84848485, 0.83838384, 0.82828283, 0.81818182, 0.80808081,\n",
       "       0.7979798 , 0.78787879, 0.77777778, 0.76767677, 0.75757576,\n",
       "       0.74747475, 0.73737374, 0.72727273, 0.71717172, 0.70707071,\n",
       "       0.6969697 , 0.68686869, 0.67676768, 0.66666667, 0.65656566,\n",
       "       0.64646465, 0.63636364, 0.62626263, 0.61616162, 0.60606061,\n",
       "       0.5959596 , 0.58585859, 0.57575758, 0.56565657, 0.55555556,\n",
       "       0.54545455, 0.53535354, 0.52525253, 0.51515152, 0.50505051,\n",
       "       0.49494949, 0.48484848, 0.47474747, 0.46464646, 0.45454545,\n",
       "       0.44444444, 0.43434343, 0.42424242, 0.41414141, 0.4040404 ,\n",
       "       0.39393939, 0.38383838, 0.37373737, 0.36363636, 0.35353535,\n",
       "       0.34343434, 0.33333333, 0.32323232, 0.31313131, 0.3030303 ,\n",
       "       0.29292929, 0.28282828, 0.27272727, 0.26262626, 0.25252525,\n",
       "       0.24242424, 0.23232323, 0.22222222, 0.21212121, 0.2020202 ,\n",
       "       0.19191919, 0.18181818, 0.17171717, 0.16161616, 0.15151515,\n",
       "       0.14141414, 0.13131313, 0.12121212, 0.11111111, 0.1010101 ,\n",
       "       0.09090909, 0.08080808, 0.07070707, 0.06060606, 0.05050505,\n",
       "       0.04040404, 0.03030303, 0.02020202, 0.01010101, 0.        ])"
      ]
     },
     "execution_count": 15,
     "metadata": {},
     "output_type": "execute_result"
    }
   ],
   "source": [
    "bl"
   ]
  },
  {
   "cell_type": "code",
   "execution_count": 29,
   "metadata": {},
   "outputs": [
    {
     "ename": "IndexError",
     "evalue": "index 200 is out of bounds for axis 0 with size 200",
     "output_type": "error",
     "traceback": [
      "\u001b[0;31m---------------------------------------------------------------------------\u001b[0m",
      "\u001b[0;31mIndexError\u001b[0m                                Traceback (most recent call last)",
      "Cell \u001b[0;32mIn[29], line 4\u001b[0m\n\u001b[1;32m      1\u001b[0m i \u001b[39m=\u001b[39m \u001b[39m0\u001b[39m\n\u001b[1;32m      3\u001b[0m \u001b[39mwhile\u001b[39;00m(i\u001b[39m<\u001b[39mlengt):\n\u001b[0;32m----> 4\u001b[0m     c[i\u001b[39m+\u001b[39m\u001b[39m1\u001b[39m] \u001b[39m=\u001b[39m al[i\u001b[39m+\u001b[39;49m\u001b[39m1\u001b[39;49m] \u001b[39m*\u001b[39m bl[lengt\u001b[39m-\u001b[39m(i\u001b[39m+\u001b[39m\u001b[39m2\u001b[39m)] \u001b[39m+\u001b[39m c[i]\n\u001b[1;32m      5\u001b[0m     i \u001b[39m=\u001b[39m i\u001b[39m+\u001b[39m\u001b[39m1\u001b[39m\n",
      "\u001b[0;31mIndexError\u001b[0m: index 200 is out of bounds for axis 0 with size 200"
     ]
    }
   ],
   "source": [
    "i = 0\n",
    "\n",
    "while(i<lengt):\n",
    "    c[i+1] = al[i+1] * bl[lengt-(i+2)] + c[i]\n",
    "    i = i+1"
   ]
  },
  {
   "cell_type": "code",
   "execution_count": 27,
   "metadata": {},
   "outputs": [
    {
     "data": {
      "text/plain": [
       "[<matplotlib.lines.Line2D at 0x7f87805f4be0>]"
      ]
     },
     "execution_count": 27,
     "metadata": {},
     "output_type": "execute_result"
    },
    {
     "data": {
      "image/png": "[encoded data removed]",
      "text/plain": [
       "<Figure size 640x480 with 1 Axes>"
      ]
     },
     "metadata": {},
     "output_type": "display_data"
    }
   ],
   "source": [
    "plt.plot(domain,c)"
   ]
  },
  {
   "cell_type": "code",
   "execution_count": 34,
   "metadata": {},
   "outputs": [
    {
     "name": "stdout",
     "output_type": "stream",
     "text": [
      "0\n",
      "0\n",
      "1\n",
      "2\n",
      "3\n",
      "4\n",
      "[0.5, 1.5, 2.5, 3.5, 4.5, 2.5]\n"
     ]
    }
   ],
   "source": [
    "def convolve(Signal, Kernel):\n",
    "    SignalLen = len(Signal)\n",
    "    KernelLen = len(Kernel)\n",
    "    ResultLen = SignalLen + KernelLen - 1\n",
    "    Result = [0.0] * ResultLen\n",
    "\n",
    "    for n in range(ResultLen):\n",
    "        kmin = max(n - (KernelLen - 1), 0)\n",
    "        kmax = min(n, SignalLen - 1)\n",
    "\n",
    "        for k in range(kmin, kmax + 1):\n",
    "            Result[n] += Signal[k] * Kernel[n - k]\n",
    "\n",
    "    return Result\n",
    "\n",
    "# Example usage:\n",
    "Signal = [1, 2, 3, 4, 5]\n",
    "Kernel = [0.5, 0.5]\n",
    "Result = convolve(Signal, Kernel)\n",
    "print(Result)"
   ]
  },
  {
   "cell_type": "code",
   "execution_count": 31,
   "metadata": {},
   "outputs": [
    {
     "name": "stdout",
     "output_type": "stream",
     "text": [
      "Help on built-in function max in module builtins:\n",
      "\n",
      "max(...)\n",
      "    max(iterable, *[, default=obj, key=func]) -> value\n",
      "    max(arg1, arg2, *args, *[, key=func]) -> value\n",
      "    \n",
      "    With a single iterable argument, return its biggest item. The\n",
      "    default keyword-only argument specifies an object to return if\n",
      "    the provided iterable is empty.\n",
      "    With two or more arguments, return the largest argument.\n",
      "\n"
     ]
    }
   ],
   "source": [
    "help(max)"
   ]
  },
  {
   "cell_type": "code",
   "execution_count": null,
   "metadata": {},
   "outputs": [],
   "source": []
  }
 ],
 "metadata": {
  "kernelspec": {
   "display_name": "Workspace",
   "language": "python",
   "name": "python3"
  },
  "language_info": {
   "codemirror_mode": {
    "name": "ipython",
    "version": 3
   },
   "file_extension": ".py",
   "mimetype": "text/x-python",
   "name": "python",
   "nbconvert_exporter": "python",
   "pygments_lexer": "ipython3",
   "version": "3.10.11"
  },
  "orig_nbformat": 4
 },
 "nbformat": 4,
 "nbformat_minor": 2
}
