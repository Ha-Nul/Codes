{
 "cells": [
  {
   "cell_type": "code",
   "execution_count": 2,
   "metadata": {},
   "outputs": [],
   "source": [
    "import numpy as np\n",
    "import pandas as pd\n",
    "import matplotlib as mpl\n",
    "import matplotlib.pyplot as plt\n",
    "from mpl_toolkits.mplot3d import axes3d\n",
    "from matplotlib.colors import LinearSegmentedColormap\n",
    "from matplotlib import cm\n",
    "from matplotlib.gridspec import GridSpec\n",
    "from matplotlib.patches import Rectangle"
   ]
  },
  {
   "cell_type": "code",
   "execution_count": 3,
   "metadata": {},
   "outputs": [
    {
     "name": "stderr",
     "output_type": "stream",
     "text": [
      "/var/folders/37/nghp0rpn0wqc9tj09h1nlpm00000gn/T/ipykernel_72561/1826019236.py:3: MatplotlibDeprecationWarning: The get_cmap function was deprecated in Matplotlib 3.7 and will be removed two minor releases later. Use ``matplotlib.colormaps[name]`` or ``matplotlib.colormaps.get_cmap(obj)`` instead.\n",
      "  blues = cm.get_cmap(\"Blues\",lut=15)\n",
      "/var/folders/37/nghp0rpn0wqc9tj09h1nlpm00000gn/T/ipykernel_72561/1826019236.py:4: MatplotlibDeprecationWarning: The get_cmap function was deprecated in Matplotlib 3.7 and will be removed two minor releases later. Use ``matplotlib.colormaps[name]`` or ``matplotlib.colormaps.get_cmap(obj)`` instead.\n",
      "  spec = cm.get_cmap(\"Purples\",lut =15)\n",
      "/var/folders/37/nghp0rpn0wqc9tj09h1nlpm00000gn/T/ipykernel_72561/1826019236.py:5: MatplotlibDeprecationWarning: The get_cmap function was deprecated in Matplotlib 3.7 and will be removed two minor releases later. Use ``matplotlib.colormaps[name]`` or ``matplotlib.colormaps.get_cmap(obj)`` instead.\n",
      "  reds = cm.get_cmap(\"Reds\",lut =15)\n",
      "/var/folders/37/nghp0rpn0wqc9tj09h1nlpm00000gn/T/ipykernel_72561/1826019236.py:6: MatplotlibDeprecationWarning: The get_cmap function was deprecated in Matplotlib 3.7 and will be removed two minor releases later. Use ``matplotlib.colormaps[name]`` or ``matplotlib.colormaps.get_cmap(obj)`` instead.\n",
      "  Orag = cm.get_cmap(\"YlOrBr\",lut =15)\n",
      "/var/folders/37/nghp0rpn0wqc9tj09h1nlpm00000gn/T/ipykernel_72561/1826019236.py:7: MatplotlibDeprecationWarning: The get_cmap function was deprecated in Matplotlib 3.7 and will be removed two minor releases later. Use ``matplotlib.colormaps[name]`` or ``matplotlib.colormaps.get_cmap(obj)`` instead.\n",
      "  spri = cm.get_cmap(\"Wistia\",lut =21)\n"
     ]
    }
   ],
   "source": [
    "gs = GridSpec(nrows=1, ncols=2, width_ratios=[1,1], height_ratios=[1])\n",
    "cmaps = plt.colormaps()\n",
    "blues = cm.get_cmap(\"Blues\",lut=15)\n",
    "spec = cm.get_cmap(\"Purples\",lut =15)\n",
    "reds = cm.get_cmap(\"Reds\",lut =15)\n",
    "Orag = cm.get_cmap(\"YlOrBr\",lut =15)\n",
    "spri = cm.get_cmap(\"Wistia\",lut =21)\n",
    "\n",
    "c_blues = [blues(i) for i in range(15)]\n",
    "c_spec = [spec(i) for i in range(15)]\n",
    "c_rs = [reds(i) for i in range(15)]\n",
    "c_os = [Orag(i) for i in range(15)]\n",
    "c_spri = [spri(i) for i in range(21)]\n",
    "\n",
    "plt.rcParams[\"font.family\"] = \"Times New Roman\"\n",
    "plt.rcParams.update({'font.size': 11})"
   ]
  },
  {
   "cell_type": "code",
   "execution_count": 5,
   "metadata": {},
   "outputs": [],
   "source": [
    "size = [3,5]\n",
    "'''\n",
    "alp_arr = [0.01]\n",
    "alp_index = 0\n",
    "'''\n",
    "\n",
    "\n",
    "alp = np.linspace(0,2,201)\n",
    "alp_arr = []\n",
    "\n",
    "for i in range(len(alp)):\n",
    "    if i == 0 or i == 100 or i == 200:\n",
    "        alp_arr.append(int(alp[i]))\n",
    "    else:\n",
    "        alp_arr.append(round(alp[i],2))\n",
    "\n",
    "        \n",
    "gam = np.linspace(0,2,21)\n",
    "gam_arr = []\n",
    "\n",
    "gamm = [0 for i in range(21)]\n",
    "for i in range(21):\n",
    "    if i==0:\n",
    "        gamm[i] = 0\n",
    "    elif i != 20:\n",
    "        gamm[i] = round(gamm[i-1] + 0.05,2)\n",
    "    else:\n",
    "        gamm[i] = int(gamm[i-1] + 0.05)\n",
    "        \n",
    "for i in range(len(gam)):\n",
    "    if i==0:\n",
    "        gam_arr.append(0)\n",
    "    elif i==20 or i ==10:\n",
    "        gam_arr.append(int(gam[i]))\n",
    "    else:\n",
    "        gam_arr.append(round(gam[i],2))\n",
    "\n",
    "beta = [25,27.78]\n",
    "\n",
    "#gam_arr\n",
    "#alp_arr"
   ]
  },
  {
   "cell_type": "code",
   "execution_count": 6,
   "metadata": {},
   "outputs": [],
   "source": [
    "filename = \"./Difference/OCA/O_diff_s5_g1_lb10.txt\"\n",
    "dat = pd.read_csv(filename,header=None,delim_whitespace=True)"
   ]
  },
  {
   "cell_type": "code",
   "execution_count": 7,
   "metadata": {},
   "outputs": [],
   "source": [
    "filename2 = \"./Difference/NCA/N_diff_s5_g1_lb10.txt\"\n",
    "dat2 = pd.read_csv(filename,header=None,delim_whitespace=True)"
   ]
  },
  {
   "cell_type": "code",
   "execution_count": 8,
   "metadata": {},
   "outputs": [
    {
     "data": {
      "text/plain": [
       "[<matplotlib.lines.Line2D at 0x7fbfd0269780>,\n",
       " <matplotlib.lines.Line2D at 0x7fbfd02697b0>]"
      ]
     },
     "execution_count": 8,
     "metadata": {},
     "output_type": "execute_result"
    },
    {
     "data": {
      "image/png": "[encoded data removed]",
      "text/plain": [
       "<Figure size 640x480 with 1 Axes>"
      ]
     },
     "metadata": {},
     "output_type": "display_data"
    }
   ],
   "source": [
    "plt.plot(alp_arr,dat)\n",
    "plt.plot(alp_arr,dat2)"
   ]
  },
  {
   "cell_type": "code",
   "execution_count": null,
   "metadata": {},
   "outputs": [],
   "source": []
  }
 ],
 "metadata": {
  "kernelspec": {
   "display_name": "Workspace",
   "language": "python",
   "name": "python3"
  },
  "language_info": {
   "codemirror_mode": {
    "name": "ipython",
    "version": 3
   },
   "file_extension": ".py",
   "mimetype": "text/x-python",
   "name": "python",
   "nbconvert_exporter": "python",
   "pygments_lexer": "ipython3",
   "version": "3.10.11"
  },
  "orig_nbformat": 4
 },
 "nbformat": 4,
 "nbformat_minor": 2
}
