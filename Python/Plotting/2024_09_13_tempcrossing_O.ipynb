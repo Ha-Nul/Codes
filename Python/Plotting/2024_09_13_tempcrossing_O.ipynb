{
 "cells": [
  {
   "cell_type": "code",
   "execution_count": 1,
   "metadata": {},
   "outputs": [],
   "source": [
    "import numpy as np\n",
    "import pandas as pd\n",
    "import matplotlib as mpl\n",
    "import matplotlib.pyplot as plt\n",
    "from scipy.stats import rankdata\n",
    "from mpl_toolkits.mplot3d import axes3d\n",
    "from matplotlib.colors import LinearSegmentedColormap\n",
    "from matplotlib import cm\n",
    "from matplotlib.gridspec import GridSpec"
   ]
  },
  {
   "cell_type": "code",
   "execution_count": 2,
   "metadata": {},
   "outputs": [
    {
     "name": "stderr",
     "output_type": "stream",
     "text": [
      "/var/folders/37/nghp0rpn0wqc9tj09h1nlpm00000gn/T/ipykernel_72353/673629478.py:3: MatplotlibDeprecationWarning: The get_cmap function was deprecated in Matplotlib 3.7 and will be removed two minor releases later. Use ``matplotlib.colormaps[name]`` or ``matplotlib.colormaps.get_cmap(obj)`` instead.\n",
      "  blues = cm.get_cmap(\"twilight\",lut=10)\n",
      "/var/folders/37/nghp0rpn0wqc9tj09h1nlpm00000gn/T/ipykernel_72353/673629478.py:4: MatplotlibDeprecationWarning: The get_cmap function was deprecated in Matplotlib 3.7 and will be removed two minor releases later. Use ``matplotlib.colormaps[name]`` or ``matplotlib.colormaps.get_cmap(obj)`` instead.\n",
      "  spec = cm.get_cmap(\"Spectral\",lut =10)\n"
     ]
    }
   ],
   "source": [
    "gs = GridSpec(nrows=1, ncols=2, width_ratios=[1,1], height_ratios=[1])\n",
    "cmaps = plt.colormaps()\n",
    "blues = cm.get_cmap(\"twilight\",lut=10)\n",
    "spec = cm.get_cmap(\"Spectral\",lut =10)\n",
    "c_blues = [blues(i) for i in range(10)]\n",
    "c_spec = [spec(i) for i in range(10)]\n",
    "\n",
    "plt.rcParams[\"font.family\"] = \"Times New Roman\"\n",
    "plt.rcParams.update({'font.size': 11})"
   ]
  },
  {
   "cell_type": "code",
   "execution_count": 16,
   "metadata": {},
   "outputs": [],
   "source": [
    "siz = [7]\n",
    "beta = [3.3,3.57,3.84,4.16,4.54,5,5.55,6.25,7.14,8.33,10,12.5,16.66,25]\n",
    "temp = []\n",
    "for i in beta:\n",
    "    temp.append(round(1/i,2))\n",
    "\n",
    "temp.reverse()"
   ]
  },
  {
   "cell_type": "code",
   "execution_count": 17,
   "metadata": {},
   "outputs": [],
   "source": [
    "garr = np.linspace(0,2,201) # range of gamma value\n",
    "aarr = np.linspace(0,20,21) # range of alpha value"
   ]
  },
  {
   "cell_type": "code",
   "execution_count": 18,
   "metadata": {},
   "outputs": [
    {
     "data": {
      "text/plain": [
       "array([ 0.,  1.,  2.,  3.,  4.,  5.,  6.,  7.,  8.,  9., 10., 11., 12.,\n",
       "       13., 14., 15., 16., 17., 18., 19., 20.])"
      ]
     },
     "execution_count": 18,
     "metadata": {},
     "output_type": "execute_result"
    }
   ],
   "source": [
    "aarr"
   ]
  },
  {
   "cell_type": "code",
   "execution_count": 19,
   "metadata": {},
   "outputs": [],
   "source": [
    "\n",
    "for s in siz:\n",
    "    for i in range(len(beta)):\n",
    "        globals()['data{}s{}'.format(i,s)] = pd.read_csv('./NCA/Nsize{}/NCA_GENSIZE_{}_MODE_20_BETA_{}_GRID_701_MPI.txt'.format(s,s,beta[i]),header=None,delim_whitespace=True)\n",
    "\n",
    "    for i in range(len(beta)):\n",
    "        globals()['datmat{}s{}'.format(i,s)] = np.zeros((len(garr),len(aarr)))\n",
    "\n",
    "    for k in range(len(beta)):\n",
    "        for i in range(len(garr)):\n",
    "            for j in range(len(aarr)):\n",
    "                globals()['datmat{}s{}'.format(k,s)][i][j] = globals()['data{}s{}'.format(k,s)].loc[i][j]\n"
   ]
  },
  {
   "cell_type": "code",
   "execution_count": 20,
   "metadata": {},
   "outputs": [
    {
     "data": {
      "text/plain": [
       "array([ 0,  2,  4,  6,  8, 10, 12, 14, 16, 18, 20])"
      ]
     },
     "execution_count": 20,
     "metadata": {},
     "output_type": "execute_result"
    }
   ],
   "source": [
    "index_gamma = 5\n",
    "index_alpha = np.arange(0,22,2)\n",
    "index_alpha"
   ]
  },
  {
   "attachments": {},
   "cell_type": "markdown",
   "metadata": {},
   "source": [
    "FIX ALPHA,CHANGE GAMMA"
   ]
  },
  {
   "cell_type": "code",
   "execution_count": 21,
   "metadata": {},
   "outputs": [],
   "source": [
    "a = 0\n",
    "for ia in index_alpha:\n",
    "    for s in siz:\n",
    "        for i in range(len(beta)):\n",
    "            globals()['alparr{}s{}_{}'.format(i,s,ia)]=[]\n",
    "\n",
    "        for k in range(len(beta)):\n",
    "            \n",
    "            for j in range(len(garr)):\n",
    "                globals()['alparr{}s{}_{}'.format(k,s,ia)].append(globals()['data{}s{}'.format(k,s)].loc[j][index_alpha[a]])\n",
    "    a += 1"
   ]
  },
  {
   "cell_type": "code",
   "execution_count": 22,
   "metadata": {},
   "outputs": [
    {
     "name": "stdout",
     "output_type": "stream",
     "text": [
      "110\n",
      "98\n",
      "86\n",
      "75\n",
      "63\n",
      "52\n",
      "39\n",
      "25\n",
      "114\n",
      "102\n",
      "91\n",
      "80\n",
      "69\n",
      "59\n",
      "48\n",
      "37\n",
      "26\n",
      "11\n",
      "114\n",
      "103\n",
      "92\n",
      "81\n",
      "71\n",
      "60\n",
      "50\n",
      "40\n",
      "30\n",
      "18\n",
      "113\n",
      "102\n",
      "91\n",
      "81\n",
      "70\n",
      "60\n",
      "50\n",
      "40\n",
      "30\n",
      "20\n",
      "4\n",
      "112\n",
      "100\n",
      "90\n",
      "79\n",
      "69\n",
      "59\n",
      "50\n",
      "40\n",
      "30\n",
      "20\n",
      "5\n",
      "110\n",
      "99\n",
      "88\n",
      "78\n",
      "68\n",
      "58\n",
      "49\n",
      "39\n",
      "29\n",
      "19\n",
      "3\n",
      "108\n",
      "97\n",
      "87\n",
      "76\n",
      "66\n",
      "57\n",
      "47\n",
      "38\n",
      "28\n",
      "17\n",
      "106\n",
      "95\n",
      "85\n",
      "75\n",
      "65\n",
      "55\n",
      "46\n",
      "36\n",
      "26\n",
      "16\n",
      "104\n",
      "93\n",
      "83\n",
      "73\n",
      "63\n",
      "53\n",
      "44\n",
      "34\n",
      "25\n",
      "13\n",
      "102\n",
      "91\n",
      "81\n",
      "71\n",
      "61\n",
      "52\n",
      "42\n",
      "33\n",
      "23\n",
      "10\n"
     ]
    }
   ],
   "source": [
    "\n",
    "testdef = 0;\n",
    "\n",
    "for ia in index_alpha:\n",
    "\n",
    "    for s in siz:\n",
    "        for i in range(len(beta)-1):\n",
    "            globals()['testdef{}s{}_{}'.format(i,s,ia)] = []\n",
    "            for j in range(len(garr)):\n",
    "                globals()['testdef{}s{}_{}'.format(i,s,ia)].append(globals()['alparr{}s{}_{}'.format(i,s,ia)][j] - globals()['alparr{}s{}_{}'.format(i+1,s,ia)][j])\n",
    "\n",
    "            #check crossing point(1)\n",
    "            for k in range(len(garr)-1):\n",
    "                if np.sign(globals()['testdef{}s{}_{}'.format(i,s,ia)][k]) != np.sign(globals()['testdef{}s{}_{}'.format(i,s,ia)][k+1]):\n",
    "                    print(k)\n",
    "                else:\n",
    "                    globals()['testdef{}s{}_{}'.format(i,s,ia)][k] = 1\n",
    "            #eliminate end point\n",
    "            for k in range(len(garr)):\n",
    "                if k == len(garr)-1:\n",
    "                    globals()['testdef{}s{}_{}'.format(i,s,ia)][k] = 1\n",
    "                else:\n",
    "                    None\n",
    "\n",
    "        for s in siz:\n",
    "            globals()['VARs{}{}'.format(s,ia)] = []\n",
    "            globals()['XARs{}{}'.format(s,ia)] = []\n",
    "            for i in range(len(beta)-1):\n",
    "                for k in range(len(garr)):\n",
    "                    if globals()['testdef{}s{}_{}'.format(i,s,ia)][k] != 1:\n",
    "                        globals()['VARs{}{}'.format(s,ia)].append(0.5*(1/beta[i] + 1/beta[i+1]))\n",
    "                        globals()['XARs{}{}'.format(s,ia)].append(garr[k])\n",
    "                    df = np.column_stack((globals()['VARs{}{}'.format(s,ia)],globals()['XARs{}{}'.format(s,ia)]))\n",
    "                    np.savetxt(\"./NCA_size{}_coup_{}.txt\".format(s,ia),df)\n"
   ]
  },
  {
   "attachments": {},
   "cell_type": "markdown",
   "metadata": {},
   "source": [
    "plot per size"
   ]
  },
  {
   "cell_type": "code",
   "execution_count": 60,
   "metadata": {},
   "outputs": [
    {
     "data": {
      "image/png": "[encoded data removed]",
      "text/plain": [
       "<Figure size 800x700 with 1 Axes>"
      ]
     },
     "metadata": {},
     "output_type": "display_data"
    }
   ],
   "source": [
    "#size plot (beta = 3.3 at sizse 5 : wrong calculated data)\n",
    "\n",
    "fig = plt.figure(figsize=(8,7))\n",
    "#plt.title(r\"$\\alpha$ = \" + str(aarr[10]))\n",
    "\n",
    "size = siz[0]\n",
    "plt.title(\"OCA Data per Size\"+ r\" : $\\alpha$ = \" + str(aarr[index_alpha]))\n",
    "\n",
    "mark = ['v','o','D','^']\n",
    "\n",
    "a = 0\n",
    "\n",
    "err = np.abs(1/beta[1]-1/beta[0])\n",
    "\n",
    "for i in siz:\n",
    "    plt.scatter(globals()['XARs{}'.format(i)],globals()['VARs{}'.format(i)],color=c_spec[a],label = \"size = \" + str(i) , linewidth = 1 , marker = mark[a] , facecolors='none', s = 100)\n",
    "    plt.errorbar(globals()['XARs{}'.format(i)],globals()['VARs{}'.format(i)],yerr=err,fmt='', capsize=5, capthick=1, ecolor='red', linestyle='None',linewidth=0.5)\n",
    "    a += 1\n",
    "\n",
    "plt.xlabel(r\"$\\gamma$\")\n",
    "plt.ylabel(r\"Temp [1/$\\beta$]\")\n",
    "#plt.xlim([0,garr[25]])\n",
    "\n",
    "plt.grid()\n",
    "plt.legend()\n",
    "plt.show()"
   ]
  },
  {
   "cell_type": "code",
   "execution_count": 61,
   "metadata": {},
   "outputs": [],
   "source": [
    "#per coupling : [0:1, 1:2.5, 2: 5, 3:7.5, 4:10]\n",
    "stor01 = VARs3\n",
    "stor11 = XARs3\n",
    "\n",
    "df = np.column_stack((stor01,stor11))\n",
    "np.savetxt(\"NCA_size3_coup_20.txt\",df)"
   ]
  },
  {
   "cell_type": "code",
   "execution_count": null,
   "metadata": {},
   "outputs": [],
   "source": [
    "\n"
   ]
  }
 ],
 "metadata": {
  "kernelspec": {
   "display_name": "Workspace",
   "language": "python",
   "name": "python3"
  },
  "language_info": {
   "codemirror_mode": {
    "name": "ipython",
    "version": 3
   },
   "file_extension": ".py",
   "mimetype": "text/x-python",
   "name": "python",
   "nbconvert_exporter": "python",
   "pygments_lexer": "ipython3",
   "version": "3.10.11"
  },
  "orig_nbformat": 4
 },
 "nbformat": 4,
 "nbformat_minor": 2
}
