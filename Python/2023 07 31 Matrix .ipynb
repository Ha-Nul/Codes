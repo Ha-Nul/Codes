{
 "cells": [
  {
   "cell_type": "code",
   "execution_count": 188,
   "metadata": {},
   "outputs": [],
   "source": [
    "import numpy as np\n",
    "import matplotlib.pyplot as plt"
   ]
  },
  {
   "cell_type": "code",
   "execution_count": 250,
   "metadata": {},
   "outputs": [],
   "source": [
    "def circuit_calculator_odd(r,x,z):\n",
    "\n",
    "    A = [[0 for j in range(z)] for k in range(z)]\n",
    "\n",
    "    for i in range(z):\n",
    "        for j in range(z):\n",
    "            try:\n",
    "                if i==j:\n",
    "                    A[i][j] = ((i+1)**2)*np.sin(x*(i+1))\n",
    "                if abs(i-j) == 1:\n",
    "                    A[i][j] = -r/2*np.sin(x*(i+1))\n",
    "                else:\n",
    "                    None\n",
    "            except:\n",
    "                None\n",
    "\n",
    "    test_A = np.array(A)\n",
    "    A_eig=np.linalg.eig(test_A)\n",
    "\n",
    "    return A_eig[0]\n"
   ]
  },
  {
   "cell_type": "code",
   "execution_count": 259,
   "metadata": {},
   "outputs": [],
   "source": [
    "def circuit_calculator_even(r,x,z):\n",
    "\n",
    "    A = [[0 for j in range(z)] for k in range(z)]\n",
    "\n",
    "    for i in range(z):\n",
    "        for j in range(z):\n",
    "            try:\n",
    "                if i==j:\n",
    "                    A[i][j] = (i+1)**2*np.cos(x*(i+1))\n",
    "                if abs(i-j) == 1:\n",
    "                    A[i][j] = -r/2*np.cos(x*(i+1))\n",
    "                else:\n",
    "                    None\n",
    "            except:\n",
    "                None\n",
    "\n",
    "    test_A = np.array(A)\n",
    "    test_A[0][1] = -r/2\n",
    "    test_A[1][0] = -r*np.cos(x)/(np.sqrt(2))\n",
    "    A_eig=np.linalg.eig(test_A)\n",
    "\n",
    "    return A_eig[0]"
   ]
  },
  {
   "cell_type": "code",
   "execution_count": 256,
   "metadata": {},
   "outputs": [],
   "source": [
    "def standard(r):\n",
    "\n",
    "    z = 10\n",
    "\n",
    "    A = [[0 for j in range(z)] for k in range(z)]\n",
    "\n",
    "    for i in range(z):\n",
    "        for j in range(z):\n",
    "            try:\n",
    "                if i==j:\n",
    "                    A[i][j] = (i+1)**2\n",
    "                if abs(i-j) == 1:\n",
    "                    A[i][j] = -r/2\n",
    "                else:\n",
    "                    None\n",
    "            except:\n",
    "                None\n",
    "\n",
    "    test_A = np.array(A)\n",
    "    test_A[0][1] = -r/(2*np.sqrt(2))\n",
    "    test_A[1][0] = -r/(2*np.sqrt(2))\n",
    "    A_eig=np.linalg.eig(test_A)\n",
    "\n",
    "    print(test_A)\n",
    "\n",
    "    return A_eig[0]\n"
   ]
  },
  {
   "cell_type": "code",
   "execution_count": 345,
   "metadata": {},
   "outputs": [
    {
     "data": {
      "text/plain": [
       "array([ 0.86491711, -3.07793028, -2.41963886])"
      ]
     },
     "execution_count": 345,
     "metadata": {},
     "output_type": "execute_result"
    }
   ],
   "source": [
    "circuit_calculator_odd(1,2,3)"
   ]
  },
  {
   "cell_type": "code",
   "execution_count": 368,
   "metadata": {},
   "outputs": [
    {
     "data": {
      "text/plain": [
       "[array([-23.7882189 +0.j        , -11.95853324+0.j        ,\n",
       "         14.49095492+0.j        ,   2.98115947+3.58715165j,\n",
       "          2.98115947-3.58715165j,  36.45864779+0.j        ]),\n",
       " array([-23.7882189 +0.j        , -11.95853324+0.j        ,\n",
       "         14.49095492+0.j        ,   2.98115947+3.58715165j,\n",
       "          2.98115947-3.58715165j,  36.45864779+0.j        ]),\n",
       " array([-23.7882189 +0.j        , -11.95853324+0.j        ,\n",
       "         14.49095492+0.j        ,   2.98115947+3.58715165j,\n",
       "          2.98115947-3.58715165j,  36.45864779+0.j        ]),\n",
       " array([-23.7882189 +0.j        , -11.95853324+0.j        ,\n",
       "         14.49095492+0.j        ,   2.98115947+3.58715165j,\n",
       "          2.98115947-3.58715165j,  36.45864779+0.j        ]),\n",
       " array([-23.7882189 +0.j        , -11.95853324+0.j        ,\n",
       "         14.49095492+0.j        ,   2.98115947+3.58715165j,\n",
       "          2.98115947-3.58715165j,  36.45864779+0.j        ]),\n",
       " array([-23.7882189 +0.j        , -11.95853324+0.j        ,\n",
       "         14.49095492+0.j        ,   2.98115947+3.58715165j,\n",
       "          2.98115947-3.58715165j,  36.45864779+0.j        ]),\n",
       " array([-23.7882189 +0.j        , -11.95853324+0.j        ,\n",
       "         14.49095492+0.j        ,   2.98115947+3.58715165j,\n",
       "          2.98115947-3.58715165j,  36.45864779+0.j        ]),\n",
       " array([-23.7882189 +0.j        , -11.95853324+0.j        ,\n",
       "         14.49095492+0.j        ,   2.98115947+3.58715165j,\n",
       "          2.98115947-3.58715165j,  36.45864779+0.j        ]),\n",
       " array([-23.7882189 +0.j        , -11.95853324+0.j        ,\n",
       "         14.49095492+0.j        ,   2.98115947+3.58715165j,\n",
       "          2.98115947-3.58715165j,  36.45864779+0.j        ]),\n",
       " array([-23.7882189 +0.j        , -11.95853324+0.j        ,\n",
       "         14.49095492+0.j        ,   2.98115947+3.58715165j,\n",
       "          2.98115947-3.58715165j,  36.45864779+0.j        ]),\n",
       " array([-23.7882189 +0.j        , -11.95853324+0.j        ,\n",
       "         14.49095492+0.j        ,   2.98115947+3.58715165j,\n",
       "          2.98115947-3.58715165j,  36.45864779+0.j        ]),\n",
       " array([-23.7882189 +0.j        , -11.95853324+0.j        ,\n",
       "         14.49095492+0.j        ,   2.98115947+3.58715165j,\n",
       "          2.98115947-3.58715165j,  36.45864779+0.j        ]),\n",
       " array([-23.7882189 +0.j        , -11.95853324+0.j        ,\n",
       "         14.49095492+0.j        ,   2.98115947+3.58715165j,\n",
       "          2.98115947-3.58715165j,  36.45864779+0.j        ]),\n",
       " array([-23.7882189 +0.j        , -11.95853324+0.j        ,\n",
       "         14.49095492+0.j        ,   2.98115947+3.58715165j,\n",
       "          2.98115947-3.58715165j,  36.45864779+0.j        ]),\n",
       " array([-23.7882189 +0.j        , -11.95853324+0.j        ,\n",
       "         14.49095492+0.j        ,   2.98115947+3.58715165j,\n",
       "          2.98115947-3.58715165j,  36.45864779+0.j        ]),\n",
       " array([-23.7882189 +0.j        , -11.95853324+0.j        ,\n",
       "         14.49095492+0.j        ,   2.98115947+3.58715165j,\n",
       "          2.98115947-3.58715165j,  36.45864779+0.j        ]),\n",
       " array([-23.7882189 +0.j        , -11.95853324+0.j        ,\n",
       "         14.49095492+0.j        ,   2.98115947+3.58715165j,\n",
       "          2.98115947-3.58715165j,  36.45864779+0.j        ]),\n",
       " array([-23.7882189 +0.j        , -11.95853324+0.j        ,\n",
       "         14.49095492+0.j        ,   2.98115947+3.58715165j,\n",
       "          2.98115947-3.58715165j,  36.45864779+0.j        ]),\n",
       " array([-23.7882189 +0.j        , -11.95853324+0.j        ,\n",
       "         14.49095492+0.j        ,   2.98115947+3.58715165j,\n",
       "          2.98115947-3.58715165j,  36.45864779+0.j        ]),\n",
       " array([-23.7882189 +0.j        , -11.95853324+0.j        ,\n",
       "         14.49095492+0.j        ,   2.98115947+3.58715165j,\n",
       "          2.98115947-3.58715165j,  36.45864779+0.j        ]),\n",
       " array([-23.7882189 +0.j        , -11.95853324+0.j        ,\n",
       "         14.49095492+0.j        ,   2.98115947+3.58715165j,\n",
       "          2.98115947-3.58715165j,  36.45864779+0.j        ]),\n",
       " array([-23.7882189 +0.j        , -11.95853324+0.j        ,\n",
       "         14.49095492+0.j        ,   2.98115947+3.58715165j,\n",
       "          2.98115947-3.58715165j,  36.45864779+0.j        ]),\n",
       " array([-23.7882189 +0.j        , -11.95853324+0.j        ,\n",
       "         14.49095492+0.j        ,   2.98115947+3.58715165j,\n",
       "          2.98115947-3.58715165j,  36.45864779+0.j        ]),\n",
       " array([-23.7882189 +0.j        , -11.95853324+0.j        ,\n",
       "         14.49095492+0.j        ,   2.98115947+3.58715165j,\n",
       "          2.98115947-3.58715165j,  36.45864779+0.j        ]),\n",
       " array([-23.7882189 +0.j        , -11.95853324+0.j        ,\n",
       "         14.49095492+0.j        ,   2.98115947+3.58715165j,\n",
       "          2.98115947-3.58715165j,  36.45864779+0.j        ]),\n",
       " array([-23.7882189 +0.j        , -11.95853324+0.j        ,\n",
       "         14.49095492+0.j        ,   2.98115947+3.58715165j,\n",
       "          2.98115947-3.58715165j,  36.45864779+0.j        ]),\n",
       " array([-23.7882189 +0.j        , -11.95853324+0.j        ,\n",
       "         14.49095492+0.j        ,   2.98115947+3.58715165j,\n",
       "          2.98115947-3.58715165j,  36.45864779+0.j        ]),\n",
       " array([-23.7882189 +0.j        , -11.95853324+0.j        ,\n",
       "         14.49095492+0.j        ,   2.98115947+3.58715165j,\n",
       "          2.98115947-3.58715165j,  36.45864779+0.j        ]),\n",
       " array([-23.7882189 +0.j        , -11.95853324+0.j        ,\n",
       "         14.49095492+0.j        ,   2.98115947+3.58715165j,\n",
       "          2.98115947-3.58715165j,  36.45864779+0.j        ]),\n",
       " array([-23.7882189 +0.j        , -11.95853324+0.j        ,\n",
       "         14.49095492+0.j        ,   2.98115947+3.58715165j,\n",
       "          2.98115947-3.58715165j,  36.45864779+0.j        ])]"
      ]
     },
     "execution_count": 368,
     "metadata": {},
     "output_type": "execute_result"
    }
   ],
   "source": [
    "B = []\n",
    "D = []\n",
    "\n",
    "for n in range(0,30,1):\n",
    "   B.append(circuit_calculator_odd(n,0.1,6))\n",
    "\n",
    "for m in range(0,30,1):\n",
    "    D.append(circuit_calculator_even(n,0.1,6))\n",
    "\n",
    "D"
   ]
  },
  {
   "cell_type": "code",
   "execution_count": 346,
   "metadata": {},
   "outputs": [],
   "source": [
    "C = [m+1 for m in range(3)]"
   ]
  },
  {
   "cell_type": "code",
   "execution_count": 370,
   "metadata": {},
   "outputs": [
    {
     "name": "stderr",
     "output_type": "stream",
     "text": [
      "/Users/e2_602_qma/anaconda3/envs/Workspace/lib/python3.10/site-packages/matplotlib/cbook/__init__.py:1335: ComplexWarning: Casting complex values to real discards the imaginary part\n",
      "  return np.asarray(x, float)\n"
     ]
    },
    {
     "data": {
      "image/png": "[encoded data removed]",
      "text/plain": [
       "<Figure size 640x480 with 1 Axes>"
      ]
     },
     "metadata": {},
     "output_type": "display_data"
    }
   ],
   "source": [
    "#plt.plot(B)\n",
    "plt.plot(D)\n",
    "plt.show()"
   ]
  },
  {
   "cell_type": "code",
   "execution_count": 351,
   "metadata": {},
   "outputs": [
    {
     "data": {
      "image/png": "[encoded data removed]",
      "text/plain": [
       "<Figure size 640x480 with 1 Axes>"
      ]
     },
     "metadata": {},
     "output_type": "display_data"
    }
   ],
   "source": [
    "for k in range(30):\n",
    "    plt.scatter(C,D[k+1])\n",
    "plt.show()\n"
   ]
  },
  {
   "cell_type": "code",
   "execution_count": null,
   "metadata": {},
   "outputs": [],
   "source": []
  }
 ],
 "metadata": {
  "kernelspec": {
   "display_name": "Workspace",
   "language": "python",
   "name": "python3"
  },
  "language_info": {
   "codemirror_mode": {
    "name": "ipython",
    "version": 3
   },
   "file_extension": ".py",
   "mimetype": "text/x-python",
   "name": "python",
   "nbconvert_exporter": "python",
   "pygments_lexer": "ipython3",
   "version": "3.10.11"
  },
  "orig_nbformat": 4
 },
 "nbformat": 4,
 "nbformat_minor": 2
}
