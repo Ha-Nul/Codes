{
 "cells": [
  {
   "cell_type": "code",
   "execution_count": 27,
   "metadata": {},
   "outputs": [],
   "source": [
    "import numpy as np\n",
    "import scipy as sp\n",
    "import matplotlib.pyplot as plt\n",
    "import Hamiltonian as H\n",
    "import K_sum as K"
   ]
  },
  {
   "cell_type": "code",
   "execution_count": 26,
   "metadata": {},
   "outputs": [
    {
     "data": {
      "text/plain": [
       "array([[0., 1., 0.],\n",
       "       [1., 0., 0.],\n",
       "       [0., 0., 0.]])"
      ]
     },
     "execution_count": 26,
     "metadata": {},
     "output_type": "execute_result"
    }
   ],
   "source": [
    "H.Lie_tensorproduct(1,1)"
   ]
  },
  {
   "cell_type": "code",
   "execution_count": 43,
   "metadata": {},
   "outputs": [],
   "source": [
    "ta = np.linspace(0,0.2,100)\n",
    "tau = np.linspace(0,0.2,100)\n",
    "k = np.full(100,1)\n",
    "b = 1"
   ]
  },
  {
   "cell_type": "code",
   "execution_count": 36,
   "metadata": {},
   "outputs": [
    {
     "data": {
      "text/plain": [
       "[1.1, 1.2]"
      ]
     },
     "execution_count": 36,
     "metadata": {},
     "output_type": "execute_result"
    }
   ],
   "source": [
    "garray = [0 for i in range(21)]\n",
    "gsqaure = [0 for i in range(21)]\n",
    "for i in range(20):\n",
    "    garray[i+1] = round(garray[i]+0.05,2)\n",
    "    gsqaure[i+1] = round(garray[i+1]**2,4)\n",
    "\n",
    "garray2 = [0 for i in range(2)]\n",
    "\n",
    "for i in range(2):\n",
    "    garray2[i] = 1 + 0.1*(i+1)\n",
    "\n",
    "garray2"
   ]
  },
  {
   "cell_type": "code",
   "execution_count": 45,
   "metadata": {},
   "outputs": [],
   "source": [
    "def plotting(r,g):\n",
    "    A =[]\n",
    "    for i in range(len(ta)):\n",
    "        plot = H.Chi_sp(0.1,r,k,g,4,ta[i])\n",
    "        A.append(plot)\n",
    "    print(A[0])\n",
    "    return(A)"
   ]
  },
  {
   "cell_type": "code",
   "execution_count": 47,
   "metadata": {},
   "outputs": [
    {
     "name": "stdout",
     "output_type": "stream",
     "text": [
      "0.7122557155414448\n",
      "0.7122557741931059\n",
      "0.7122566539660421\n",
      "0.7122604662725136\n",
      "0.7122707298279151\n",
      "0.7122923696109638\n",
      "0.7123317142439372\n",
      "0.7123964906307921\n",
      "0.7124958143633839\n",
      "0.7126401740849713\n",
      "0.7128414076906413\n",
      "0.7131126679533318\n",
      "0.713468374901162\n",
      "0.7139241520490279\n",
      "0.7144967434196967\n",
      "0.7152039081950377\n",
      "0.7160642898371694\n",
      "0.7170972566356189\n",
      "0.7183227108953554\n",
      "0.7197608644082687\n",
      "0.7214319784735003\n"
     ]
    }
   ],
   "source": [
    "c = [0 for i in range(21)]\n",
    "d = [0 for i in range(21)]\n",
    "\n",
    "for i in range(21):\n",
    "    a = tau\n",
    "    b = plotting(1,gsqaure[i])\n",
    "    #c[i] = gsqaure[i]\n",
    "\n",
    "    df = np.column_stack((a,b))\n",
    "\n",
    "    np.savetxt('Exacttest_beta0_3_g_{}.txt'.format(gsqaure[i]),df)\n",
    "    d[i] = b[0]\n",
    "\n",
    "fg = np.column_stack((d))\n",
    "np.savetxt('betaover_0_3_.txt',fg)"
   ]
  },
  {
   "cell_type": "code",
   "execution_count": null,
   "metadata": {},
   "outputs": [],
   "source": []
  },
  {
   "cell_type": "code",
   "execution_count": 15,
   "metadata": {},
   "outputs": [],
   "source": [
    "np.savetxt('11111.txt',fg)"
   ]
  },
  {
   "cell_type": "code",
   "execution_count": null,
   "metadata": {},
   "outputs": [
    {
     "data": {
      "text/plain": [
       "0.4727530887593603"
      ]
     },
     "execution_count": 8,
     "metadata": {},
     "output_type": "execute_result"
    }
   ],
   "source": [
    "np.dot(H.Standard_odd_Eigenvec(1,3,0),H.Standard_even_Eigenvec(1,3,0)) * 0.5"
   ]
  },
  {
   "cell_type": "code",
   "execution_count": null,
   "metadata": {},
   "outputs": [],
   "source": [
    "def plotting2(tau):\n",
    "    b = np.identity(3)\n",
    "\n",
    "    arr_matrix=[]\n",
    "    arr_element_00=[]\n",
    "    arr_element_11=[]\n",
    "    arr_element_22=[]\n",
    "\n",
    "    for i in range(len(tau)):\n",
    "        b[0,0]=np.exp(-tau[i]*a[0,0])/c\n",
    "        arr_element_00.append(b[0,0])\n",
    "        b[1,1]=np.exp(-tau[i]*a[1,1])/c\n",
    "        arr_element_11.append(b[1,1])\n",
    "        b[2,2]=np.exp(-tau[i]*a[2,2])/c\n",
    "        arr_element_22.append(b[2,2])\n",
    "\n",
    "        #print(b/c)\n",
    "        arr_matrix.append(b)\n",
    "        print(b)\n",
    "    \n",
    "    plt.plot(tau,arr_element_00)\n",
    "    plt.plot(tau,arr_element_11)\n",
    "    plt.plot(tau,arr_element_22)\n",
    "\n",
    "    plt.show()\n",
    "\n",
    "    return arr_matrix\n",
    "\n",
    "    "
   ]
  },
  {
   "cell_type": "code",
   "execution_count": null,
   "metadata": {},
   "outputs": [
    {
     "ename": "NameError",
     "evalue": "name 'a' is not defined",
     "output_type": "error",
     "traceback": [
      "\u001b[0;31m---------------------------------------------------------------------------\u001b[0m",
      "\u001b[0;31mNameError\u001b[0m                                 Traceback (most recent call last)",
      "Cell \u001b[0;32mIn[10], line 1\u001b[0m\n\u001b[0;32m----> 1\u001b[0m plotting2(ta)\n",
      "Cell \u001b[0;32mIn[9], line 10\u001b[0m, in \u001b[0;36mplotting2\u001b[0;34m(tau)\u001b[0m\n\u001b[1;32m      7\u001b[0m arr_element_22\u001b[39m=\u001b[39m[]\n\u001b[1;32m      9\u001b[0m \u001b[39mfor\u001b[39;00m i \u001b[39min\u001b[39;00m \u001b[39mrange\u001b[39m(\u001b[39mlen\u001b[39m(tau)):\n\u001b[0;32m---> 10\u001b[0m     b[\u001b[39m0\u001b[39m,\u001b[39m0\u001b[39m]\u001b[39m=\u001b[39mnp\u001b[39m.\u001b[39mexp(\u001b[39m-\u001b[39mtau[i]\u001b[39m*\u001b[39ma[\u001b[39m0\u001b[39m,\u001b[39m0\u001b[39m])\u001b[39m/\u001b[39mc\n\u001b[1;32m     11\u001b[0m     arr_element_00\u001b[39m.\u001b[39mappend(b[\u001b[39m0\u001b[39m,\u001b[39m0\u001b[39m])\n\u001b[1;32m     12\u001b[0m     b[\u001b[39m1\u001b[39m,\u001b[39m1\u001b[39m]\u001b[39m=\u001b[39mnp\u001b[39m.\u001b[39mexp(\u001b[39m-\u001b[39mtau[i]\u001b[39m*\u001b[39ma[\u001b[39m1\u001b[39m,\u001b[39m1\u001b[39m])\u001b[39m/\u001b[39mc\n",
      "\u001b[0;31mNameError\u001b[0m: name 'a' is not defined"
     ]
    }
   ],
   "source": [
    "plotting2(ta)"
   ]
  },
  {
   "cell_type": "code",
   "execution_count": null,
   "metadata": {},
   "outputs": [
    {
     "data": {
      "text/plain": [
       "100000000"
      ]
     },
     "execution_count": 14,
     "metadata": {},
     "output_type": "execute_result"
    }
   ],
   "source": [
    "68794566+19034216+12171218\n",
    "\n",
    "\n"
   ]
  },
  {
   "cell_type": "code",
   "execution_count": null,
   "metadata": {},
   "outputs": [],
   "source": [
    "convol1 = np.linspace(0,1,100)\n",
    "convol2 = np.linspace(0,1,100)\n",
    "bucket = np.zeros(100)\n",
    "bucket2 = np.zeros(100)\n",
    "\n",
    "grid = np.linspace(1,199,199)\n",
    "grid2 = np.linspace(0,100,100)"
   ]
  },
  {
   "cell_type": "code",
   "execution_count": null,
   "metadata": {},
   "outputs": [
    {
     "data": {
      "text/plain": [
       "[<matplotlib.lines.Line2D at 0x7fa5d1ad95d0>]"
      ]
     },
     "execution_count": 19,
     "metadata": {},
     "output_type": "execute_result"
    },
    {
     "data": {
      "image/png": "[encoded data removed]",
      "text/plain": [
       "<Figure size 640x480 with 1 Axes>"
      ]
     },
     "metadata": {},
     "output_type": "display_data"
    }
   ],
   "source": [
    "plt.plot(grid,np.convolve(convol2, convol1))\n",
    "\n"
   ]
  },
  {
   "cell_type": "code",
   "execution_count": null,
   "metadata": {},
   "outputs": [
    {
     "name": "stdout",
     "output_type": "stream",
     "text": [
      "50\n",
      "49\n",
      "48\n",
      "47\n",
      "46\n",
      "45\n",
      "44\n",
      "43\n",
      "42\n",
      "41\n",
      "40\n",
      "39\n",
      "38\n",
      "37\n",
      "36\n",
      "35\n",
      "34\n",
      "33\n",
      "32\n",
      "31\n",
      "30\n",
      "29\n",
      "28\n",
      "27\n",
      "26\n",
      "25\n",
      "24\n",
      "23\n",
      "22\n",
      "21\n",
      "20\n",
      "19\n",
      "18\n",
      "17\n",
      "16\n",
      "15\n",
      "14\n",
      "13\n",
      "12\n",
      "11\n",
      "10\n",
      "9\n",
      "8\n",
      "7\n",
      "6\n",
      "5\n",
      "4\n",
      "3\n",
      "2\n",
      "1\n"
     ]
    },
    {
     "data": {
      "text/plain": [
       "[<matplotlib.lines.Line2D at 0x7fa5a0ab0340>]"
      ]
     },
     "execution_count": 20,
     "metadata": {},
     "output_type": "execute_result"
    },
    {
     "data": {
      "image/png": "[encoded data removed]",
      "text/plain": [
       "<Figure size 640x480 with 1 Axes>"
      ]
     },
     "metadata": {},
     "output_type": "display_data"
    }
   ],
   "source": [
    "for i in range(len(convol2)):\n",
    "    if(50+i > 99):\n",
    "        break\n",
    "    bucket[i] = (convol1[i] * convol2[abs(50+i)]) + bucket[i]\n",
    "    print(abs(50-i))\n",
    "\n",
    "\n",
    "plt.plot(grid2,convol1[1] * bucket)"
   ]
  },
  {
   "cell_type": "code",
   "execution_count": null,
   "metadata": {},
   "outputs": [
    {
     "data": {
      "text/plain": [
       "500"
      ]
     },
     "execution_count": 11,
     "metadata": {},
     "output_type": "execute_result"
    }
   ],
   "source": [
    "len(H.k)"
   ]
  },
  {
   "cell_type": "code",
   "execution_count": null,
   "metadata": {},
   "outputs": [],
   "source": []
  }
 ],
 "metadata": {
  "kernelspec": {
   "display_name": "Workspace",
   "language": "python",
   "name": "python3"
  },
  "language_info": {
   "codemirror_mode": {
    "name": "ipython",
    "version": 3
   },
   "file_extension": ".py",
   "mimetype": "text/x-python",
   "name": "python",
   "nbconvert_exporter": "python",
   "pygments_lexer": "ipython3",
   "version": "3.10.11"
  },
  "orig_nbformat": 4
 },
 "nbformat": 4,
 "nbformat_minor": 2
}
