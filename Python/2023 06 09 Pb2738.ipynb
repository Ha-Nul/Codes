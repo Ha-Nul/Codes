{
 "cells": [
  {
   "cell_type": "code",
   "execution_count": 54,
   "metadata": {},
   "outputs": [
    {
     "name": "stdout",
     "output_type": "stream",
     "text": [
      "1 2\n",
      "2 1\n"
     ]
    }
   ],
   "source": [
    "try:    \n",
    "    i,j = map(int,input().split())\n",
    "\n",
    "    mat1 = [[b for b in range(i)] for a in range(j)]\n",
    "    mat2 = [[b for b in range(i)] for a in range(j)]\n",
    "    mat3 = [[b for b in range(i)] for a in range(j)]\n",
    "\n",
    "    for c in range(j):\n",
    "        mat1[c] = list(map(int,input().split()))\n",
    "    #rint(mat1)\n",
    "\n",
    "    for d in range(j):\n",
    "        mat2[d] = list(map(int,input().split()))\n",
    "    #print(mat2)\n",
    "\n",
    "\n",
    "    for f in range(i):\n",
    "        for g in range(j):\n",
    "            mat3[f][g] = mat1[f][g] + mat2[f][g]\n",
    "\n",
    "    for k in mat3:\n",
    "        print(*k)\n",
    "except EOFError:\n",
    "    None"
   ]
  },
  {
   "cell_type": "code",
   "execution_count": 23,
   "metadata": {},
   "outputs": [
    {
     "name": "stdout",
     "output_type": "stream",
     "text": [
      "[[6, 6, 6, 6], [6, 6, 6, 6], [6, 6, 6, 6], [6, 6, 6, 6]]\n"
     ]
    }
   ],
   "source": [
    "for c in mat1:\n",
    "    for k in range(j):\n",
    "        c[k] = 4\n",
    "\n",
    "for d in mat2:\n",
    "    for e in range(j):\n",
    "        d[e] = 2\n",
    "\n",
    "for f in range(i):\n",
    "    for g in range(j):\n",
    "        mat3[f][g] = mat1[f][g] + mat2[f][g]\n",
    "\n",
    "print(mat3)"
   ]
  },
  {
   "cell_type": "code",
   "execution_count": 30,
   "metadata": {},
   "outputs": [
    {
     "name": "stdout",
     "output_type": "stream",
     "text": [
      "[3, 3]\n",
      "[1, 1, 1]\n",
      "[2, 2, 2]\n",
      "[[0, 1, 2], [0, 1, 2], [0, 1, 2]]\n",
      "[0, 1, 2]\n",
      "[0, 1, 2]\n",
      "[0, 1, 2]\n",
      "[[0, 2, 4], [0, 2, 4], [0, 2, 4]]\n"
     ]
    }
   ],
   "source": [
    "for c in mat1:\n",
    "    c = list(map(int,input().split()))\n",
    "    print(c)\n",
    "print(mat1)\n",
    "\n",
    "for d in mat2:\n",
    "    print(d)\n",
    "\n",
    "\n",
    "for f in range(i):\n",
    "    for g in range(j):\n",
    "        mat3[f][g] = mat1[f][g] + mat2[f][g]\n",
    "\n",
    "print(mat3)"
   ]
  },
  {
   "cell_type": "code",
   "execution_count": 64,
   "metadata": {},
   "outputs": [
    {
     "name": "stdout",
     "output_type": "stream",
     "text": [
      "3 6\n"
     ]
    }
   ],
   "source": [
    "i,j = map(int,input().split())\n",
    "\n",
    "mat1 = [[b for b in range(j)] for a in range(i)]\n",
    "mat2 = [[b for b in range(j)] for a in range(i)]\n",
    "mat3 = [[b for b in range(j)] for a in range(i)]\n",
    "\n",
    "for c in range(i):\n",
    "    mat1[c] = list(map(int,input().split()))\n",
    "    #rint(mat1)\n",
    "\n",
    "for d in range(i):\n",
    "    mat2[d] = list(map(int,input().split()))\n",
    "    #print(mat2)\n",
    "\n",
    "\n",
    "for f in range(i):\n",
    "    for g in range(j):\n",
    "        mat3[f][g] = mat1[f][g] + mat2[f][g]\n",
    "\n",
    "for k in mat3:\n",
    "    print(*k)"
   ]
  },
  {
   "cell_type": "code",
   "execution_count": 7,
   "metadata": {},
   "outputs": [
    {
     "name": "stdout",
     "output_type": "stream",
     "text": [
      "6\n"
     ]
    }
   ],
   "source": [
    "a = input()\n",
    "b = 0\n",
    "\n",
    "for i in range(len(a)):\n",
    "    if a[i] == ' ':\n",
    "        b += 1\n",
    "\n",
    "if a[0] == ' ':\n",
    "    print(b)\n",
    "\n",
    "elif a[len(a)-1] == ' ':\n",
    "    print(b)\n",
    "\n",
    "else:\n",
    "    print(b+1)\n"
   ]
  },
  {
   "cell_type": "code",
   "execution_count": null,
   "metadata": {},
   "outputs": [],
   "source": []
  }
 ],
 "metadata": {
  "kernelspec": {
   "display_name": "Workspace",
   "language": "python",
   "name": "python3"
  },
  "language_info": {
   "codemirror_mode": {
    "name": "ipython",
    "version": 3
   },
   "file_extension": ".py",
   "mimetype": "text/x-python",
   "name": "python",
   "nbconvert_exporter": "python",
   "pygments_lexer": "ipython3",
   "version": "3.10.11"
  },
  "orig_nbformat": 4
 },
 "nbformat": 4,
 "nbformat_minor": 2
}
