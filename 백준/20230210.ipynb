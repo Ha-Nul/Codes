{
 "cells": [
  {
   "cell_type": "code",
   "execution_count": 180,
   "metadata": {},
   "outputs": [
    {
     "name": "stdout",
     "output_type": "stream",
     "text": [
      "1/2\n"
     ]
    }
   ],
   "source": [
    "A=int(input())\n",
    "subtract=0\n",
    "count=0\n",
    "if A==1:\n",
    "    result= f'{1}/{1}'\n",
    "\n",
    "elif A!=1:\n",
    "    while A >= 1:\n",
    "        count+=1\n",
    "        subtract+=1\n",
    "        A=A-subtract\n",
    "         \n",
    "        if A < 0:\n",
    "            break\n",
    "\n",
    "    X=[]\n",
    "    Y=[]\n",
    "    Z1=[]\n",
    "    Z2=[]\n",
    "\n",
    "    for i in range(1,count+1):\n",
    "        X.append(i)\n",
    "        Y+=X\n",
    "        Z1.append(Y)\n",
    "        K=Y[::-1]\n",
    "        Z2.append(K)\n",
    "\n",
    "        Y=[]\n",
    "\n",
    "    X1=[]\n",
    "    X2=[]\n",
    "\n",
    "    for j in range(len(Z1)):\n",
    "        if j%2 == 0:\n",
    "            X1+=Z1[j]\n",
    "            X2+=Z2[j]\n",
    "        else:\n",
    "            X1+=Z2[j]\n",
    "            X2+=Z1[j]\n",
    "            \n",
    "    result= f'{X2[A-1]}/{X1[A-1]}'\n",
    "    print(result)\n",
    "\n"
   ]
  },
  {
   "cell_type": "code",
   "execution_count": 179,
   "metadata": {},
   "outputs": [
    {
     "name": "stdout",
     "output_type": "stream",
     "text": [
      "1/1\n",
      "2 1/2\n",
      "3 2/1\n",
      "4 3/1\n",
      "5 2/2\n",
      "6 1/3\n",
      "7 1/4\n",
      "8 2/3\n",
      "9 3/2\n",
      "10 4/1\n",
      "11 5/1\n",
      "12 4/2\n",
      "13 3/3\n",
      "14 2/4\n",
      "15 1/5\n",
      "16 1/6\n",
      "17 2/5\n",
      "18 3/4\n",
      "19 4/3\n",
      "20 5/2\n",
      "21 6/1\n",
      "22 7/1\n",
      "23 6/2\n",
      "24 5/3\n",
      "25 4/4\n",
      "26 3/5\n",
      "27 2/6\n",
      "28 1/7\n",
      "29 1/8\n",
      "30 2/7\n",
      "31 3/6\n",
      "32 4/5\n",
      "33 5/4\n",
      "34 6/3\n",
      "35 7/2\n",
      "36 8/1\n",
      "37 9/1\n",
      "38 8/2\n",
      "39 7/3\n",
      "40 6/4\n",
      "41 5/5\n",
      "42 4/6\n",
      "43 3/7\n",
      "44 2/8\n",
      "45 1/9\n",
      "46 1/10\n",
      "47 2/9\n",
      "48 3/8\n",
      "49 4/7\n",
      "50 5/6\n",
      "51 6/5\n",
      "52 7/4\n",
      "53 8/3\n",
      "54 9/2\n",
      "55 10/1\n",
      "56 11/1\n",
      "57 10/2\n",
      "58 9/3\n",
      "59 8/4\n",
      "60 7/5\n",
      "61 6/6\n",
      "62 5/7\n",
      "63 4/8\n",
      "64 3/9\n",
      "65 2/10\n",
      "66 1/11\n",
      "67 1/12\n",
      "68 2/11\n",
      "69 3/10\n",
      "70 4/9\n",
      "71 5/8\n",
      "72 6/7\n",
      "73 7/6\n",
      "74 8/5\n",
      "75 9/4\n",
      "76 10/3\n",
      "77 11/2\n",
      "78 12/1\n",
      "79 13/1\n",
      "80 12/2\n",
      "81 11/3\n",
      "82 10/4\n",
      "83 9/5\n",
      "84 8/6\n",
      "85 7/7\n",
      "86 6/8\n",
      "87 5/9\n",
      "88 4/10\n",
      "89 3/11\n",
      "90 2/12\n",
      "91 1/13\n",
      "92 1/14\n",
      "93 2/13\n",
      "94 3/12\n",
      "95 4/11\n",
      "96 5/10\n",
      "97 6/9\n",
      "98 7/8\n",
      "99 8/7\n"
     ]
    }
   ],
   "source": [
    "for A in range(1,100):\n",
    "    initial=A\n",
    "    subtract=0\n",
    "    count=0\n",
    "    if A==1:\n",
    "        result= f'{1}/{1}'\n",
    "        print(result)\n",
    "\n",
    "    elif A!=1:\n",
    "        while A >= 1:\n",
    "            count+=1\n",
    "            subtract+=1\n",
    "            A=A-subtract\n",
    "            \n",
    "            if A < 0:\n",
    "                break\n",
    "\n",
    "        X=[]\n",
    "        Y=[]\n",
    "        Z1=[]\n",
    "        Z2=[]\n",
    "\n",
    "        for i in range(1,count+1):\n",
    "            X.append(i)\n",
    "            Y+=X\n",
    "            Z1.append(Y)\n",
    "            K=Y[::-1]\n",
    "            Z2.append(K)\n",
    "\n",
    "            Y=[]\n",
    "\n",
    "        X1=[]\n",
    "        X2=[]\n",
    "\n",
    "        for j in range(len(Z1)):\n",
    "            if j%2 == 0:\n",
    "                X1+=Z1[j]\n",
    "                X2+=Z2[j]\n",
    "            else:\n",
    "                X1+=Z2[j]\n",
    "                X2+=Z1[j]\n",
    "\n",
    "        result= f'{X2[A-1]}/{X1[A-1]}'\n",
    "        print(initial,result)"
   ]
  },
  {
   "cell_type": "code",
   "execution_count": 181,
   "metadata": {},
   "outputs": [
    {
     "name": "stdout",
     "output_type": "stream",
     "text": [
      "65\n"
     ]
    }
   ],
   "source": [
    "A=input()\n",
    "\n",
    "print(ord(A))"
   ]
  },
  {
   "cell_type": "code",
   "execution_count": 211,
   "metadata": {},
   "outputs": [
    {
     "name": "stdout",
     "output_type": "stream",
     "text": [
      "-1 3 2\n",
      "2/2\n"
     ]
    }
   ],
   "source": [
    "N=int(input())\n",
    "cnt=0\n",
    "subtract=0\n",
    "left=0\n",
    "\n",
    "while N >= 1:\n",
    "        left=N\n",
    "        cnt+=1\n",
    "        subtract+=1\n",
    "        N=N-subtract\n",
    "        \n",
    "        if N < 0:\n",
    "            break\n",
    "\n",
    "if left>0:\n",
    "    a=left-1\n",
    "\n",
    "if cnt%2 != 0:\n",
    "    print(f'{cnt-a}/{left}')\n",
    "else:\n",
    "    print(f'{left}/{cnt-a}')"
   ]
  },
  {
   "cell_type": "code",
   "execution_count": 243,
   "metadata": {},
   "outputs": [
    {
     "name": "stdout",
     "output_type": "stream",
     "text": [
      "0/-7\n",
      "1/1\n",
      "1/2\n",
      "2/1\n",
      "3/1\n",
      "2/2\n",
      "1/3\n",
      "1/4\n",
      "2/3\n",
      "3/2\n",
      "4/1\n",
      "5/1\n",
      "4/2\n",
      "3/3\n",
      "2/4\n",
      "1/5\n",
      "1/6\n",
      "2/5\n",
      "3/4\n",
      "4/3\n",
      "5/2\n",
      "6/1\n",
      "7/1\n",
      "6/2\n",
      "5/3\n",
      "4/4\n",
      "3/5\n",
      "2/6\n",
      "1/7\n",
      "1/8\n",
      "2/7\n",
      "3/6\n",
      "4/5\n",
      "5/4\n",
      "6/3\n",
      "7/2\n",
      "8/1\n",
      "9/1\n",
      "8/2\n",
      "7/3\n",
      "6/4\n",
      "5/5\n",
      "4/6\n",
      "3/7\n",
      "2/8\n",
      "1/9\n",
      "1/10\n",
      "2/9\n",
      "3/8\n",
      "4/7\n",
      "5/6\n",
      "6/5\n",
      "7/4\n",
      "8/3\n",
      "9/2\n",
      "10/1\n",
      "11/1\n",
      "10/2\n",
      "9/3\n",
      "8/4\n",
      "7/5\n",
      "6/6\n",
      "5/7\n",
      "4/8\n",
      "3/9\n",
      "2/10\n",
      "1/11\n",
      "1/12\n",
      "2/11\n",
      "3/10\n",
      "4/9\n",
      "5/8\n",
      "6/7\n",
      "7/6\n",
      "8/5\n",
      "9/4\n",
      "10/3\n",
      "11/2\n",
      "12/1\n",
      "13/1\n",
      "12/2\n",
      "11/3\n",
      "10/4\n",
      "9/5\n",
      "8/6\n",
      "7/7\n",
      "6/8\n",
      "5/9\n",
      "4/10\n",
      "3/11\n",
      "2/12\n",
      "1/13\n",
      "1/14\n",
      "2/13\n",
      "3/12\n",
      "4/11\n",
      "5/10\n",
      "6/9\n",
      "7/8\n",
      "8/7\n"
     ]
    }
   ],
   "source": [
    "for N in range(100):\n",
    "    cnt=0\n",
    "    subtract=0\n",
    "    left=0\n",
    "\n",
    "    while N >= 1:\n",
    "            left=N\n",
    "            cnt+=1\n",
    "            subtract+=1\n",
    "            N=N-subtract\n",
    "            \n",
    "            if N < 0:\n",
    "                break\n",
    "\n",
    "    if left>0:\n",
    "        a=left-1\n",
    "\n",
    "    if cnt%2 != 0:\n",
    "        print(f'{cnt-a}/{left}')\n",
    "    else:\n",
    "        print(f'{left}/{cnt-a}')"
   ]
  },
  {
   "cell_type": "code",
   "execution_count": 268,
   "metadata": {},
   "outputs": [
    {
     "name": "stdout",
     "output_type": "stream",
     "text": [
      "0 3\n",
      "4\n"
     ]
    }
   ],
   "source": [
    "A,B,V=map(int,input().split())\n",
    "i=(V-A)%(A-B)\n",
    "\n",
    "if i!=0:\n",
    "    print(((V-A)//(A-B))+2)\n",
    "else:\n",
    "    print((V-A)//(A-B)+1)\n"
   ]
  },
  {
   "cell_type": "code",
   "execution_count": 321,
   "metadata": {},
   "outputs": [
    {
     "name": "stdout",
     "output_type": "stream",
     "text": [
      "355\n"
     ]
    }
   ],
   "source": [
    "B=int(input())\n",
    "mass=[1,B**2]\n",
    "velocity=[0,-1]\n",
    "\n",
    "m_A=mass[0]\n",
    "m_B=mass[1]\n",
    "\n",
    "i=0\n",
    "\n",
    "while velocity[1] != 1:\n",
    "    #print('initial',velocity)\n",
    "    v_A=velocity[0]\n",
    "    v_B=velocity[1]\n",
    "\n",
    "    i+=1\n",
    "    velocity[0]=((m_A-m_B)*v_A/(m_A+m_B))+((2*m_B)*v_B/(m_A+m_B))\n",
    "    velocity[1]=(2*m_A)*v_A/(m_A+m_B)-(m_A-m_B)*v_B/(m_A+m_B)\n",
    "    #print('mid',velocity , i)\n",
    "\n",
    "    if velocity[0] < 0:\n",
    "        i+=1\n",
    "        velocity[0]=abs(velocity[0])\n",
    "        #print('abs',velocity[0], i)\n",
    "    \n",
    "    if abs(velocity[0])<abs(velocity[1]):\n",
    "        break\n",
    "\n",
    "print(i)"
   ]
  },
  {
   "cell_type": "code",
   "execution_count": 299,
   "metadata": {},
   "outputs": [
    {
     "name": "stdout",
     "output_type": "stream",
     "text": [
      "50\n"
     ]
    }
   ],
   "source": [
    "A=(m_A-m_B)*v_A/(m_A+m_B)+(2*m_B)*v_B/(m_A+m_B)\n",
    "print(m_A+m_B)"
   ]
  },
  {
   "cell_type": "code",
   "execution_count": 308,
   "metadata": {},
   "outputs": [
    {
     "name": "stdout",
     "output_type": "stream",
     "text": [
      "-0.8432\n",
      "-1.652672\n"
     ]
    }
   ],
   "source": [
    "C=(m_A-m_B)*v_A/(m_A+m_B)\n",
    "B=(2*m_B)*v_B/(m_A+m_B)\n",
    "print(v_B)\n",
    "print(B)"
   ]
  },
  {
   "cell_type": "code",
   "execution_count": 355,
   "metadata": {},
   "outputs": [
    {
     "name": "stdout",
     "output_type": "stream",
     "text": [
      "stable\n"
     ]
    }
   ],
   "source": [
    "A=list(map(int,input().split()))\n",
    "B=list(map(int,input().split()))\n",
    "\n",
    "if A[0]>1:\n",
    "    Avg=(sum(B)-B[0])/(len(B)-1)\n",
    "    le=[-A[1]+B[0],A[1]+B[0]]\n",
    "    print(Avg,le)\n",
    "\n",
    "    if Avg > le[0] and Avg < le[1]:\n",
    "        print('stable')\n",
    "    else:\n",
    "        print('unstable')\n",
    "\n",
    "elif A[0]==1:\n",
    "    print('stable')"
   ]
  },
  {
   "cell_type": "code",
   "execution_count": null,
   "metadata": {},
   "outputs": [],
   "source": [
    "y=-5*x/3+6\n",
    "\n",
    "if -5*x//3 == 0:\n",
    "    print(y)"
   ]
  }
 ],
 "metadata": {
  "kernelspec": {
   "display_name": "Test",
   "language": "python",
   "name": "python3"
  },
  "language_info": {
   "codemirror_mode": {
    "name": "ipython",
    "version": 3
   },
   "file_extension": ".py",
   "mimetype": "text/x-python",
   "name": "python",
   "nbconvert_exporter": "python",
   "pygments_lexer": "ipython3",
   "version": "3.9.11"
  },
  "orig_nbformat": 4,
  "vscode": {
   "interpreter": {
    "hash": "34d3f6eeb065e33650b05bdc027c19989b9c0cb093037dc6f9c6f89799bee22d"
   }
  }
 },
 "nbformat": 4,
 "nbformat_minor": 2
}
