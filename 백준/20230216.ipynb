{
 "cells": [
  {
   "cell_type": "code",
   "execution_count": null,
   "metadata": {},
   "outputs": [],
   "source": [
    "init=int(input())\n",
    "\n",
    "for j in range(init):\n",
    "    A,B=input().split()\n",
    "    try:\n",
    "        C=int(A)\n",
    "    except ValueError:\n",
    "        None\n",
    "    D=\"\"\n",
    "\n",
    "    for i in B:\n",
    "        D+=C*i\n",
    "\n",
    "    print(D)"
   ]
  },
  {
   "cell_type": "code",
   "execution_count": 12,
   "metadata": {},
   "outputs": [
    {
     "name": "stdout",
     "output_type": "stream",
     "text": [
      "    *\n",
      "   **\n",
      "  ***\n",
      " ****\n",
      "*****\n"
     ]
    }
   ],
   "source": [
    "A=int(input())\n",
    "C=''\n",
    "\n",
    "for i in range(A-1,-1,-1):\n",
    "    C=' '*(i)+'*'*(A-i)\n",
    "    print(C)"
   ]
  },
  {
   "cell_type": "code",
   "execution_count": 19,
   "metadata": {},
   "outputs": [
    {
     "name": "stdout",
     "output_type": "stream",
     "text": [
      "437\n",
      "437 398\n"
     ]
    }
   ],
   "source": [
    "A,B=input().split()\n",
    "\n",
    "C=A[::-1]\n",
    "D=B[::-1]\n",
    "\n",
    "C,D=int(C),int(D)\n",
    "\n",
    "if C > D:\n",
    "    print(C)\n",
    "elif C < D:\n",
    "    print(D)\n"
   ]
  },
  {
   "cell_type": "code",
   "execution_count": null,
   "metadata": {},
   "outputs": [],
   "source": []
  }
 ],
 "metadata": {
  "kernelspec": {
   "display_name": "Test",
   "language": "python",
   "name": "python3"
  },
  "language_info": {
   "codemirror_mode": {
    "name": "ipython",
    "version": 3
   },
   "file_extension": ".py",
   "mimetype": "text/x-python",
   "name": "python",
   "nbconvert_exporter": "python",
   "pygments_lexer": "ipython3",
   "version": "3.9.11"
  },
  "orig_nbformat": 4,
  "vscode": {
   "interpreter": {
    "hash": "34d3f6eeb065e33650b05bdc027c19989b9c0cb093037dc6f9c6f89799bee22d"
   }
  }
 },
 "nbformat": 4,
 "nbformat_minor": 2
}
