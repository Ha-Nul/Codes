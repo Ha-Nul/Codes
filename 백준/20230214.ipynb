{
 "cells": [
  {
   "cell_type": "code",
   "execution_count": 29,
   "metadata": {},
   "outputs": [
    {
     "name": "stdout",
     "output_type": "stream",
     "text": [
      "16.52892561983471 1.8181818181818181 83.47107438016529\n",
      "42.35537190082644 2.2727272727272725 57.64462809917356\n",
      "82.70919421487602 2.840909090909091 17.29080578512398\n",
      "145.76204158057848 3.5511363636363633 -45.76204158057848\n",
      "3\n"
     ]
    }
   ],
   "source": [
    "V,W,D=map(float,input().split())\n",
    "coli=0\n",
    "t=W/V\n",
    "y=0\n",
    "\n",
    "while y < D:\n",
    "    y+=5*t**2\n",
    "\n",
    "    if y > D:\n",
    "        break\n",
    "\n",
    "    t=5*t/4\n",
    "    coli+=1\n",
    "\n",
    "print(coli)"
   ]
  },
  {
   "cell_type": "code",
   "execution_count": 16,
   "metadata": {},
   "outputs": [
    {
     "name": "stdout",
     "output_type": "stream",
     "text": [
      "3\n"
     ]
    }
   ],
   "source": [
    "#제출용\n",
    "\n",
    "V,W,D=map(int,input().split())\n",
    "coli=0\n",
    "t=W/V\n",
    "y=0\n",
    "\n",
    "while y < D:\n",
    "    y+=5*t**2\n",
    "\n",
    "    if y > D:\n",
    "        break\n",
    "\n",
    "    t=5*W/(4*V)\n",
    "    coli+=1\n",
    "\n",
    "print(coli)"
   ]
  },
  {
   "cell_type": "code",
   "execution_count": 28,
   "metadata": {},
   "outputs": [
    {
     "data": {
      "text/plain": [
       "1121018771.4598534"
      ]
     },
     "execution_count": 28,
     "metadata": {},
     "output_type": "execute_result"
    }
   ],
   "source": [
    "20*((5/4)**49-1)*1000"
   ]
  },
  {
   "cell_type": "code",
   "execution_count": null,
   "metadata": {},
   "outputs": [],
   "source": [
    "A,B=map(int,input().split())\n",
    "\n",
    "init_list=[i for i in range(A,B+1,1)]\n",
    "\n",
    "for j in init_list:\n",
    "    count=0\n",
    "    for i in range(A,B+1):\n",
    "        if j % i == 0 :\n",
    "            count+=1\n",
    "            print(j,i,count)\n",
    "        \n",
    "    if j!=1 and count==2:\n",
    "        print(j)\n"
   ]
  },
  {
   "cell_type": "code",
   "execution_count": 32,
   "metadata": {},
   "outputs": [
    {
     "name": "stdout",
     "output_type": "stream",
     "text": [
      "3\n",
      "1\n",
      "0\n",
      "2\n",
      "0\n",
      "0\n",
      "0\n",
      "2\n",
      "0\n",
      "0\n"
     ]
    }
   ],
   "source": [
    "B=1\n",
    "\n",
    "for i in range(3):\n",
    "    A=int(input())\n",
    "    B=B*A\n",
    "\n",
    "C=str(B)\n",
    "C=list(C)\n",
    "D='0123456789'\n",
    "\n",
    "num_list=list(D)\n",
    "\n",
    "for j in range(len(num_list)):\n",
    "    count=0\n",
    "    for k in C:\n",
    "        if k==num_list[j]:\n",
    "            count+=1\n",
    "    print(count)\n"
   ]
  },
  {
   "cell_type": "code",
   "execution_count": 9,
   "metadata": {},
   "outputs": [
    {
     "name": "stdout",
     "output_type": "stream",
     "text": [
      "1\n",
      "2\n",
      "6\n",
      "24\n",
      "24\n"
     ]
    }
   ],
   "source": [
    "B=1\n",
    "\n",
    "for i in range(1,5):\n",
    "    B=B*i\n",
    "    print(B)\n",
    "\n",
    "print(B)"
   ]
  },
  {
   "cell_type": "code",
   "execution_count": 22,
   "metadata": {},
   "outputs": [
    {
     "data": {
      "text/plain": [
       "str"
      ]
     },
     "execution_count": 22,
     "metadata": {},
     "output_type": "execute_result"
    }
   ],
   "source": [
    "type(C)"
   ]
  },
  {
   "cell_type": "code",
   "execution_count": 44,
   "metadata": {},
   "outputs": [
    {
     "name": "stdout",
     "output_type": "stream",
     "text": [
      "mixed\n"
     ]
    }
   ],
   "source": [
    "A=list(map(int,input().split()))\n",
    "B=[i for i in range(1,9)]\n",
    "C=list(reversed(B))\n",
    "\n",
    "if A==B:\n",
    "    print('ascending')\n",
    "elif A==C:\n",
    "    print('descending')\n",
    "else:\n",
    "    print('mixed')\n",
    "\n"
   ]
  },
  {
   "cell_type": "code",
   "execution_count": null,
   "metadata": {},
   "outputs": [],
   "source": [
    "A=int(input())\n",
    "C=''\n",
    "D=\n",
    "\n",
    "for i in range(A):\n",
    "    B=input()\n",
    "    for j in range(i):\n",
    "        \n",
    "\n",
    "    if len(B)>=len(C):\n"
   ]
  }
 ],
 "metadata": {
  "kernelspec": {
   "display_name": "Test",
   "language": "python",
   "name": "python3"
  },
  "language_info": {
   "codemirror_mode": {
    "name": "ipython",
    "version": 3
   },
   "file_extension": ".py",
   "mimetype": "text/x-python",
   "name": "python",
   "nbconvert_exporter": "python",
   "pygments_lexer": "ipython3",
   "version": "3.9.11"
  },
  "orig_nbformat": 4,
  "vscode": {
   "interpreter": {
    "hash": "34d3f6eeb065e33650b05bdc027c19989b9c0cb093037dc6f9c6f89799bee22d"
   }
  }
 },
 "nbformat": 4,
 "nbformat_minor": 2
}
