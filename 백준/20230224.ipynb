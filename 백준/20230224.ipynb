{
 "cells": [
  {
   "cell_type": "code",
   "execution_count": 4,
   "metadata": {},
   "outputs": [
    {
     "name": "stdout",
     "output_type": "stream",
     "text": [
      "[0, 0, 0]\n"
     ]
    }
   ],
   "source": [
    "B=[]\n",
    "\n",
    "while B!=[0,0,0]:\n",
    "\n",
    "    A=list(map(int,input().split()))\n",
    "    A.sort()\n",
    "    B=A\n",
    "\n",
    "    if A[0]**2 + A[1]**2 == A[2]**2 and B!=[0,0,0]:\n",
    "        print(\"right\")\n",
    "    elif B==[0,0,0]:\n",
    "        break\n",
    "    else:\n",
    "        print(\"wrong\")"
   ]
  },
  {
   "cell_type": "code",
   "execution_count": null,
   "metadata": {},
   "outputs": [],
   "source": []
  }
 ],
 "metadata": {
  "kernelspec": {
   "display_name": "Test",
   "language": "python",
   "name": "python3"
  },
  "language_info": {
   "codemirror_mode": {
    "name": "ipython",
    "version": 3
   },
   "file_extension": ".py",
   "mimetype": "text/x-python",
   "name": "python",
   "nbconvert_exporter": "python",
   "pygments_lexer": "ipython3",
   "version": "3.9.11"
  },
  "orig_nbformat": 4,
  "vscode": {
   "interpreter": {
    "hash": "34d3f6eeb065e33650b05bdc027c19989b9c0cb093037dc6f9c6f89799bee22d"
   }
  }
 },
 "nbformat": 4,
 "nbformat_minor": 2
}
