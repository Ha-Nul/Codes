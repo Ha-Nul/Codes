{
 "cells": [
  {
   "cell_type": "code",
   "execution_count": 8,
   "metadata": {},
   "outputs": [],
   "source": [
    "import sympy as sp\n",
    "import numpy as np\n",
    "import math\n",
    "\n",
    "sp.init_printing()"
   ]
  },
  {
   "cell_type": "code",
   "execution_count": 14,
   "metadata": {},
   "outputs": [
    {
     "ename": "ValueError",
     "evalue": "The same variable should be used in all univariate expressions being plotted.",
     "output_type": "error",
     "traceback": [
      "\u001b[1;31m---------------------------------------------------------------------------\u001b[0m",
      "\u001b[1;31mValueError\u001b[0m                                Traceback (most recent call last)",
      "\u001b[1;32mUntitled-1.ipynb Cell 2\u001b[0m in \u001b[0;36m<cell line: 4>\u001b[1;34m()\u001b[0m\n\u001b[0;32m      <a href='vscode-notebook-cell:Untitled-1.ipynb?jupyter-notebook#W1sdW50aXRsZWQ%3D?line=0'>1</a>\u001b[0m v,k,o_p \u001b[39m=\u001b[39m sp\u001b[39m.\u001b[39msymbols(\u001b[39m'\u001b[39m\u001b[39mv k o_p\u001b[39m\u001b[39m'\u001b[39m)\n\u001b[0;32m      <a href='vscode-notebook-cell:Untitled-1.ipynb?jupyter-notebook#W1sdW50aXRsZWQ%3D?line=1'>2</a>\u001b[0m y \u001b[39m=\u001b[39m v\u001b[39m*\u001b[39mk\u001b[39m/\u001b[39msp\u001b[39m.\u001b[39msqrt(\u001b[39m1\u001b[39m\u001b[39m+\u001b[39m(v\u001b[39m*\u001b[39mk\u001b[39m/\u001b[39mo_p)\u001b[39m*\u001b[39m\u001b[39m*\u001b[39m\u001b[39m2\u001b[39m)\n\u001b[1;32m----> <a href='vscode-notebook-cell:Untitled-1.ipynb?jupyter-notebook#W1sdW50aXRsZWQ%3D?line=3'>4</a>\u001b[0m sp\u001b[39m.\u001b[39;49mplot(y,k)\n",
      "File \u001b[1;32mg:\\Install_Program\\Anaconda\\envs\\Test\\lib\\site-packages\\sympy\\plotting\\plot.py:1842\u001b[0m, in \u001b[0;36mplot\u001b[1;34m(show, *args, **kwargs)\u001b[0m\n\u001b[0;32m   1840\u001b[0m         free \u001b[39m|\u001b[39m\u001b[39m=\u001b[39m a\u001b[39m.\u001b[39mfree_symbols\n\u001b[0;32m   1841\u001b[0m         \u001b[39mif\u001b[39;00m \u001b[39mlen\u001b[39m(free) \u001b[39m>\u001b[39m \u001b[39m1\u001b[39m:\n\u001b[1;32m-> 1842\u001b[0m             \u001b[39mraise\u001b[39;00m \u001b[39mValueError\u001b[39;00m(\n\u001b[0;32m   1843\u001b[0m                 \u001b[39m'\u001b[39m\u001b[39mThe same variable should be used in all \u001b[39m\u001b[39m'\u001b[39m\n\u001b[0;32m   1844\u001b[0m                 \u001b[39m'\u001b[39m\u001b[39munivariate expressions being plotted.\u001b[39m\u001b[39m'\u001b[39m)\n\u001b[0;32m   1845\u001b[0m x \u001b[39m=\u001b[39m free\u001b[39m.\u001b[39mpop() \u001b[39mif\u001b[39;00m free \u001b[39melse\u001b[39;00m Symbol(\u001b[39m'\u001b[39m\u001b[39mx\u001b[39m\u001b[39m'\u001b[39m)\n\u001b[0;32m   1846\u001b[0m kwargs\u001b[39m.\u001b[39msetdefault(\u001b[39m'\u001b[39m\u001b[39mxlabel\u001b[39m\u001b[39m'\u001b[39m, x\u001b[39m.\u001b[39mname)\n",
      "\u001b[1;31mValueError\u001b[0m: The same variable should be used in all univariate expressions being plotted."
     ]
    }
   ],
   "source": [
    "v,k,o_p = sp.symbols('v k o_p')\n",
    "y = v*k/sp.sqrt(1+(v*k/o_p)**2)\n",
    "\n",
    "sp.plot(y,k)"
   ]
  },
  {
   "cell_type": "code",
   "execution_count": 15,
   "metadata": {},
   "outputs": [
    {
     "data": {
      "image/png": "[encoded data removed]",
      "text/latex": [
       "$\\displaystyle \\frac{k v}{\\sqrt{\\frac{k^{2} v^{2}}{o_{p}^{2}} + 1}}$"
      ],
      "text/plain": [
       "       k⋅v       \n",
       "─────────────────\n",
       "      ___________\n",
       "     ╱  2  2     \n",
       "    ╱  k ⋅v      \n",
       "   ╱   ───── + 1 \n",
       "  ╱       2      \n",
       "╲╱      oₚ       "
      ]
     },
     "execution_count": 15,
     "metadata": {},
     "output_type": "execute_result"
    }
   ],
   "source": [
    "y"
   ]
  },
  {
   "cell_type": "code",
   "execution_count": null,
   "metadata": {},
   "outputs": [],
   "source": []
  }
 ],
 "metadata": {
  "kernelspec": {
   "display_name": "Test",
   "language": "python",
   "name": "python3"
  },
  "language_info": {
   "codemirror_mode": {
    "name": "ipython",
    "version": 3
   },
   "file_extension": ".py",
   "mimetype": "text/x-python",
   "name": "python",
   "nbconvert_exporter": "python",
   "pygments_lexer": "ipython3",
   "version": "3.9.11"
  },
  "orig_nbformat": 4
 },
 "nbformat": 4,
 "nbformat_minor": 2
}
