{
 "cells": [
  {
   "cell_type": "code",
   "execution_count": 30,
   "metadata": {},
   "outputs": [
    {
     "name": "stdout",
     "output_type": "stream",
     "text": [
      "[5, 1, 4, 3, 2]\n",
      "5 1\n",
      "1 5\n",
      "[1, 5, 4, 3, 2] [5, 1, 4, 3, 2] 1\n",
      "[1, 5, 4, 3, 2]\n",
      "5 4\n",
      "4 5\n",
      "[1, 4, 5, 3, 2] [1, 5, 4, 3, 2] 2\n",
      "[1, 4, 5, 3, 2]\n",
      "5 3\n",
      "3 5\n",
      "[1, 4, 3, 5, 2] [1, 4, 5, 3, 2] 3\n",
      "[1, 4, 3, 5, 2]\n",
      "5 2\n",
      "2 5\n",
      "[1, 4, 3, 2, 5] [1, 4, 3, 5, 2] 4\n",
      "[1, 4, 3, 2, 5]\n",
      "[1, 4, 3, 2, 5] [1, 4, 3, 2, 5] 0\n"
     ]
    }
   ],
   "source": [
    "A=int(input())\n",
    "B=[a for a in range(A)]\n",
    "\n",
    "for i in range(A):\n",
    "    B[i]=int(input())\n",
    "\n",
    "index=0\n",
    "\n",
    "while True:\n",
    "    E=B.copy()\n",
    "    print(E)\n",
    "    if index==i:\n",
    "        index=0\n",
    "\n",
    "    if B[index] < B[index+1] or B[index] == B[index+1]:\n",
    "        index=0\n",
    "        \n",
    "    if B[index] > B[index+1]:\n",
    "        c=B[index]\n",
    "        d=B[index+1]\n",
    "\n",
    "        print(c,d)\n",
    "\n",
    "        B[index]=d\n",
    "        B[index+1]=c\n",
    "        print(B[index],B[index+1])\n",
    "        index+=1\n",
    "    print(B,E,index)    \n",
    "\n",
    "    if B!=E:\n",
    "        continue\n",
    "    elif B==E:\n",
    "        break"
   ]
  },
  {
   "cell_type": "code",
   "execution_count": 35,
   "metadata": {},
   "outputs": [
    {
     "name": "stdout",
     "output_type": "stream",
     "text": [
      "1\n",
      "2\n",
      "4\n",
      "4\n",
      "5\n",
      "5\n",
      "6\n",
      "8\n",
      "43\n",
      "79\n"
     ]
    }
   ],
   "source": [
    "n = int(input())\n",
    "array=[a for a in range(n)]\n",
    "\n",
    "for a in range(n):\n",
    "    b=int(input())\n",
    "    array[a]=b\n",
    "\n",
    "for i in range(n - 1):\n",
    "    for j in range(n - i - 1):\n",
    "        if array[j] > array[j + 1]:\n",
    "            array[j], array[j + 1] = array[j + 1], array[j]\n",
    "            \n",
    "for k in array:\n",
    "    print(k)"
   ]
  },
  {
   "cell_type": "code",
   "execution_count": 3,
   "metadata": {},
   "outputs": [
    {
     "name": "stdout",
     "output_type": "stream",
     "text": [
      "1\n",
      "2\n",
      "3\n",
      "4\n",
      "5\n"
     ]
    }
   ],
   "source": [
    "A=int(input())\n",
    "B=[]\n",
    "\n",
    "for i in range(A):\n",
    "    c=int(input())\n",
    "    B.append(c)\n",
    "\n",
    "B.sort()\n",
    "\n",
    "for b in B:\n",
    "    print(b)"
   ]
  },
  {
   "cell_type": "code",
   "execution_count": null,
   "metadata": {},
   "outputs": [],
   "source": []
  }
 ],
 "metadata": {
  "kernelspec": {
   "display_name": "Test",
   "language": "python",
   "name": "python3"
  },
  "language_info": {
   "codemirror_mode": {
    "name": "ipython",
    "version": 3
   },
   "file_extension": ".py",
   "mimetype": "text/x-python",
   "name": "python",
   "nbconvert_exporter": "python",
   "pygments_lexer": "ipython3",
   "version": "3.9.11"
  },
  "orig_nbformat": 4,
  "vscode": {
   "interpreter": {
    "hash": "34d3f6eeb065e33650b05bdc027c19989b9c0cb093037dc6f9c6f89799bee22d"
   }
  }
 },
 "nbformat": 4,
 "nbformat_minor": 2
}
