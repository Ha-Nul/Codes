{
 "cells": [
  {
   "cell_type": "code",
   "execution_count": 60,
   "metadata": {},
   "outputs": [],
   "source": [
    "A=input()\n",
    "\n",
    "def Number(X):\n",
    "    N=int(X)\n",
    "    N_list=list(range(1,N+1))\n",
    "    count=0\n",
    "\n",
    "    for i in range(0,N):\n",
    "        if N_list[i] < 10:\n",
    "            count+=1\n",
    "        if N_list[i] >= 10 and N_list[i] < 100:\n",
    "            count+=1\n",
    "        if N_list[i] > 100 and N_list[i] < 1000:\n",
    "            A=N_list[i]//100\n",
    "            B=(N_list[i]-A*100)//10\n",
    "            C=N_list[i]-A*100-B*10\n",
    "\n",
    "            if A-B == B-C:\n",
    "                count+=1\n",
    "        \n",
    "    print(count, end=\"\")\n"
   ]
  },
  {
   "cell_type": "code",
   "execution_count": 49,
   "metadata": {},
   "outputs": [
    {
     "name": "stdout",
     "output_type": "stream",
     "text": [
      "99\n"
     ]
    }
   ],
   "source": [
    "N=int(input())\n",
    "N_list=list(range(1,N+1))\n",
    "count=0\n",
    "\n",
    "for i in range(0,N):\n",
    "    if N_list[i] < 10:\n",
    "        count+=1\n",
    "    if N_list[i] >= 10 and N_list[i] < 100:\n",
    "        count+=1\n",
    "    if N_list[i] > 100 and N_list[i] < 1000:\n",
    "        A=N_list[i]//100\n",
    "        B=(N_list[i]-A*100)//10\n",
    "        C=N_list[i]-A*100-B*10\n",
    "\n",
    "        if A-B == B-C:\n",
    "            count+=1\n",
    "    \n",
    "print(count)\n",
    "\n",
    "\n"
   ]
  },
  {
   "cell_type": "code",
   "execution_count": 44,
   "metadata": {},
   "outputs": [
    {
     "data": {
      "text/plain": [
       "110"
      ]
     },
     "execution_count": 44,
     "metadata": {},
     "output_type": "execute_result"
    }
   ],
   "source": [
    "N_list[N-1]"
   ]
  },
  {
   "cell_type": "code",
   "execution_count": 61,
   "metadata": {},
   "outputs": [
    {
     "name": "stdout",
     "output_type": "stream",
     "text": [
      "99"
     ]
    }
   ],
   "source": [
    "B=input()\n",
    "\n",
    "Number(B)"
   ]
  },
  {
   "cell_type": "code",
   "execution_count": 3,
   "metadata": {},
   "outputs": [
    {
     "name": "stdout",
     "output_type": "stream",
     "text": [
      "Enter a value: 10\n",
      "The result is: 10 "
     ]
    }
   ],
   "source": [
    "result = input(\"Enter a value: \")\n",
    "print(\"The result is:\", result, end=\" \")\n"
   ]
  },
  {
   "cell_type": "code",
   "execution_count": null,
   "metadata": {},
   "outputs": [],
   "source": []
  }
 ],
 "metadata": {
  "kernelspec": {
   "display_name": "Python 3 (ipykernel)",
   "language": "python",
   "name": "python3"
  },
  "language_info": {
   "codemirror_mode": {
    "name": "ipython",
    "version": 3
   },
   "file_extension": ".py",
   "mimetype": "text/x-python",
   "name": "python",
   "nbconvert_exporter": "python",
   "pygments_lexer": "ipython3",
   "version": "3.9.11"
  },
  "vscode": {
   "interpreter": {
    "hash": "34d3f6eeb065e33650b05bdc027c19989b9c0cb093037dc6f9c6f89799bee22d"
   }
  }
 },
 "nbformat": 4,
 "nbformat_minor": 2
}
