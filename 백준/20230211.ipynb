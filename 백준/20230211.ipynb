{
 "cells": [
  {
   "cell_type": "code",
   "execution_count": 12,
   "metadata": {},
   "outputs": [
    {
     "name": "stdout",
     "output_type": "stream",
     "text": [
      "1\n",
      "2\n",
      "3\n",
      "4\n",
      "5\n"
     ]
    }
   ],
   "source": [
    "A=int(input())\n",
    "B=[]\n",
    "\n",
    "for i in range(A):\n",
    "    B.append(i)\n",
    "    B[i]=int(input())\n",
    "\n",
    "    B.sort()\n",
    "\n",
    "for j in range(A):\n",
    "    print(B[j])"
   ]
  },
  {
   "cell_type": "code",
   "execution_count": 5,
   "metadata": {},
   "outputs": [
    {
     "ename": "ValueError",
     "evalue": "invalid literal for int() with base 10: ''",
     "output_type": "error",
     "traceback": [
      "\u001b[1;31m---------------------------------------------------------------------------\u001b[0m",
      "\u001b[1;31mValueError\u001b[0m                                Traceback (most recent call last)",
      "\u001b[1;32mc:\\Users\\128kbps\\Anaconda_temp\\Anaconda_rep\\백준\\20230211.ipynb Cell 2\u001b[0m in \u001b[0;36m<cell line: 1>\u001b[1;34m()\u001b[0m\n\u001b[0;32m      <a href='vscode-notebook-cell:/c%3A/Users/128kbps/Anaconda_temp/Anaconda_rep/%EB%B0%B1%EC%A4%80/20230211.ipynb#W1sZmlsZQ%3D%3D?line=1'>2</a>\u001b[0m B\u001b[39m=\u001b[39m[\u001b[39m0\u001b[39m \u001b[39mfor\u001b[39;00m j \u001b[39min\u001b[39;00m \u001b[39mrange\u001b[39m(A)]\n\u001b[0;32m      <a href='vscode-notebook-cell:/c%3A/Users/128kbps/Anaconda_temp/Anaconda_rep/%EB%B0%B1%EC%A4%80/20230211.ipynb#W1sZmlsZQ%3D%3D?line=3'>4</a>\u001b[0m \u001b[39mfor\u001b[39;00m i \u001b[39min\u001b[39;00m \u001b[39mrange\u001b[39m(A):\n\u001b[1;32m----> <a href='vscode-notebook-cell:/c%3A/Users/128kbps/Anaconda_temp/Anaconda_rep/%EB%B0%B1%EC%A4%80/20230211.ipynb#W1sZmlsZQ%3D%3D?line=4'>5</a>\u001b[0m     B[i]\u001b[39m=\u001b[39m\u001b[39mint\u001b[39;49m(\u001b[39minput\u001b[39;49m())\n\u001b[0;32m      <a href='vscode-notebook-cell:/c%3A/Users/128kbps/Anaconda_temp/Anaconda_rep/%EB%B0%B1%EC%A4%80/20230211.ipynb#W1sZmlsZQ%3D%3D?line=6'>7</a>\u001b[0m C\u001b[39m=\u001b[39m\u001b[39mset\u001b[39m(B)\n\u001b[0;32m      <a href='vscode-notebook-cell:/c%3A/Users/128kbps/Anaconda_temp/Anaconda_rep/%EB%B0%B1%EC%A4%80/20230211.ipynb#W1sZmlsZQ%3D%3D?line=7'>8</a>\u001b[0m \u001b[39mprint\u001b[39m(C)\n",
      "\u001b[1;31mValueError\u001b[0m: invalid literal for int() with base 10: ''"
     ]
    }
   ],
   "source": [
    "for A in range(1,1000):\n",
    "    B=[0 for j in range(A)]\n",
    "\n",
    "    for i in range(A):\n",
    "        B[i]=int(input())\n",
    "\n",
    "    C=set(B)\n",
    "    print(C)"
   ]
  },
  {
   "cell_type": "code",
   "execution_count": 39,
   "metadata": {},
   "outputs": [
    {
     "name": "stdout",
     "output_type": "stream",
     "text": [
      "21 50\n"
     ]
    }
   ],
   "source": [
    "H,M=map(int,input().split())\n",
    "M1=M-45\n",
    "H1=H-1\n",
    "\n",
    "if H1 < 0:\n",
    "    H1=23\n",
    "else:\n",
    "    None\n",
    "\n",
    "if M1 >= 0:\n",
    "    H1=H\n",
    "elif M1 < 0:\n",
    "    M1=60-abs(M1)\n",
    "\n",
    "print(H1,M1)"
   ]
  },
  {
   "cell_type": "code",
   "execution_count": 69,
   "metadata": {},
   "outputs": [
    {
     "name": "stdout",
     "output_type": "stream",
     "text": [
      "[[30, 20], [10, 10], [10, 20]]\n",
      "30 10\n"
     ]
    }
   ],
   "source": [
    "inti=[]\n",
    "a=0\n",
    "v1=[]\n",
    "v2=[]\n",
    "\n",
    "v1f=0\n",
    "v2f=0\n",
    "\n",
    "for i in range(3):\n",
    "    A=list(map(int,input().split()))\n",
    "    inti.append(A)\n",
    "\n",
    "for j in range(3):\n",
    "    v1.append(inti[j][0])\n",
    "    v2.append(inti[j][1])\n",
    "\n",
    "for k in range(3):\n",
    "    v1c=v1.count(v1[k])\n",
    "    v2c=v2.count(v2[k])\n",
    "\n",
    "    if v1c == 1:\n",
    "        v1f=v1[k]\n",
    "    \n",
    "    if v2c == 1:\n",
    "        v2f=v2[k]\n",
    "\n",
    "print(v1f,v2f)\n",
    "\n"
   ]
  },
  {
   "cell_type": "code",
   "execution_count": 88,
   "metadata": {},
   "outputs": [
    {
     "name": "stdout",
     "output_type": "stream",
     "text": [
      "1 1 1\n",
      "2 1 1\n",
      "2 2 2\n",
      "2\n",
      "3 1 1\n",
      "3 3 2\n",
      "3\n",
      "4 1 1\n",
      "4 2 2\n",
      "4 4 3\n",
      "5 1 1\n",
      "5 5 2\n",
      "5\n",
      "6 1 1\n",
      "6 2 2\n",
      "6 3 3\n",
      "6 6 4\n",
      "7 1 1\n",
      "7 7 2\n",
      "7\n",
      "8 1 1\n",
      "8 2 2\n",
      "8 4 3\n",
      "8 8 4\n",
      "9 1 1\n",
      "9 3 2\n",
      "9 9 3\n",
      "10 1 1\n",
      "10 2 2\n",
      "10 5 3\n",
      "10 10 4\n",
      "11 1 1\n",
      "11 11 2\n",
      "11\n",
      "12 1 1\n",
      "12 2 2\n",
      "12 3 3\n",
      "12 4 4\n",
      "12 6 5\n",
      "12 12 6\n",
      "13 1 1\n",
      "13 13 2\n",
      "13\n",
      "14 1 1\n",
      "14 2 2\n",
      "14 7 3\n",
      "14 14 4\n",
      "15 1 1\n",
      "15 3 2\n",
      "15 5 3\n",
      "15 15 4\n",
      "16 1 1\n",
      "16 2 2\n",
      "16 4 3\n",
      "16 8 4\n",
      "16 16 5\n",
      "17 1 1\n",
      "17 17 2\n",
      "17\n"
     ]
    }
   ],
   "source": [
    "A,B=map(int,input().split())\n",
    "\n",
    "init_list=[i for i in range(A,B+1,1)]\n",
    "\n",
    "for j in init_list:\n",
    "    count=0\n",
    "    for i in range(A,B+1):\n",
    "        if j % i == 0 :\n",
    "            count+=1\n",
    "            print(j,i,count)\n",
    "        \n",
    "    if j!=1 and count==2:\n",
    "        print(j)    "
   ]
  },
  {
   "cell_type": "code",
   "execution_count": 99,
   "metadata": {},
   "outputs": [],
   "source": [
    "A,B=map(int,input().split())\n",
    "\n",
    "for j in range(A,B+1):\n",
    "    count=0\n",
    "    for i in range(1,B+1):\n",
    "        if j % i == 0 :\n",
    "            count+=1\n",
    "            print(j,i,count)\n",
    "\n",
    "    if j!=1 and count==2:\n",
    "        print(j)    "
   ]
  },
  {
   "cell_type": "code",
   "execution_count": 106,
   "metadata": {},
   "outputs": [
    {
     "name": "stdout",
     "output_type": "stream",
     "text": [
      "1 2 5\n",
      "2 4 20\n",
      "0\n"
     ]
    }
   ],
   "source": [
    "V,W,D=map(int,input().split())\n",
    "h=0\n",
    "y=0\n",
    "\n",
    "while y < D:\n",
    "    x=0\n",
    "    y=0\n",
    "    t=0\n",
    "    while x < W:\n",
    "        t+=1\n",
    "        x=V*t\n",
    "        y=5*t**2\n",
    "\n",
    "        print(t,x,y)\n",
    "\n",
    "        if x >= W:\n",
    "            break\n",
    "    \n",
    "    V=4*V/5\n",
    "\n",
    "    if h >= D:\n",
    "        break\n",
    "\n",
    "print(h)\n"
   ]
  },
  {
   "cell_type": "code",
   "execution_count": null,
   "metadata": {},
   "outputs": [],
   "source": []
  }
 ],
 "metadata": {
  "kernelspec": {
   "display_name": "Test",
   "language": "python",
   "name": "python3"
  },
  "language_info": {
   "codemirror_mode": {
    "name": "ipython",
    "version": 3
   },
   "file_extension": ".py",
   "mimetype": "text/x-python",
   "name": "python",
   "nbconvert_exporter": "python",
   "pygments_lexer": "ipython3",
   "version": "3.9.11"
  },
  "orig_nbformat": 4,
  "vscode": {
   "interpreter": {
    "hash": "34d3f6eeb065e33650b05bdc027c19989b9c0cb093037dc6f9c6f89799bee22d"
   }
  }
 },
 "nbformat": 4,
 "nbformat_minor": 2
}
