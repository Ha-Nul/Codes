{
 "cells": [
  {
   "cell_type": "code",
   "execution_count": 10,
   "metadata": {},
   "outputs": [
    {
     "name": "stdout",
     "output_type": "stream",
     "text": [
      "0 ['B', 'W', 'B'] 0\n",
      "1 ['W', 'W', 'B'] 1\n",
      "2 ['', 'B', 'B'] 1\n",
      "[['B', 'W', 'B'], ['W', 'W', 'B'], ['', 'B', 'B']]\n",
      "[0, 1, 1]\n"
     ]
    }
   ],
   "source": [
    "M,N=map(int,input().split())\n",
    "\n",
    "Matrix=[]\n",
    "count_row=[]\n",
    "\n",
    "for i in range(N):\n",
    "    row=[]\n",
    "    count=0\n",
    "    BW_init='B'\n",
    "\n",
    "    for j in range(M):\n",
    "        BW_comp=BW_init\n",
    "        BW_init=input()\n",
    "\n",
    "        if BW_comp != BW_init:\n",
    "            row.append(BW_init)\n",
    "        elif j==0 and BW_comp == BW_init:\n",
    "            row.append(BW_init)\n",
    "        else:\n",
    "            count+=1\n",
    "            row.append(BW_init)\n",
    "\n",
    "    count_row.append(count)\n",
    "    print(i,row,count)\n",
    "\n",
    "    Matrix.append(row)\n",
    "\n",
    "print(Matrix)\n",
    "print(count_row)\n",
    "\n",
    "for k in count_row:\n",
    "    if i>"
   ]
  },
  {
   "cell_type": "code",
   "execution_count": 15,
   "metadata": {},
   "outputs": [
    {
     "name": "stdout",
     "output_type": "stream",
     "text": [
      "[2]\n",
      "[2, 3]\n",
      "[2, 3, 4]\n",
      "[2, 3, 1, 4]\n",
      "[2, 3, 1, 2, 4]\n"
     ]
    }
   ],
   "source": [
    "A_0=0\n",
    "B=[]\n",
    "\n",
    "for i in range(5):\n",
    "    A=int(input())\n",
    "\n",
    "    if A >= A_0:\n",
    "        B.append(A)\n",
    "\n",
    "    elif A < A_0:\n",
    "        B.append(0)\n",
    "        while B[i] < 10:\n",
    "        B[i]=A_0\n",
    "        B[i-1]=A\n",
    "    A_0=B[i]\n",
    "\n",
    "    print(B)\n",
    "    \n",
    "\n"
   ]
  },
  {
   "cell_type": "code",
   "execution_count": 29,
   "metadata": {},
   "outputs": [
    {
     "name": "stdout",
     "output_type": "stream",
     "text": [
      "74\n",
      "90\n"
     ]
    }
   ],
   "source": [
    "Sort_A=[i for i in range(5)]\n",
    "Sort_sum=0\n",
    "\n",
    "for j in range(5):\n",
    "    Sort_A[j]=int(input())\n",
    "    Sort_sum+=Sort_A[j]\n",
    "\n",
    "Sort_A.sort()\n",
    "Sort_Avg=int(Sort_sum/5)\n",
    "\n",
    "print(Sort_Avg)\n",
    "print(Sort_A[2])"
   ]
  },
  {
   "cell_type": "code",
   "execution_count": null,
   "metadata": {},
   "outputs": [],
   "source": []
  }
 ],
 "metadata": {
  "kernelspec": {
   "display_name": "Test",
   "language": "python",
   "name": "python3"
  },
  "language_info": {
   "codemirror_mode": {
    "name": "ipython",
    "version": 3
   },
   "file_extension": ".py",
   "mimetype": "text/x-python",
   "name": "python",
   "nbconvert_exporter": "python",
   "pygments_lexer": "ipython3",
   "version": "3.9.11"
  },
  "orig_nbformat": 4,
  "vscode": {
   "interpreter": {
    "hash": "34d3f6eeb065e33650b05bdc027c19989b9c0cb093037dc6f9c6f89799bee22d"
   }
  }
 },
 "nbformat": 4,
 "nbformat_minor": 2
}
