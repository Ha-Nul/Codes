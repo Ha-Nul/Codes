{
 "cells": [
  {
   "cell_type": "code",
   "execution_count": 36,
   "metadata": {},
   "outputs": [
    {
     "name": "stdout",
     "output_type": "stream",
     "text": [
      "2\n",
      "1\n",
      "0\n"
     ]
    }
   ],
   "source": [
    "A=int(input())\n",
    "B=[]\n",
    "\n",
    "for i in range(A):\n",
    "    C=list(map(int,input().split()))\n",
    "    B.append(C)\n",
    "\n",
    "E=[]\n",
    "\n",
    "for j in range(A):\n",
    "    D=B[j]\n",
    "    \n",
    "    Center_len=((D[0]-D[3])**2 + (D[1]-D[4])**2)**(1/2)\n",
    "    Radii=[D[2],D[5]]\n",
    "    Radii_max=max(Radii)\n",
    "    Radii_min=min(Radii)\n",
    "\n",
    "    #print(Center_len,Radii_max)\n",
    "\n",
    "    if Radii != [0,0]:\n",
    "        if Center_len > Radii_max:\n",
    "            if sum(Radii) > Center_len:\n",
    "                E.append(2)\n",
    "            elif sum(Radii) == Center_len:\n",
    "                E.append(1)\n",
    "            elif sum(Radii) < Center_len:\n",
    "                E.append(0)\n",
    "        \n",
    "        elif Center_len < Radii_max and Center_len !=0 :\n",
    "            if Radii_min + Center_len > Radii_max:\n",
    "                E.append(2)\n",
    "            elif Radii_min + Center_len == Radii_max:\n",
    "                E.append(1)\n",
    "            elif Radii_min + Center_len < Radii_max:\n",
    "                E.append(0)\n",
    "\n",
    "        elif Center_len == Radii_max:\n",
    "            E.append(2)\n",
    "        \n",
    "        elif Center_len == 0:\n",
    "            if D[2] == D[5]:\n",
    "                E.append(-1)\n",
    "            elif D[2] != D[5]:\n",
    "                E.append(0)\n",
    "    \n",
    "    else:\n",
    "        if Center_len != 0:\n",
    "            E.append(0)\n",
    "        elif Center_len == 0:\n",
    "            E.append(-1)\n",
    "\n",
    "for l in E:\n",
    "    print(l)\n",
    "\n",
    "#print(E)\n",
    "#print(B)"
   ]
  },
  {
   "cell_type": "code",
   "execution_count": 18,
   "metadata": {},
   "outputs": [
    {
     "name": "stdout",
     "output_type": "stream",
     "text": [
      "8\n"
     ]
    }
   ],
   "source": [
    "A=input()\n",
    "B=len(A)\n",
    "\n",
    "print(B)"
   ]
  },
  {
   "cell_type": "code",
   "execution_count": null,
   "metadata": {},
   "outputs": [],
   "source": []
  }
 ],
 "metadata": {
  "kernelspec": {
   "display_name": "Test",
   "language": "python",
   "name": "python3"
  },
  "language_info": {
   "codemirror_mode": {
    "name": "ipython",
    "version": 3
   },
   "file_extension": ".py",
   "mimetype": "text/x-python",
   "name": "python",
   "nbconvert_exporter": "python",
   "pygments_lexer": "ipython3",
   "version": "3.9.11"
  },
  "orig_nbformat": 4,
  "vscode": {
   "interpreter": {
    "hash": "34d3f6eeb065e33650b05bdc027c19989b9c0cb093037dc6f9c6f89799bee22d"
   }
  }
 },
 "nbformat": 4,
 "nbformat_minor": 2
}
