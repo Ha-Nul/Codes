{
 "cells": [
  {
   "cell_type": "code",
   "execution_count": 8,
   "metadata": {},
   "outputs": [
    {
     "name": "stdout",
     "output_type": "stream",
     "text": [
      "40.000 %\n",
      "57.143 %\n",
      "33.333 %\n",
      "66.667 %\n",
      "55.556 %\n"
     ]
    }
   ],
   "source": [
    "A=int(input())\n",
    "\n",
    "for i in range(A):\n",
    "    B=list(map(int,input().split()))\n",
    "    d=0\n",
    "    count=0\n",
    "\n",
    "    for j in B:\n",
    "        d+=j\n",
    "    e=(d-B[0])/(len(B)-1)\n",
    "\n",
    "    for k in B[1:]:\n",
    "        if k > e:\n",
    "            count+=1\n",
    "        else:\n",
    "            continue\n",
    "\n",
    "    g=(count/(len(B)-1))*100\n",
    "\n",
    "\n",
    "    print(f\"{g:.3f}%\")\n"
   ]
  },
  {
   "cell_type": "code",
   "execution_count": 1,
   "metadata": {},
   "outputs": [
    {
     "name": "stdout",
     "output_type": "stream",
     "text": [
      "7931\n"
     ]
    }
   ],
   "source": [
    "A,B,C=map(int,input().split())\n",
    "\n",
    "print(A+B+C)"
   ]
  },
  {
   "cell_type": "code",
   "execution_count": null,
   "metadata": {},
   "outputs": [],
   "source": []
  }
 ],
 "metadata": {
  "kernelspec": {
   "display_name": "Test",
   "language": "python",
   "name": "python3"
  },
  "language_info": {
   "codemirror_mode": {
    "name": "ipython",
    "version": 3
   },
   "file_extension": ".py",
   "mimetype": "text/x-python",
   "name": "python",
   "nbconvert_exporter": "python",
   "pygments_lexer": "ipython3",
   "version": "3.9.11"
  },
  "orig_nbformat": 4,
  "vscode": {
   "interpreter": {
    "hash": "34d3f6eeb065e33650b05bdc027c19989b9c0cb093037dc6f9c6f89799bee22d"
   }
  }
 },
 "nbformat": 4,
 "nbformat_minor": 2
}
